{
 "cells": [
  {
   "cell_type": "markdown",
   "id": "2711fec5",
   "metadata": {},
   "source": [
    "# Problem Statement:\n",
    "The age of abalone is determined by cutting the shell through the cone, staining it, and counting the number of rings through a microscope -- a boring and time-consuming task. Other measurements, which are easier to obtain, are used to predict the age. Further information, such as weather patterns and location (hence food availability) may be required to solve the problem."
   ]
  },
  {
   "cell_type": "markdown",
   "id": "cf4169f9",
   "metadata": {},
   "source": [
    "# Attribute Information\n",
    "Given is the attribute name, attribute type, the measurement unit and a brief description. The number of rings is the value to predict.\n",
    "\n",
    "Name / Data Type / Measurement Unit / Description -----------------------------. Sex / nominal / -- / M, F, and I (infant) Length / continuous / mm / Longest shell measurement Diameter / continuous / mm / perpendicular to length Height / continuous / mm / with meat in shell Whole weight / continuous / grams / whole abalone Shucked weight / continuous / grams / weight of meat Viscera weight / continuous / grams / gut weight (after bleeding) Shell weight / continuous / grams / after being dried Rings / integer / -- / +1.5 gives the age in years.\n",
    "\n",
    "You have to predict the rings of each abalone which will lead us to the age of that abalone."
   ]
  },
  {
   "cell_type": "markdown",
   "id": "703ece68",
   "metadata": {},
   "source": [
    "->Imporing Necessaries libraries: Numpy, pandas, matplotlib & seaborn.\n",
    "\n",
    "->Importing Machine learning Algorrithm : Linear Regression, Decision Tree Regressor,Randomforest regressor, SVM reg.\n",
    "\n",
    "->Importing Label encoder libraries as well as standard scaler libraries."
   ]
  },
  {
   "cell_type": "code",
   "execution_count": 1,
   "id": "35ff81e6",
   "metadata": {},
   "outputs": [],
   "source": [
    "import numpy as np\n",
    "import pandas as pd\n",
    "import matplotlib.pyplot as plt\n",
    "import seaborn as sns\n",
    "\n",
    "from sklearn.linear_model import LinearRegression\n",
    "from sklearn.tree import DecisionTreeRegressor\n",
    "from sklearn.ensemble import RandomForestRegressor\n",
    "from sklearn.svm import SVR\n",
    "from sklearn.metrics import mean_squared_error,mean_absolute_error\n",
    "from sklearn.model_selection import train_test_split\n",
    "from sklearn.preprocessing import LabelEncoder\n",
    "from sklearn.preprocessing import StandardScaler\n",
    "import warnings\n",
    "warnings.filterwarnings('ignore')"
   ]
  },
  {
   "cell_type": "code",
   "execution_count": 2,
   "id": "900c728c",
   "metadata": {},
   "outputs": [
    {
     "data": {
      "text/html": [
       "<div>\n",
       "<style scoped>\n",
       "    .dataframe tbody tr th:only-of-type {\n",
       "        vertical-align: middle;\n",
       "    }\n",
       "\n",
       "    .dataframe tbody tr th {\n",
       "        vertical-align: top;\n",
       "    }\n",
       "\n",
       "    .dataframe thead th {\n",
       "        text-align: right;\n",
       "    }\n",
       "</style>\n",
       "<table border=\"1\" class=\"dataframe\">\n",
       "  <thead>\n",
       "    <tr style=\"text-align: right;\">\n",
       "      <th></th>\n",
       "      <th>Sex</th>\n",
       "      <th>Length</th>\n",
       "      <th>Diameter</th>\n",
       "      <th>Height</th>\n",
       "      <th>Whole weight</th>\n",
       "      <th>Shucked weight</th>\n",
       "      <th>Viscera weight</th>\n",
       "      <th>Shell weight</th>\n",
       "      <th>Rings</th>\n",
       "    </tr>\n",
       "  </thead>\n",
       "  <tbody>\n",
       "    <tr>\n",
       "      <th>0</th>\n",
       "      <td>M</td>\n",
       "      <td>0.455</td>\n",
       "      <td>0.365</td>\n",
       "      <td>0.095</td>\n",
       "      <td>0.5140</td>\n",
       "      <td>0.2245</td>\n",
       "      <td>0.1010</td>\n",
       "      <td>0.150</td>\n",
       "      <td>15</td>\n",
       "    </tr>\n",
       "    <tr>\n",
       "      <th>1</th>\n",
       "      <td>M</td>\n",
       "      <td>0.350</td>\n",
       "      <td>0.265</td>\n",
       "      <td>0.090</td>\n",
       "      <td>0.2255</td>\n",
       "      <td>0.0995</td>\n",
       "      <td>0.0485</td>\n",
       "      <td>0.070</td>\n",
       "      <td>7</td>\n",
       "    </tr>\n",
       "    <tr>\n",
       "      <th>2</th>\n",
       "      <td>F</td>\n",
       "      <td>0.530</td>\n",
       "      <td>0.420</td>\n",
       "      <td>0.135</td>\n",
       "      <td>0.6770</td>\n",
       "      <td>0.2565</td>\n",
       "      <td>0.1415</td>\n",
       "      <td>0.210</td>\n",
       "      <td>9</td>\n",
       "    </tr>\n",
       "    <tr>\n",
       "      <th>3</th>\n",
       "      <td>M</td>\n",
       "      <td>0.440</td>\n",
       "      <td>0.365</td>\n",
       "      <td>0.125</td>\n",
       "      <td>0.5160</td>\n",
       "      <td>0.2155</td>\n",
       "      <td>0.1140</td>\n",
       "      <td>0.155</td>\n",
       "      <td>10</td>\n",
       "    </tr>\n",
       "    <tr>\n",
       "      <th>4</th>\n",
       "      <td>I</td>\n",
       "      <td>0.330</td>\n",
       "      <td>0.255</td>\n",
       "      <td>0.080</td>\n",
       "      <td>0.2050</td>\n",
       "      <td>0.0895</td>\n",
       "      <td>0.0395</td>\n",
       "      <td>0.055</td>\n",
       "      <td>7</td>\n",
       "    </tr>\n",
       "  </tbody>\n",
       "</table>\n",
       "</div>"
      ],
      "text/plain": [
       "  Sex  Length  Diameter  Height  Whole weight  Shucked weight  Viscera weight  \\\n",
       "0   M   0.455     0.365   0.095        0.5140          0.2245          0.1010   \n",
       "1   M   0.350     0.265   0.090        0.2255          0.0995          0.0485   \n",
       "2   F   0.530     0.420   0.135        0.6770          0.2565          0.1415   \n",
       "3   M   0.440     0.365   0.125        0.5160          0.2155          0.1140   \n",
       "4   I   0.330     0.255   0.080        0.2050          0.0895          0.0395   \n",
       "\n",
       "   Shell weight  Rings  \n",
       "0         0.150     15  \n",
       "1         0.070      7  \n",
       "2         0.210      9  \n",
       "3         0.155     10  \n",
       "4         0.055      7  "
      ]
     },
     "execution_count": 2,
     "metadata": {},
     "output_type": "execute_result"
    }
   ],
   "source": [
    "# Loading Dataset\n",
    "data = pd.read_csv('abalone.csv')\n",
    "df=pd.DataFrame(data)\n",
    "df.head()"
   ]
  },
  {
   "cell_type": "code",
   "execution_count": 3,
   "id": "c3eb8688",
   "metadata": {},
   "outputs": [
    {
     "data": {
      "text/plain": [
       "(4177, 9)"
      ]
     },
     "execution_count": 3,
     "metadata": {},
     "output_type": "execute_result"
    }
   ],
   "source": [
    "df.shape"
   ]
  },
  {
   "cell_type": "markdown",
   "id": "6837b539",
   "metadata": {},
   "source": [
    "Total rows = 4177 & colums = 9\n",
    "\n",
    "Creating new pandas Dataframe = df\n",
    "\n",
    "The Dataset has total 9 Variables where ring is the target or dependent variable\n",
    "Most of the values of independent variables are continous (float & integer)\n"
   ]
  },
  {
   "cell_type": "code",
   "execution_count": 4,
   "id": "4521356f",
   "metadata": {
    "scrolled": true
   },
   "outputs": [
    {
     "data": {
      "text/html": [
       "<div>\n",
       "<style scoped>\n",
       "    .dataframe tbody tr th:only-of-type {\n",
       "        vertical-align: middle;\n",
       "    }\n",
       "\n",
       "    .dataframe tbody tr th {\n",
       "        vertical-align: top;\n",
       "    }\n",
       "\n",
       "    .dataframe thead th {\n",
       "        text-align: right;\n",
       "    }\n",
       "</style>\n",
       "<table border=\"1\" class=\"dataframe\">\n",
       "  <thead>\n",
       "    <tr style=\"text-align: right;\">\n",
       "      <th></th>\n",
       "      <th>Length</th>\n",
       "      <th>Diameter</th>\n",
       "      <th>Height</th>\n",
       "      <th>Whole weight</th>\n",
       "      <th>Shucked weight</th>\n",
       "      <th>Viscera weight</th>\n",
       "      <th>Shell weight</th>\n",
       "      <th>Rings</th>\n",
       "    </tr>\n",
       "  </thead>\n",
       "  <tbody>\n",
       "    <tr>\n",
       "      <th>count</th>\n",
       "      <td>4177.000000</td>\n",
       "      <td>4177.000000</td>\n",
       "      <td>4177.000000</td>\n",
       "      <td>4177.000000</td>\n",
       "      <td>4177.000000</td>\n",
       "      <td>4177.000000</td>\n",
       "      <td>4177.000000</td>\n",
       "      <td>4177.000000</td>\n",
       "    </tr>\n",
       "    <tr>\n",
       "      <th>mean</th>\n",
       "      <td>0.523992</td>\n",
       "      <td>0.407881</td>\n",
       "      <td>0.139516</td>\n",
       "      <td>0.828742</td>\n",
       "      <td>0.359367</td>\n",
       "      <td>0.180594</td>\n",
       "      <td>0.238831</td>\n",
       "      <td>9.933684</td>\n",
       "    </tr>\n",
       "    <tr>\n",
       "      <th>std</th>\n",
       "      <td>0.120093</td>\n",
       "      <td>0.099240</td>\n",
       "      <td>0.041827</td>\n",
       "      <td>0.490389</td>\n",
       "      <td>0.221963</td>\n",
       "      <td>0.109614</td>\n",
       "      <td>0.139203</td>\n",
       "      <td>3.224169</td>\n",
       "    </tr>\n",
       "    <tr>\n",
       "      <th>min</th>\n",
       "      <td>0.075000</td>\n",
       "      <td>0.055000</td>\n",
       "      <td>0.000000</td>\n",
       "      <td>0.002000</td>\n",
       "      <td>0.001000</td>\n",
       "      <td>0.000500</td>\n",
       "      <td>0.001500</td>\n",
       "      <td>1.000000</td>\n",
       "    </tr>\n",
       "    <tr>\n",
       "      <th>25%</th>\n",
       "      <td>0.450000</td>\n",
       "      <td>0.350000</td>\n",
       "      <td>0.115000</td>\n",
       "      <td>0.441500</td>\n",
       "      <td>0.186000</td>\n",
       "      <td>0.093500</td>\n",
       "      <td>0.130000</td>\n",
       "      <td>8.000000</td>\n",
       "    </tr>\n",
       "    <tr>\n",
       "      <th>50%</th>\n",
       "      <td>0.545000</td>\n",
       "      <td>0.425000</td>\n",
       "      <td>0.140000</td>\n",
       "      <td>0.799500</td>\n",
       "      <td>0.336000</td>\n",
       "      <td>0.171000</td>\n",
       "      <td>0.234000</td>\n",
       "      <td>9.000000</td>\n",
       "    </tr>\n",
       "    <tr>\n",
       "      <th>75%</th>\n",
       "      <td>0.615000</td>\n",
       "      <td>0.480000</td>\n",
       "      <td>0.165000</td>\n",
       "      <td>1.153000</td>\n",
       "      <td>0.502000</td>\n",
       "      <td>0.253000</td>\n",
       "      <td>0.329000</td>\n",
       "      <td>11.000000</td>\n",
       "    </tr>\n",
       "    <tr>\n",
       "      <th>max</th>\n",
       "      <td>0.815000</td>\n",
       "      <td>0.650000</td>\n",
       "      <td>1.130000</td>\n",
       "      <td>2.825500</td>\n",
       "      <td>1.488000</td>\n",
       "      <td>0.760000</td>\n",
       "      <td>1.005000</td>\n",
       "      <td>29.000000</td>\n",
       "    </tr>\n",
       "  </tbody>\n",
       "</table>\n",
       "</div>"
      ],
      "text/plain": [
       "            Length     Diameter       Height  Whole weight  Shucked weight  \\\n",
       "count  4177.000000  4177.000000  4177.000000   4177.000000     4177.000000   \n",
       "mean      0.523992     0.407881     0.139516      0.828742        0.359367   \n",
       "std       0.120093     0.099240     0.041827      0.490389        0.221963   \n",
       "min       0.075000     0.055000     0.000000      0.002000        0.001000   \n",
       "25%       0.450000     0.350000     0.115000      0.441500        0.186000   \n",
       "50%       0.545000     0.425000     0.140000      0.799500        0.336000   \n",
       "75%       0.615000     0.480000     0.165000      1.153000        0.502000   \n",
       "max       0.815000     0.650000     1.130000      2.825500        1.488000   \n",
       "\n",
       "       Viscera weight  Shell weight        Rings  \n",
       "count     4177.000000   4177.000000  4177.000000  \n",
       "mean         0.180594      0.238831     9.933684  \n",
       "std          0.109614      0.139203     3.224169  \n",
       "min          0.000500      0.001500     1.000000  \n",
       "25%          0.093500      0.130000     8.000000  \n",
       "50%          0.171000      0.234000     9.000000  \n",
       "75%          0.253000      0.329000    11.000000  \n",
       "max          0.760000      1.005000    29.000000  "
      ]
     },
     "execution_count": 4,
     "metadata": {},
     "output_type": "execute_result"
    }
   ],
   "source": [
    "#data statistics\n",
    "df.describe()"
   ]
  },
  {
   "cell_type": "code",
   "execution_count": 5,
   "id": "22ae85ec",
   "metadata": {
    "scrolled": true
   },
   "outputs": [
    {
     "name": "stdout",
     "output_type": "stream",
     "text": [
      "<class 'pandas.core.frame.DataFrame'>\n",
      "RangeIndex: 4177 entries, 0 to 4176\n",
      "Data columns (total 9 columns):\n",
      " #   Column          Non-Null Count  Dtype  \n",
      "---  ------          --------------  -----  \n",
      " 0   Sex             4177 non-null   object \n",
      " 1   Length          4177 non-null   float64\n",
      " 2   Diameter        4177 non-null   float64\n",
      " 3   Height          4177 non-null   float64\n",
      " 4   Whole weight    4177 non-null   float64\n",
      " 5   Shucked weight  4177 non-null   float64\n",
      " 6   Viscera weight  4177 non-null   float64\n",
      " 7   Shell weight    4177 non-null   float64\n",
      " 8   Rings           4177 non-null   int64  \n",
      "dtypes: float64(7), int64(1), object(1)\n",
      "memory usage: 293.8+ KB\n"
     ]
    }
   ],
   "source": [
    "df.info()"
   ]
  },
  {
   "cell_type": "code",
   "execution_count": 6,
   "id": "ae543385",
   "metadata": {},
   "outputs": [
    {
     "data": {
      "text/plain": [
       "Sex               0\n",
       "Length            0\n",
       "Diameter          0\n",
       "Height            0\n",
       "Whole weight      0\n",
       "Shucked weight    0\n",
       "Viscera weight    0\n",
       "Shell weight      0\n",
       "Rings             0\n",
       "dtype: int64"
      ]
     },
     "execution_count": 6,
     "metadata": {},
     "output_type": "execute_result"
    }
   ],
   "source": [
    "df.isnull().sum()"
   ]
  },
  {
   "cell_type": "markdown",
   "id": "e5b7bdf3",
   "metadata": {},
   "source": [
    "There is no null or missing values and 7 float vbariables with Target variable(rings) is int variable."
   ]
  },
  {
   "cell_type": "markdown",
   "id": "a704412c",
   "metadata": {},
   "source": [
    "since dataset values are not comlex, box plot is to used for studing further."
   ]
  },
  {
   "cell_type": "code",
   "execution_count": 7,
   "id": "af1a8e93",
   "metadata": {},
   "outputs": [
    {
     "data": {
      "text/plain": [
       "M    1528\n",
       "I    1342\n",
       "F    1307\n",
       "Name: Sex, dtype: int64"
      ]
     },
     "execution_count": 7,
     "metadata": {},
     "output_type": "execute_result"
    }
   ],
   "source": [
    "df['Sex'].value_counts()"
   ]
  },
  {
   "cell_type": "code",
   "execution_count": 8,
   "id": "2f9fc3ac",
   "metadata": {},
   "outputs": [
    {
     "data": {
      "image/png": "[encoded data removed]",
      "text/plain": [
       "<Figure size 432x288 with 1 Axes>"
      ]
     },
     "metadata": {
      "needs_background": "light"
     },
     "output_type": "display_data"
    }
   ],
   "source": [
    "sns.countplot(df['Sex']);"
   ]
  },
  {
   "cell_type": "markdown",
   "id": "539582bc",
   "metadata": {},
   "source": [
    "# Label Encoder"
   ]
  },
  {
   "cell_type": "code",
   "execution_count": 9,
   "id": "d28616b5",
   "metadata": {},
   "outputs": [
    {
     "data": {
      "text/html": [
       "<div>\n",
       "<style scoped>\n",
       "    .dataframe tbody tr th:only-of-type {\n",
       "        vertical-align: middle;\n",
       "    }\n",
       "\n",
       "    .dataframe tbody tr th {\n",
       "        vertical-align: top;\n",
       "    }\n",
       "\n",
       "    .dataframe thead th {\n",
       "        text-align: right;\n",
       "    }\n",
       "</style>\n",
       "<table border=\"1\" class=\"dataframe\">\n",
       "  <thead>\n",
       "    <tr style=\"text-align: right;\">\n",
       "      <th></th>\n",
       "      <th>Sex</th>\n",
       "      <th>Length</th>\n",
       "      <th>Diameter</th>\n",
       "      <th>Height</th>\n",
       "      <th>Whole weight</th>\n",
       "      <th>Shucked weight</th>\n",
       "      <th>Viscera weight</th>\n",
       "      <th>Shell weight</th>\n",
       "      <th>Rings</th>\n",
       "    </tr>\n",
       "  </thead>\n",
       "  <tbody>\n",
       "    <tr>\n",
       "      <th>0</th>\n",
       "      <td>2</td>\n",
       "      <td>0.455</td>\n",
       "      <td>0.365</td>\n",
       "      <td>0.095</td>\n",
       "      <td>0.5140</td>\n",
       "      <td>0.2245</td>\n",
       "      <td>0.1010</td>\n",
       "      <td>0.150</td>\n",
       "      <td>15</td>\n",
       "    </tr>\n",
       "    <tr>\n",
       "      <th>1</th>\n",
       "      <td>2</td>\n",
       "      <td>0.350</td>\n",
       "      <td>0.265</td>\n",
       "      <td>0.090</td>\n",
       "      <td>0.2255</td>\n",
       "      <td>0.0995</td>\n",
       "      <td>0.0485</td>\n",
       "      <td>0.070</td>\n",
       "      <td>7</td>\n",
       "    </tr>\n",
       "    <tr>\n",
       "      <th>2</th>\n",
       "      <td>0</td>\n",
       "      <td>0.530</td>\n",
       "      <td>0.420</td>\n",
       "      <td>0.135</td>\n",
       "      <td>0.6770</td>\n",
       "      <td>0.2565</td>\n",
       "      <td>0.1415</td>\n",
       "      <td>0.210</td>\n",
       "      <td>9</td>\n",
       "    </tr>\n",
       "    <tr>\n",
       "      <th>3</th>\n",
       "      <td>2</td>\n",
       "      <td>0.440</td>\n",
       "      <td>0.365</td>\n",
       "      <td>0.125</td>\n",
       "      <td>0.5160</td>\n",
       "      <td>0.2155</td>\n",
       "      <td>0.1140</td>\n",
       "      <td>0.155</td>\n",
       "      <td>10</td>\n",
       "    </tr>\n",
       "    <tr>\n",
       "      <th>4</th>\n",
       "      <td>1</td>\n",
       "      <td>0.330</td>\n",
       "      <td>0.255</td>\n",
       "      <td>0.080</td>\n",
       "      <td>0.2050</td>\n",
       "      <td>0.0895</td>\n",
       "      <td>0.0395</td>\n",
       "      <td>0.055</td>\n",
       "      <td>7</td>\n",
       "    </tr>\n",
       "  </tbody>\n",
       "</table>\n",
       "</div>"
      ],
      "text/plain": [
       "   Sex  Length  Diameter  Height  Whole weight  Shucked weight  \\\n",
       "0    2   0.455     0.365   0.095        0.5140          0.2245   \n",
       "1    2   0.350     0.265   0.090        0.2255          0.0995   \n",
       "2    0   0.530     0.420   0.135        0.6770          0.2565   \n",
       "3    2   0.440     0.365   0.125        0.5160          0.2155   \n",
       "4    1   0.330     0.255   0.080        0.2050          0.0895   \n",
       "\n",
       "   Viscera weight  Shell weight  Rings  \n",
       "0          0.1010         0.150     15  \n",
       "1          0.0485         0.070      7  \n",
       "2          0.1415         0.210      9  \n",
       "3          0.1140         0.155     10  \n",
       "4          0.0395         0.055      7  "
      ]
     },
     "execution_count": 9,
     "metadata": {},
     "output_type": "execute_result"
    }
   ],
   "source": [
    "lencode=LabelEncoder()\n",
    "df['Sex']=lencode.fit_transform(df['Sex'])\n",
    "df.head()"
   ]
  },
  {
   "cell_type": "markdown",
   "id": "fa391979",
   "metadata": {},
   "source": [
    "Male is Label Encoded with 2 Number. \n",
    "\n",
    "Female is Label Encoded with 0 Number.\n",
    " \n",
    "Infant is Label Encoded with 1 Number."
   ]
  },
  {
   "cell_type": "code",
   "execution_count": 10,
   "id": "79687010",
   "metadata": {},
   "outputs": [
    {
     "data": {
      "text/plain": [
       "Index(['Sex', 'Length', 'Diameter', 'Height', 'Whole weight', 'Shucked weight',\n",
       "       'Viscera weight', 'Shell weight', 'Rings'],\n",
       "      dtype='object')"
      ]
     },
     "execution_count": 10,
     "metadata": {},
     "output_type": "execute_result"
    }
   ],
   "source": [
    "# Check the spaces in varaibles name\n",
    "df.columns "
   ]
  },
  {
   "cell_type": "code",
   "execution_count": 11,
   "id": "9f0e7085",
   "metadata": {},
   "outputs": [
    {
     "data": {
      "text/plain": [
       "<AxesSubplot:xlabel='Rings', ylabel='Diameter'>"
      ]
     },
     "execution_count": 11,
     "metadata": {},
     "output_type": "execute_result"
    },
    {
     "data": {
      "image/png": "[encoded data removed]",
      "text/plain": [
       "<Figure size 432x288 with 1 Axes>"
      ]
     },
     "metadata": {
      "needs_background": "light"
     },
     "output_type": "display_data"
    }
   ],
   "source": [
    "sns.regplot(x=\"Rings\",y=\"Diameter\",data=df)"
   ]
  },
  {
   "cell_type": "markdown",
   "id": "9db17a8b",
   "metadata": {},
   "source": [
    "There is linear relationship seen between diameter & Target Variable rings and best fit linear relationship line is seen"
   ]
  },
  {
   "cell_type": "code",
   "execution_count": 12,
   "id": "ddb96e27",
   "metadata": {},
   "outputs": [
    {
     "data": {
      "text/plain": [
       "<AxesSubplot:xlabel='Rings', ylabel='Height'>"
      ]
     },
     "execution_count": 12,
     "metadata": {},
     "output_type": "execute_result"
    },
    {
     "data": {
      "image/png": "[encoded data removed]",
      "text/plain": [
       "<Figure size 432x288 with 1 Axes>"
      ]
     },
     "metadata": {
      "needs_background": "light"
     },
     "output_type": "display_data"
    }
   ],
   "source": [
    "sns.regplot(x=\"Rings\",y=\"Height\",data=df)"
   ]
  },
  {
   "cell_type": "markdown",
   "id": "a801fe46",
   "metadata": {},
   "source": [
    "There is a linear relationship seen from low to higher value of target column\n",
    "Best fit linear relationship line can be seen on the plot."
   ]
  },
  {
   "cell_type": "code",
   "execution_count": 13,
   "id": "1c9d1900",
   "metadata": {},
   "outputs": [
    {
     "data": {
      "text/plain": [
       "<seaborn.axisgrid.FacetGrid at 0x2663ae85b20>"
      ]
     },
     "execution_count": 13,
     "metadata": {},
     "output_type": "execute_result"
    },
    {
     "data": {
      "image/png": "[encoded data removed]",
      "text/plain": [
       "<Figure size 360x360 with 1 Axes>"
      ]
     },
     "metadata": {
      "needs_background": "light"
     },
     "output_type": "display_data"
    }
   ],
   "source": [
    "sns.lmplot(x=\"Height\",y=\"Diameter\",data=df)"
   ]
  },
  {
   "cell_type": "markdown",
   "id": "7f251585",
   "metadata": {},
   "source": [
    "Lmplot shows most of the data is scatterd under 0.4 of height & and under 1.0 diameter column.\n",
    "Showing Linear relationship with best fit line can be seen on the plot."
   ]
  },
  {
   "cell_type": "markdown",
   "id": "35a1a980",
   "metadata": {},
   "source": [
    "# Skewness Detection"
   ]
  },
  {
   "cell_type": "code",
   "execution_count": 14,
   "id": "7ff82fbf",
   "metadata": {},
   "outputs": [
    {
     "data": {
      "text/plain": [
       "Sex              -0.098155\n",
       "Length           -0.639873\n",
       "Diameter         -0.609198\n",
       "Height            3.128817\n",
       "Whole weight      0.530959\n",
       "Shucked weight    0.719098\n",
       "Viscera weight    0.591852\n",
       "Shell weight      0.620927\n",
       "Rings             1.114102\n",
       "dtype: float64"
      ]
     },
     "execution_count": 14,
     "metadata": {},
     "output_type": "execute_result"
    }
   ],
   "source": [
    "df.skew()"
   ]
  },
  {
   "cell_type": "markdown",
   "id": "1433345f",
   "metadata": {},
   "source": [
    "Lenght & Diameter are left skewed\n",
    "Height column is highly positively skewed"
   ]
  },
  {
   "cell_type": "code",
   "execution_count": 15,
   "id": "0686aacf",
   "metadata": {
    "scrolled": true
   },
   "outputs": [
    {
     "data": {
      "text/plain": [
       "array([[<AxesSubplot:title={'center':'Sex'}>,\n",
       "        <AxesSubplot:title={'center':'Length'}>,\n",
       "        <AxesSubplot:title={'center':'Diameter'}>],\n",
       "       [<AxesSubplot:title={'center':'Height'}>,\n",
       "        <AxesSubplot:title={'center':'Whole weight'}>,\n",
       "        <AxesSubplot:title={'center':'Shucked weight'}>],\n",
       "       [<AxesSubplot:title={'center':'Viscera weight'}>,\n",
       "        <AxesSubplot:title={'center':'Shell weight'}>,\n",
       "        <AxesSubplot:title={'center':'Rings'}>]], dtype=object)"
      ]
     },
     "execution_count": 15,
     "metadata": {},
     "output_type": "execute_result"
    },
    {
     "data": {
      "image/png": "[encoded data removed]",
      "text/plain": [
       "<Figure size 1296x864 with 9 Axes>"
      ]
     },
     "metadata": {
      "needs_background": "light"
     },
     "output_type": "display_data"
    }
   ],
   "source": [
    "df.hist(grid=False, figsize=(18,12), bins=30)"
   ]
  },
  {
   "cell_type": "code",
   "execution_count": 16,
   "id": "3bed916b",
   "metadata": {},
   "outputs": [
    {
     "data": {
      "image/png": "[encoded data removed]",
      "text/plain": [
       "<Figure size 432x288 with 1 Axes>"
      ]
     },
     "metadata": {
      "needs_background": "light"
     },
     "output_type": "display_data"
    },
    {
     "data": {
      "image/png": "[encoded data removed]",
      "text/plain": [
       "<Figure size 432x288 with 1 Axes>"
      ]
     },
     "metadata": {
      "needs_background": "light"
     },
     "output_type": "display_data"
    },
    {
     "data": {
      "image/png": "[encoded data removed]",
      "text/plain": [
       "<Figure size 432x288 with 1 Axes>"
      ]
     },
     "metadata": {
      "needs_background": "light"
     },
     "output_type": "display_data"
    },
    {
     "data": {
      "image/png": "[encoded data removed]",
      "text/plain": [
       "<Figure size 432x288 with 1 Axes>"
      ]
     },
     "metadata": {
      "needs_background": "light"
     },
     "output_type": "display_data"
    },
    {
     "data": {
      "image/png": "[encoded data removed]",
      "text/plain": [
       "<Figure size 432x288 with 1 Axes>"
      ]
     },
     "metadata": {
      "needs_background": "light"
     },
     "output_type": "display_data"
    },
    {
     "data": {
      "image/png": "[encoded data removed]",
      "text/plain": [
       "<Figure size 432x288 with 1 Axes>"
      ]
     },
     "metadata": {
      "needs_background": "light"
     },
     "output_type": "display_data"
    },
    {
     "data": {
      "image/png": "[encoded data removed]",
      "text/plain": [
       "<Figure size 432x288 with 1 Axes>"
      ]
     },
     "metadata": {
      "needs_background": "light"
     },
     "output_type": "display_data"
    },
    {
     "data": {
      "image/png": "[encoded data removed]",
      "text/plain": [
       "<Figure size 432x288 with 1 Axes>"
      ]
     },
     "metadata": {
      "needs_background": "light"
     },
     "output_type": "display_data"
    },
    {
     "data": {
      "image/png": "[encoded data removed]",
      "text/plain": [
       "<Figure size 432x288 with 1 Axes>"
      ]
     },
     "metadata": {
      "needs_background": "light"
     },
     "output_type": "display_data"
    }
   ],
   "source": [
    "for i in df:\n",
    "    plt.figure()\n",
    "    sns.distplot(df[i])"
   ]
  },
  {
   "cell_type": "markdown",
   "id": "1f640527",
   "metadata": {},
   "source": [
    "# Boxplot for outlier detection"
   ]
  },
  {
   "cell_type": "code",
   "execution_count": 17,
   "id": "17f06de9",
   "metadata": {},
   "outputs": [
    {
     "data": {
      "text/plain": [
       "<AxesSubplot:>"
      ]
     },
     "execution_count": 17,
     "metadata": {},
     "output_type": "execute_result"
    },
    {
     "data": {
      "image/png": "[encoded data removed]",
      "text/plain": [
       "<Figure size 3240x1800 with 1 Axes>"
      ]
     },
     "metadata": {
      "needs_background": "light"
     },
     "output_type": "display_data"
    }
   ],
   "source": [
    "fig, ax =plt.subplots(figsize=(45,25))\n",
    "sns.boxplot(data=df, width = 0.5,ax=ax, fliersize=3)"
   ]
  },
  {
   "cell_type": "markdown",
   "id": "460aa7e0",
   "metadata": {},
   "source": [
    "Target Variable has high outlier below low & upper quartile.\n",
    "Height & Viscera weight has less outliers\n",
    "Whole weight & Shucked weight has more outliers then height & Viscera weight."
   ]
  },
  {
   "cell_type": "markdown",
   "id": "060dbd76",
   "metadata": {},
   "source": [
    "# Correlation & HeatMap"
   ]
  },
  {
   "cell_type": "code",
   "execution_count": 18,
   "id": "dcac68f8",
   "metadata": {},
   "outputs": [
    {
     "data": {
      "text/html": [
       "<div>\n",
       "<style scoped>\n",
       "    .dataframe tbody tr th:only-of-type {\n",
       "        vertical-align: middle;\n",
       "    }\n",
       "\n",
       "    .dataframe tbody tr th {\n",
       "        vertical-align: top;\n",
       "    }\n",
       "\n",
       "    .dataframe thead th {\n",
       "        text-align: right;\n",
       "    }\n",
       "</style>\n",
       "<table border=\"1\" class=\"dataframe\">\n",
       "  <thead>\n",
       "    <tr style=\"text-align: right;\">\n",
       "      <th></th>\n",
       "      <th>Sex</th>\n",
       "      <th>Length</th>\n",
       "      <th>Diameter</th>\n",
       "      <th>Height</th>\n",
       "      <th>Whole weight</th>\n",
       "      <th>Shucked weight</th>\n",
       "      <th>Viscera weight</th>\n",
       "      <th>Shell weight</th>\n",
       "      <th>Rings</th>\n",
       "    </tr>\n",
       "  </thead>\n",
       "  <tbody>\n",
       "    <tr>\n",
       "      <th>Sex</th>\n",
       "      <td>1.000000</td>\n",
       "      <td>-0.036066</td>\n",
       "      <td>-0.038874</td>\n",
       "      <td>-0.042077</td>\n",
       "      <td>-0.021391</td>\n",
       "      <td>-0.001373</td>\n",
       "      <td>-0.032067</td>\n",
       "      <td>-0.034854</td>\n",
       "      <td>-0.034627</td>\n",
       "    </tr>\n",
       "    <tr>\n",
       "      <th>Length</th>\n",
       "      <td>-0.036066</td>\n",
       "      <td>1.000000</td>\n",
       "      <td>0.986812</td>\n",
       "      <td>0.827554</td>\n",
       "      <td>0.925261</td>\n",
       "      <td>0.897914</td>\n",
       "      <td>0.903018</td>\n",
       "      <td>0.897706</td>\n",
       "      <td>0.556720</td>\n",
       "    </tr>\n",
       "    <tr>\n",
       "      <th>Diameter</th>\n",
       "      <td>-0.038874</td>\n",
       "      <td>0.986812</td>\n",
       "      <td>1.000000</td>\n",
       "      <td>0.833684</td>\n",
       "      <td>0.925452</td>\n",
       "      <td>0.893162</td>\n",
       "      <td>0.899724</td>\n",
       "      <td>0.905330</td>\n",
       "      <td>0.574660</td>\n",
       "    </tr>\n",
       "    <tr>\n",
       "      <th>Height</th>\n",
       "      <td>-0.042077</td>\n",
       "      <td>0.827554</td>\n",
       "      <td>0.833684</td>\n",
       "      <td>1.000000</td>\n",
       "      <td>0.819221</td>\n",
       "      <td>0.774972</td>\n",
       "      <td>0.798319</td>\n",
       "      <td>0.817338</td>\n",
       "      <td>0.557467</td>\n",
       "    </tr>\n",
       "    <tr>\n",
       "      <th>Whole weight</th>\n",
       "      <td>-0.021391</td>\n",
       "      <td>0.925261</td>\n",
       "      <td>0.925452</td>\n",
       "      <td>0.819221</td>\n",
       "      <td>1.000000</td>\n",
       "      <td>0.969405</td>\n",
       "      <td>0.966375</td>\n",
       "      <td>0.955355</td>\n",
       "      <td>0.540390</td>\n",
       "    </tr>\n",
       "    <tr>\n",
       "      <th>Shucked weight</th>\n",
       "      <td>-0.001373</td>\n",
       "      <td>0.897914</td>\n",
       "      <td>0.893162</td>\n",
       "      <td>0.774972</td>\n",
       "      <td>0.969405</td>\n",
       "      <td>1.000000</td>\n",
       "      <td>0.931961</td>\n",
       "      <td>0.882617</td>\n",
       "      <td>0.420884</td>\n",
       "    </tr>\n",
       "    <tr>\n",
       "      <th>Viscera weight</th>\n",
       "      <td>-0.032067</td>\n",
       "      <td>0.903018</td>\n",
       "      <td>0.899724</td>\n",
       "      <td>0.798319</td>\n",
       "      <td>0.966375</td>\n",
       "      <td>0.931961</td>\n",
       "      <td>1.000000</td>\n",
       "      <td>0.907656</td>\n",
       "      <td>0.503819</td>\n",
       "    </tr>\n",
       "    <tr>\n",
       "      <th>Shell weight</th>\n",
       "      <td>-0.034854</td>\n",
       "      <td>0.897706</td>\n",
       "      <td>0.905330</td>\n",
       "      <td>0.817338</td>\n",
       "      <td>0.955355</td>\n",
       "      <td>0.882617</td>\n",
       "      <td>0.907656</td>\n",
       "      <td>1.000000</td>\n",
       "      <td>0.627574</td>\n",
       "    </tr>\n",
       "    <tr>\n",
       "      <th>Rings</th>\n",
       "      <td>-0.034627</td>\n",
       "      <td>0.556720</td>\n",
       "      <td>0.574660</td>\n",
       "      <td>0.557467</td>\n",
       "      <td>0.540390</td>\n",
       "      <td>0.420884</td>\n",
       "      <td>0.503819</td>\n",
       "      <td>0.627574</td>\n",
       "      <td>1.000000</td>\n",
       "    </tr>\n",
       "  </tbody>\n",
       "</table>\n",
       "</div>"
      ],
      "text/plain": [
       "                     Sex    Length  Diameter    Height  Whole weight  \\\n",
       "Sex             1.000000 -0.036066 -0.038874 -0.042077     -0.021391   \n",
       "Length         -0.036066  1.000000  0.986812  0.827554      0.925261   \n",
       "Diameter       -0.038874  0.986812  1.000000  0.833684      0.925452   \n",
       "Height         -0.042077  0.827554  0.833684  1.000000      0.819221   \n",
       "Whole weight   -0.021391  0.925261  0.925452  0.819221      1.000000   \n",
       "Shucked weight -0.001373  0.897914  0.893162  0.774972      0.969405   \n",
       "Viscera weight -0.032067  0.903018  0.899724  0.798319      0.966375   \n",
       "Shell weight   -0.034854  0.897706  0.905330  0.817338      0.955355   \n",
       "Rings          -0.034627  0.556720  0.574660  0.557467      0.540390   \n",
       "\n",
       "                Shucked weight  Viscera weight  Shell weight     Rings  \n",
       "Sex                  -0.001373       -0.032067     -0.034854 -0.034627  \n",
       "Length                0.897914        0.903018      0.897706  0.556720  \n",
       "Diameter              0.893162        0.899724      0.905330  0.574660  \n",
       "Height                0.774972        0.798319      0.817338  0.557467  \n",
       "Whole weight          0.969405        0.966375      0.955355  0.540390  \n",
       "Shucked weight        1.000000        0.931961      0.882617  0.420884  \n",
       "Viscera weight        0.931961        1.000000      0.907656  0.503819  \n",
       "Shell weight          0.882617        0.907656      1.000000  0.627574  \n",
       "Rings                 0.420884        0.503819      0.627574  1.000000  "
      ]
     },
     "execution_count": 18,
     "metadata": {},
     "output_type": "execute_result"
    }
   ],
   "source": [
    "dfcor=df.corr()\n",
    "dfcor"
   ]
  },
  {
   "cell_type": "markdown",
   "id": "f79dfef8",
   "metadata": {},
   "source": [
    "Gender variable is categorical type\n",
    "\n",
    "length is highly correlated with diameter, height,whole weight, shucked wt, viscera wt, shell wt\n",
    "\n",
    "diameter is also highly correlated with almost all variables.\n",
    "\n",
    "Similar relationship of other variable is also seen.\n",
    "\n",
    "Ring(Target Variable) shows positive correlation with almost all variables."
   ]
  },
  {
   "cell_type": "code",
   "execution_count": 19,
   "id": "dde8f8e0",
   "metadata": {},
   "outputs": [
    {
     "data": {
      "text/plain": [
       "<AxesSubplot:>"
      ]
     },
     "execution_count": 19,
     "metadata": {},
     "output_type": "execute_result"
    },
    {
     "data": {
      "image/png": "[encoded data removed]",
      "text/plain": [
       "<Figure size 864x576 with 2 Axes>"
      ]
     },
     "metadata": {
      "needs_background": "light"
     },
     "output_type": "display_data"
    }
   ],
   "source": [
    "plt.figure(figsize=(12,8))\n",
    "sns.heatmap(dfcor,cmap='YlOrRd_r', annot=True)"
   ]
  },
  {
   "cell_type": "markdown",
   "id": "5b87dbce",
   "metadata": {},
   "source": [
    "# Multicollinearity Check : Variation Inflation Factor"
   ]
  },
  {
   "cell_type": "code",
   "execution_count": 20,
   "id": "c4240249",
   "metadata": {},
   "outputs": [],
   "source": [
    "from statsmodels.stats.outliers_influence import variance_inflation_factor"
   ]
  },
  {
   "cell_type": "code",
   "execution_count": 57,
   "id": "5cc62b4e",
   "metadata": {},
   "outputs": [],
   "source": [
    "def vif_calc():\n",
    "    vif=pd.DataFrame()\n",
    "    vif[\"VIF Factor\"]=[variance_inflation_factor(df.values,i) for i in range(df.shape[1])]\n",
    "    vif[\"features\"]=df.columns\n",
    "    print(vif)"
   ]
  },
  {
   "cell_type": "code",
   "execution_count": 22,
   "id": "6039be74",
   "metadata": {},
   "outputs": [
    {
     "name": "stdout",
     "output_type": "stream",
     "text": [
      "   VIF Factor        features\n",
      "0    2.563825             Sex\n",
      "1  702.347884          Length\n",
      "2  755.416018        Diameter\n",
      "3   43.004758          Height\n",
      "4  436.141083    Whole weight\n",
      "5  117.686245  Shucked weight\n",
      "6   64.740171  Viscera weight\n",
      "7   82.562895    Shell weight\n",
      "8   21.652131           Rings\n"
     ]
    }
   ],
   "source": [
    "vif_calc()"
   ]
  },
  {
   "cell_type": "markdown",
   "id": "6cdd8bcc",
   "metadata": {},
   "source": [
    "length & Diameter has multicollinearity realtionship.\n",
    "Whole weight & Shucked weight also has multicollinearity relationship"
   ]
  },
  {
   "cell_type": "code",
   "execution_count": 23,
   "id": "b1aeb1fe",
   "metadata": {},
   "outputs": [],
   "source": [
    "df.drop(['Length','Shucked weight'],axis=1,inplace=True)"
   ]
  },
  {
   "cell_type": "markdown",
   "id": "2bb90339",
   "metadata": {},
   "source": [
    "To remove multicollinearity length & Shucked weight are dropped from the diameter."
   ]
  },
  {
   "cell_type": "code",
   "execution_count": 24,
   "id": "a90c45c5",
   "metadata": {},
   "outputs": [
    {
     "data": {
      "text/html": [
       "<div>\n",
       "<style scoped>\n",
       "    .dataframe tbody tr th:only-of-type {\n",
       "        vertical-align: middle;\n",
       "    }\n",
       "\n",
       "    .dataframe tbody tr th {\n",
       "        vertical-align: top;\n",
       "    }\n",
       "\n",
       "    .dataframe thead th {\n",
       "        text-align: right;\n",
       "    }\n",
       "</style>\n",
       "<table border=\"1\" class=\"dataframe\">\n",
       "  <thead>\n",
       "    <tr style=\"text-align: right;\">\n",
       "      <th></th>\n",
       "      <th>Sex</th>\n",
       "      <th>Diameter</th>\n",
       "      <th>Height</th>\n",
       "      <th>Whole weight</th>\n",
       "      <th>Viscera weight</th>\n",
       "      <th>Shell weight</th>\n",
       "      <th>Rings</th>\n",
       "    </tr>\n",
       "  </thead>\n",
       "  <tbody>\n",
       "    <tr>\n",
       "      <th>0</th>\n",
       "      <td>2</td>\n",
       "      <td>0.365</td>\n",
       "      <td>0.095</td>\n",
       "      <td>0.5140</td>\n",
       "      <td>0.1010</td>\n",
       "      <td>0.1500</td>\n",
       "      <td>15</td>\n",
       "    </tr>\n",
       "    <tr>\n",
       "      <th>1</th>\n",
       "      <td>2</td>\n",
       "      <td>0.265</td>\n",
       "      <td>0.090</td>\n",
       "      <td>0.2255</td>\n",
       "      <td>0.0485</td>\n",
       "      <td>0.0700</td>\n",
       "      <td>7</td>\n",
       "    </tr>\n",
       "    <tr>\n",
       "      <th>2</th>\n",
       "      <td>0</td>\n",
       "      <td>0.420</td>\n",
       "      <td>0.135</td>\n",
       "      <td>0.6770</td>\n",
       "      <td>0.1415</td>\n",
       "      <td>0.2100</td>\n",
       "      <td>9</td>\n",
       "    </tr>\n",
       "    <tr>\n",
       "      <th>3</th>\n",
       "      <td>2</td>\n",
       "      <td>0.365</td>\n",
       "      <td>0.125</td>\n",
       "      <td>0.5160</td>\n",
       "      <td>0.1140</td>\n",
       "      <td>0.1550</td>\n",
       "      <td>10</td>\n",
       "    </tr>\n",
       "    <tr>\n",
       "      <th>4</th>\n",
       "      <td>1</td>\n",
       "      <td>0.255</td>\n",
       "      <td>0.080</td>\n",
       "      <td>0.2050</td>\n",
       "      <td>0.0395</td>\n",
       "      <td>0.0550</td>\n",
       "      <td>7</td>\n",
       "    </tr>\n",
       "    <tr>\n",
       "      <th>...</th>\n",
       "      <td>...</td>\n",
       "      <td>...</td>\n",
       "      <td>...</td>\n",
       "      <td>...</td>\n",
       "      <td>...</td>\n",
       "      <td>...</td>\n",
       "      <td>...</td>\n",
       "    </tr>\n",
       "    <tr>\n",
       "      <th>4172</th>\n",
       "      <td>0</td>\n",
       "      <td>0.450</td>\n",
       "      <td>0.165</td>\n",
       "      <td>0.8870</td>\n",
       "      <td>0.2390</td>\n",
       "      <td>0.2490</td>\n",
       "      <td>11</td>\n",
       "    </tr>\n",
       "    <tr>\n",
       "      <th>4173</th>\n",
       "      <td>2</td>\n",
       "      <td>0.440</td>\n",
       "      <td>0.135</td>\n",
       "      <td>0.9660</td>\n",
       "      <td>0.2145</td>\n",
       "      <td>0.2605</td>\n",
       "      <td>10</td>\n",
       "    </tr>\n",
       "    <tr>\n",
       "      <th>4174</th>\n",
       "      <td>2</td>\n",
       "      <td>0.475</td>\n",
       "      <td>0.205</td>\n",
       "      <td>1.1760</td>\n",
       "      <td>0.2875</td>\n",
       "      <td>0.3080</td>\n",
       "      <td>9</td>\n",
       "    </tr>\n",
       "    <tr>\n",
       "      <th>4175</th>\n",
       "      <td>0</td>\n",
       "      <td>0.485</td>\n",
       "      <td>0.150</td>\n",
       "      <td>1.0945</td>\n",
       "      <td>0.2610</td>\n",
       "      <td>0.2960</td>\n",
       "      <td>10</td>\n",
       "    </tr>\n",
       "    <tr>\n",
       "      <th>4176</th>\n",
       "      <td>2</td>\n",
       "      <td>0.555</td>\n",
       "      <td>0.195</td>\n",
       "      <td>1.9485</td>\n",
       "      <td>0.3765</td>\n",
       "      <td>0.4950</td>\n",
       "      <td>12</td>\n",
       "    </tr>\n",
       "  </tbody>\n",
       "</table>\n",
       "<p>4177 rows × 7 columns</p>\n",
       "</div>"
      ],
      "text/plain": [
       "      Sex  Diameter  Height  Whole weight  Viscera weight  Shell weight  Rings\n",
       "0       2     0.365   0.095        0.5140          0.1010        0.1500     15\n",
       "1       2     0.265   0.090        0.2255          0.0485        0.0700      7\n",
       "2       0     0.420   0.135        0.6770          0.1415        0.2100      9\n",
       "3       2     0.365   0.125        0.5160          0.1140        0.1550     10\n",
       "4       1     0.255   0.080        0.2050          0.0395        0.0550      7\n",
       "...   ...       ...     ...           ...             ...           ...    ...\n",
       "4172    0     0.450   0.165        0.8870          0.2390        0.2490     11\n",
       "4173    2     0.440   0.135        0.9660          0.2145        0.2605     10\n",
       "4174    2     0.475   0.205        1.1760          0.2875        0.3080      9\n",
       "4175    0     0.485   0.150        1.0945          0.2610        0.2960     10\n",
       "4176    2     0.555   0.195        1.9485          0.3765        0.4950     12\n",
       "\n",
       "[4177 rows x 7 columns]"
      ]
     },
     "execution_count": 24,
     "metadata": {},
     "output_type": "execute_result"
    }
   ],
   "source": [
    "df"
   ]
  },
  {
   "cell_type": "markdown",
   "id": "45991bc3",
   "metadata": {},
   "source": [
    "# Removing Skewness"
   ]
  },
  {
   "cell_type": "code",
   "execution_count": 25,
   "id": "a771c832",
   "metadata": {},
   "outputs": [
    {
     "data": {
      "text/plain": [
       "Sex              -0.098155\n",
       "Diameter         -0.609198\n",
       "Height            3.128817\n",
       "Whole weight      0.530959\n",
       "Viscera weight    0.591852\n",
       "Shell weight      0.620927\n",
       "Rings             1.114102\n",
       "dtype: float64"
      ]
     },
     "execution_count": 25,
     "metadata": {},
     "output_type": "execute_result"
    }
   ],
   "source": [
    "df.skew()"
   ]
  },
  {
   "cell_type": "code",
   "execution_count": 26,
   "id": "ec478a7c",
   "metadata": {},
   "outputs": [
    {
     "data": {
      "text/plain": [
       "Sex              -0.098155\n",
       "Diameter         -0.609198\n",
       "Height           -0.295641\n",
       "Whole weight      0.530959\n",
       "Viscera weight    0.591852\n",
       "Shell weight      0.620927\n",
       "Rings             1.114102\n",
       "dtype: float64"
      ]
     },
     "execution_count": 26,
     "metadata": {},
     "output_type": "execute_result"
    }
   ],
   "source": [
    "import numpy as np\n",
    "df['Height']=np.sqrt(df['Height'])\n",
    "df.skew()"
   ]
  },
  {
   "cell_type": "markdown",
   "id": "927b9539",
   "metadata": {},
   "source": [
    "Sqrt Method applied to reduce the skewness of height variable\n",
    "Other variable skeweness is further removed by power tranform later"
   ]
  },
  {
   "cell_type": "code",
   "execution_count": 27,
   "id": "6b12b0ea",
   "metadata": {},
   "outputs": [
    {
     "data": {
      "image/png": "[encoded data removed]",
      "text/plain": [
       "<Figure size 432x288 with 1 Axes>"
      ]
     },
     "metadata": {
      "needs_background": "light"
     },
     "output_type": "display_data"
    },
    {
     "data": {
      "image/png": "[encoded data removed]",
      "text/plain": [
       "<Figure size 432x288 with 1 Axes>"
      ]
     },
     "metadata": {
      "needs_background": "light"
     },
     "output_type": "display_data"
    },
    {
     "data": {
      "image/png": "[encoded data removed]",
      "text/plain": [
       "<Figure size 432x288 with 1 Axes>"
      ]
     },
     "metadata": {
      "needs_background": "light"
     },
     "output_type": "display_data"
    },
    {
     "data": {
      "image/png": "[encoded data removed]",
      "text/plain": [
       "<Figure size 432x288 with 1 Axes>"
      ]
     },
     "metadata": {
      "needs_background": "light"
     },
     "output_type": "display_data"
    },
    {
     "data": {
      "image/png": "[encoded data removed]",
      "text/plain": [
       "<Figure size 432x288 with 1 Axes>"
      ]
     },
     "metadata": {
      "needs_background": "light"
     },
     "output_type": "display_data"
    },
    {
     "data": {
      "image/png": "[encoded data removed]",
      "text/plain": [
       "<Figure size 432x288 with 1 Axes>"
      ]
     },
     "metadata": {
      "needs_background": "light"
     },
     "output_type": "display_data"
    },
    {
     "data": {
      "image/png": "[encoded data removed]",
      "text/plain": [
       "<Figure size 432x288 with 1 Axes>"
      ]
     },
     "metadata": {
      "needs_background": "light"
     },
     "output_type": "display_data"
    }
   ],
   "source": [
    "for i in df:\n",
    "    plt.figure()\n",
    "    sns.distplot(df[i])"
   ]
  },
  {
   "cell_type": "markdown",
   "id": "c6b121b1",
   "metadata": {},
   "source": [
    "# Removing Outliers with Z- Score"
   ]
  },
  {
   "cell_type": "code",
   "execution_count": 28,
   "id": "efb46e7e",
   "metadata": {},
   "outputs": [
    {
     "name": "stdout",
     "output_type": "stream",
     "text": [
      "(array([   6,   72,   81,   83,  129,  163,  164,  165,  165,  166,  166,\n",
      "        167,  168,  170,  181,  232,  236,  236,  237,  237,  238,  238,\n",
      "        239,  270,  275,  277,  278,  294,  306,  310,  313,  314,  334,\n",
      "        351,  355,  358,  358,  362,  375,  416,  417,  428,  431,  433,\n",
      "        469,  478,  480,  501,  526,  530,  572,  628,  673,  674,  675,\n",
      "        678,  694,  694,  696,  718,  719,  719,  720,  720,  744,  754,\n",
      "        756,  811,  891,  891, 1048, 1051, 1052, 1174, 1204, 1206, 1207,\n",
      "       1207, 1207, 1209, 1257, 1417, 1422, 1427, 1427, 1428, 1429, 1429,\n",
      "       1757, 1759, 1762, 1762, 1763, 1763, 1987, 1987, 2051, 2090, 2108,\n",
      "       2108, 2114, 2114, 2157, 2161, 2169, 2171, 2172, 2176, 2180, 2199,\n",
      "       2201, 2208, 2209, 2274, 2275, 2305, 2334, 2334, 2334, 2335, 2344,\n",
      "       2358, 2368, 2381, 2436, 2459, 2471, 2623, 2624, 2624, 2709, 2710,\n",
      "       2711, 2810, 2811, 2811, 2863, 2863, 3008, 3140, 3148, 3149, 3149,\n",
      "       3151, 3151, 3188, 3190, 3193, 3280, 3359, 3427, 3427, 3599, 3628,\n",
      "       3715, 3715, 3715, 3800, 3837, 3837, 3899, 3899, 3902, 3924, 3930,\n",
      "       3944, 3996, 4145, 4148], dtype=int64), array([6, 6, 5, 6, 5, 5, 5, 3, 5, 5, 6, 6, 5, 4, 6, 6, 1, 2, 1, 2, 1, 2,\n",
      "       2, 6, 6, 5, 6, 6, 2, 6, 6, 6, 5, 6, 6, 3, 5, 6, 6, 6, 6, 6, 6, 6,\n",
      "       6, 6, 6, 6, 1, 6, 6, 6, 6, 6, 6, 6, 1, 2, 1, 2, 1, 2, 1, 2, 6, 6,\n",
      "       6, 6, 3, 5, 4, 3, 3, 2, 4, 4, 3, 4, 5, 3, 2, 2, 4, 3, 4, 5, 1, 2,\n",
      "       4, 4, 3, 4, 3, 4, 1, 2, 2, 5, 5, 6, 1, 2, 5, 5, 2, 2, 2, 6, 6, 6,\n",
      "       6, 5, 6, 5, 6, 6, 3, 4, 6, 6, 6, 6, 5, 2, 6, 6, 6, 3, 3, 4, 4, 4,\n",
      "       2, 4, 3, 4, 3, 4, 5, 6, 5, 5, 6, 5, 6, 5, 2, 6, 6, 6, 3, 4, 3, 4,\n",
      "       3, 4, 5, 3, 1, 2, 1, 2, 2, 6, 6, 6, 2, 5, 4], dtype=int64))\n"
     ]
    }
   ],
   "source": [
    "#detecting outliers\n",
    "from scipy.stats import zscore\n",
    "dfzscore=np.abs(zscore(df))\n",
    "print(np.where(dfzscore>3))"
   ]
  },
  {
   "cell_type": "code",
   "execution_count": 29,
   "id": "e27f22e1",
   "metadata": {},
   "outputs": [
    {
     "name": "stdout",
     "output_type": "stream",
     "text": [
      "dfnew.shape= (4039, 7)\n"
     ]
    }
   ],
   "source": [
    "dfnew=df[(dfzscore<3).all(axis=1)]\n",
    "print('dfnew.shape=',dfnew.shape)\n",
    "\n",
    "df=dfnew"
   ]
  },
  {
   "cell_type": "code",
   "execution_count": 30,
   "id": "f0a30986",
   "metadata": {},
   "outputs": [
    {
     "data": {
      "text/plain": [
       "3.303806559731865"
      ]
     },
     "execution_count": 30,
     "metadata": {},
     "output_type": "execute_result"
    }
   ],
   "source": [
    " # Computing outlier percentage\n",
    "Data_loss=((4177-4039)/4177)*100\n",
    "Data_loss"
   ]
  },
  {
   "cell_type": "markdown",
   "id": "8bea0984",
   "metadata": {},
   "source": [
    "# Separating dependent and independent variable"
   ]
  },
  {
   "cell_type": "code",
   "execution_count": 31,
   "id": "2d47ed3b",
   "metadata": {},
   "outputs": [],
   "source": [
    "x=df.iloc[:,:-1]\n",
    "y=df.iloc[:,-1]"
   ]
  },
  {
   "cell_type": "markdown",
   "id": "ad640cf3",
   "metadata": {},
   "source": [
    "-Dividing whole dataset in x & y dataset where y is the target variable"
   ]
  },
  {
   "cell_type": "code",
   "execution_count": 32,
   "id": "d417cc4b",
   "metadata": {},
   "outputs": [
    {
     "data": {
      "text/plain": [
       "(4039, 6)"
      ]
     },
     "execution_count": 32,
     "metadata": {},
     "output_type": "execute_result"
    }
   ],
   "source": [
    "x.shape"
   ]
  },
  {
   "cell_type": "code",
   "execution_count": 33,
   "id": "4db18b8f",
   "metadata": {},
   "outputs": [
    {
     "data": {
      "text/plain": [
       "(4039,)"
      ]
     },
     "execution_count": 33,
     "metadata": {},
     "output_type": "execute_result"
    }
   ],
   "source": [
    "y.shape"
   ]
  },
  {
   "cell_type": "code",
   "execution_count": 34,
   "id": "ab60a9db",
   "metadata": {},
   "outputs": [
    {
     "data": {
      "text/html": [
       "<div>\n",
       "<style scoped>\n",
       "    .dataframe tbody tr th:only-of-type {\n",
       "        vertical-align: middle;\n",
       "    }\n",
       "\n",
       "    .dataframe tbody tr th {\n",
       "        vertical-align: top;\n",
       "    }\n",
       "\n",
       "    .dataframe thead th {\n",
       "        text-align: right;\n",
       "    }\n",
       "</style>\n",
       "<table border=\"1\" class=\"dataframe\">\n",
       "  <thead>\n",
       "    <tr style=\"text-align: right;\">\n",
       "      <th></th>\n",
       "      <th>Sex</th>\n",
       "      <th>Diameter</th>\n",
       "      <th>Height</th>\n",
       "      <th>Whole weight</th>\n",
       "      <th>Viscera weight</th>\n",
       "      <th>Shell weight</th>\n",
       "    </tr>\n",
       "  </thead>\n",
       "  <tbody>\n",
       "    <tr>\n",
       "      <th>0</th>\n",
       "      <td>2</td>\n",
       "      <td>0.365</td>\n",
       "      <td>0.308221</td>\n",
       "      <td>0.5140</td>\n",
       "      <td>0.1010</td>\n",
       "      <td>0.150</td>\n",
       "    </tr>\n",
       "    <tr>\n",
       "      <th>1</th>\n",
       "      <td>2</td>\n",
       "      <td>0.265</td>\n",
       "      <td>0.300000</td>\n",
       "      <td>0.2255</td>\n",
       "      <td>0.0485</td>\n",
       "      <td>0.070</td>\n",
       "    </tr>\n",
       "    <tr>\n",
       "      <th>2</th>\n",
       "      <td>0</td>\n",
       "      <td>0.420</td>\n",
       "      <td>0.367423</td>\n",
       "      <td>0.6770</td>\n",
       "      <td>0.1415</td>\n",
       "      <td>0.210</td>\n",
       "    </tr>\n",
       "    <tr>\n",
       "      <th>3</th>\n",
       "      <td>2</td>\n",
       "      <td>0.365</td>\n",
       "      <td>0.353553</td>\n",
       "      <td>0.5160</td>\n",
       "      <td>0.1140</td>\n",
       "      <td>0.155</td>\n",
       "    </tr>\n",
       "    <tr>\n",
       "      <th>4</th>\n",
       "      <td>1</td>\n",
       "      <td>0.255</td>\n",
       "      <td>0.282843</td>\n",
       "      <td>0.2050</td>\n",
       "      <td>0.0395</td>\n",
       "      <td>0.055</td>\n",
       "    </tr>\n",
       "  </tbody>\n",
       "</table>\n",
       "</div>"
      ],
      "text/plain": [
       "   Sex  Diameter    Height  Whole weight  Viscera weight  Shell weight\n",
       "0    2     0.365  0.308221        0.5140          0.1010         0.150\n",
       "1    2     0.265  0.300000        0.2255          0.0485         0.070\n",
       "2    0     0.420  0.367423        0.6770          0.1415         0.210\n",
       "3    2     0.365  0.353553        0.5160          0.1140         0.155\n",
       "4    1     0.255  0.282843        0.2050          0.0395         0.055"
      ]
     },
     "execution_count": 34,
     "metadata": {},
     "output_type": "execute_result"
    }
   ],
   "source": [
    "# x varibles without target variable\n",
    "x.head()"
   ]
  },
  {
   "cell_type": "markdown",
   "id": "e5c0f950",
   "metadata": {},
   "source": [
    "# Power Transform method applied to remove remaininig positive & negative skeweness."
   ]
  },
  {
   "cell_type": "code",
   "execution_count": 35,
   "id": "9adfd4bc",
   "metadata": {},
   "outputs": [
    {
     "data": {
      "text/plain": [
       "Sex              -0.098440\n",
       "Diameter         -0.577025\n",
       "Height           -0.570687\n",
       "Whole weight      0.391683\n",
       "Viscera weight    0.459107\n",
       "Shell weight      0.369555\n",
       "dtype: float64"
      ]
     },
     "execution_count": 35,
     "metadata": {},
     "output_type": "execute_result"
    }
   ],
   "source": [
    "# Importing power tranform\n",
    "from sklearn.preprocessing import power_transform\n",
    "\n",
    "# Applying power transform to whole dataframe\n",
    "df=power_transform(df,method='yeo-johnson') \n",
    "x.skew()"
   ]
  },
  {
   "cell_type": "markdown",
   "id": "75972911",
   "metadata": {},
   "source": [
    "Skewness is reduced to great extent for Diameter, Height & for other variable falling with in the range"
   ]
  },
  {
   "cell_type": "markdown",
   "id": "b2df74a1",
   "metadata": {},
   "source": [
    "# Scaling the independent variables"
   ]
  },
  {
   "cell_type": "code",
   "execution_count": 36,
   "id": "9e4defd0",
   "metadata": {},
   "outputs": [
    {
     "data": {
      "text/plain": [
       "array([[ 1.15550471, -0.43256586, -1.16547822, -0.63881187, -0.728955  ,\n",
       "        -0.63817671],\n",
       "       [ 1.15550471, -1.47650319, -1.32432711, -1.26106184, -1.23160309,\n",
       "        -1.25790001],\n",
       "       [-1.28543856,  0.14159967, -0.02150106, -0.28724602, -0.3411979 ,\n",
       "        -0.17338424],\n",
       "       ...,\n",
       "       [ 1.15550471,  0.7157652 ,  1.62763892,  0.78901996,  1.05664251,\n",
       "         0.5857768 ],\n",
       "       [-1.28543856,  0.82015893,  0.36254185,  0.61323704,  0.8029249 ,\n",
       "         0.4928183 ],\n",
       "       [ 1.15550471,  1.55091506,  1.41158391,  2.45518323,  1.90875071,\n",
       "         2.03438   ]])"
      ]
     },
     "execution_count": 36,
     "metadata": {},
     "output_type": "execute_result"
    }
   ],
   "source": [
    "scaling = StandardScaler()\n",
    "x=scaling.fit_transform(x)\n",
    "x"
   ]
  },
  {
   "cell_type": "markdown",
   "id": "33556ce8",
   "metadata": {},
   "source": [
    "# Decision tree classifier"
   ]
  },
  {
   "cell_type": "code",
   "execution_count": 37,
   "id": "3733f853",
   "metadata": {},
   "outputs": [
    {
     "name": "stdout",
     "output_type": "stream",
     "text": [
      "1.9797449362340584 at random_state 0\n",
      "2.0022505626406604 at random_state 1\n",
      "2.0345086271567894 at random_state 2\n",
      "2.1342835708927232 at random_state 3\n",
      "2.0600150037509377 at random_state 4\n",
      "1.9752438109527382 at random_state 5\n",
      "2.09152288072018 at random_state 6\n",
      "2.105026256564141 at random_state 7\n",
      "2.0232558139534884 at random_state 8\n",
      "2.021755438859715 at random_state 9\n",
      "1.9377344336084021 at random_state 10\n",
      "2.061515378844711 at random_state 11\n",
      "1.9954988747186797 at random_state 12\n",
      "2.085521380345086 at random_state 13\n",
      "2.0480120030007503 at random_state 14\n",
      "2.036009002250563 at random_state 15\n",
      "2.054013503375844 at random_state 16\n",
      "2.065266316579145 at random_state 17\n",
      "1.9962490622655664 at random_state 18\n",
      "2.0960240060015005 at random_state 19\n",
      "2.0600150037509377 at random_state 20\n",
      "2.059264816204051 at random_state 21\n",
      "2.0982745686421604 at random_state 22\n",
      "2.1462865716429107 at random_state 23\n",
      "2.1020255063765942 at random_state 24\n",
      "2.1275318829707426 at random_state 25\n",
      "2.0690172543135783 at random_state 26\n",
      "2.1020255063765942 at random_state 27\n",
      "1.9902475618904727 at random_state 28\n",
      "1.9369842460615154 at random_state 29\n",
      "2.08702175543886 at random_state 30\n",
      "2.0487621905476368 at random_state 31\n",
      "2.0390097524381097 at random_state 32\n",
      "2.010502625656414 at random_state 33\n",
      "2.121530382595649 at random_state 34\n",
      "2.115528882220555 at random_state 35\n",
      "2.129782445611403 at random_state 36\n",
      "2.0150037509377343 at random_state 37\n",
      "2.099774943735934 at random_state 38\n",
      "2.1117779444861213 at random_state 39\n",
      "2.0367591897974493 at random_state 40\n",
      "2.053263315828957 at random_state 41\n",
      "2.0630157539384846 at random_state 42\n",
      "1.9969992498124531 at random_state 43\n",
      "2.078019504876219 at random_state 44\n",
      "2.05026256564141 at random_state 45\n",
      "1.9969992498124531 at random_state 46\n",
      "2.065266316579145 at random_state 47\n",
      "2.0517629407351836 at random_state 48\n",
      "2.0255063765941483 at random_state 49\n",
      "1.9347336834208553 at random_state 50\n",
      "2.0922730682670667 at random_state 51\n",
      "2.075768942235559 at random_state 52\n",
      "1.9647411852963241 at random_state 53\n",
      "1.9339834958739686 at random_state 54\n",
      "2.0067516879219807 at random_state 55\n",
      "1.9804951237809452 at random_state 56\n",
      "1.9992498124531133 at random_state 57\n",
      "2.059264816204051 at random_state 58\n",
      "2.0225056264066015 at random_state 59\n",
      "1.95648912228057 at random_state 60\n",
      "2.0847711927981996 at random_state 61\n",
      "2.064516129032258 at random_state 62\n",
      "2.0600150037509377 at random_state 63\n",
      "2.086271567891973 at random_state 64\n",
      "1.9827456864216053 at random_state 65\n",
      "2.04576144036009 at random_state 66\n",
      "2.068267066766692 at random_state 67\n",
      "2.0712678169542387 at random_state 68\n",
      "2.1147786946736686 at random_state 69\n",
      "2.0097524381095275 at random_state 70\n",
      "2.0315078769692425 at random_state 71\n",
      "2.1170292573143286 at random_state 72\n",
      "2.118529632408102 at random_state 73\n",
      "2.0367591897974493 at random_state 74\n",
      "2.1012753188297073 at random_state 75\n",
      "2.0712678169542387 at random_state 76\n",
      "2.064516129032258 at random_state 77\n",
      "1.9864966241560391 at random_state 78\n",
      "2.0547636909227305 at random_state 79\n",
      "2.0172543135783947 at random_state 80\n",
      "2.0097524381095275 at random_state 81\n",
      "1.9557389347336833 at random_state 82\n",
      "2.0607651912978247 at random_state 83\n",
      "2.0547636909227305 at random_state 84\n",
      "2.142535633908477 at random_state 85\n",
      "1.9737434358589647 at random_state 86\n",
      "2.08702175543886 at random_state 87\n",
      "1.9909977494373594 at random_state 88\n",
      "2.0060015003750937 at random_state 89\n",
      "2.1312828207051764 at random_state 90\n",
      "2.0877719429857464 at random_state 91\n",
      "2.078769692423106 at random_state 92\n",
      "2.003750937734434 at random_state 93\n",
      "2.1087771942985745 at random_state 94\n",
      "2.057764441110278 at random_state 95\n",
      "1.9954988747186797 at random_state 96\n",
      "2.046511627906977 at random_state 97\n",
      "1.9737434358589647 at random_state 98\n",
      "2.014253563390848 at random_state 99\n",
      "2.036009002250563 at random_state 100\n",
      "2.010502625656414 at random_state 101\n",
      "2.0052513128282072 at random_state 102\n",
      "2.0150037509377343 at random_state 103\n",
      "2.1095273818454614 at random_state 104\n",
      "2.0765191297824455 at random_state 105\n",
      "2.003750937734434 at random_state 106\n",
      "2.082520630157539 at random_state 107\n",
      "1.9984996249062266 at random_state 108\n",
      "1.9587396849212304 at random_state 109\n",
      "2.1117779444861213 at random_state 110\n",
      "1.967741935483871 at random_state 111\n",
      "2.121530382595649 at random_state 112\n",
      "2.072018004501125 at random_state 113\n",
      "2.0367591897974493 at random_state 114\n",
      "2.0585146286571643 at random_state 115\n",
      "2.051012753188297 at random_state 116\n",
      "2.1057764441110276 at random_state 117\n",
      "2.036009002250563 at random_state 118\n",
      "2.040510127531883 at random_state 119\n",
      "2.04351087771943 at random_state 120\n",
      "1.9114778694673669 at random_state 121\n",
      "1.9557389347336833 at random_state 122\n",
      "2.13728432108027 at random_state 123\n",
      "2.051012753188297 at random_state 124\n",
      "2.0607651912978247 at random_state 125\n",
      "1.9939984996249063 at random_state 126\n",
      "2.075018754688672 at random_state 127\n",
      "2.0015003750937734 at random_state 128\n",
      "1.9474868717179294 at random_state 129\n",
      "2.13728432108027 at random_state 130\n",
      "2.0060015003750937 at random_state 131\n",
      "2.062265566391598 at random_state 132\n",
      "2.0390097524381097 at random_state 133\n",
      "1.9377344336084021 at random_state 134\n",
      "2.014253563390848 at random_state 135\n",
      "2.018004501125281 at random_state 136\n",
      "2.0390097524381097 at random_state 137\n",
      "1.9347336834208553 at random_state 138\n",
      "2.067516879219805 at random_state 139\n",
      "2.0052513128282072 at random_state 140\n",
      "2.099774943735934 at random_state 141\n",
      "1.9819954988747186 at random_state 142\n",
      "2.0337584396099024 at random_state 143\n",
      "2.018004501125281 at random_state 144\n",
      "2.056264066016504 at random_state 145\n",
      "2.1207801950487624 at random_state 146\n",
      "2.021755438859715 at random_state 147\n",
      "2.014253563390848 at random_state 148\n",
      "2.0555138784696174 at random_state 149\n",
      "2.068267066766692 at random_state 150\n",
      "2.0097524381095275 at random_state 151\n",
      "2.0667666916729184 at random_state 152\n",
      "2.032258064516129 at random_state 153\n",
      "1.930232558139535 at random_state 154\n",
      "2.105026256564141 at random_state 155\n",
      "2.053263315828957 at random_state 156\n",
      "2.0585146286571643 at random_state 157\n",
      "2.08702175543886 at random_state 158\n",
      "2.0345086271567894 at random_state 159\n",
      "2.094523630907727 at random_state 160\n",
      "1.9932483120780196 at random_state 161\n",
      "2.0802700675168793 at random_state 162\n",
      "1.9872468117029258 at random_state 163\n",
      "2.082520630157539 at random_state 164\n",
      "1.9797449362340584 at random_state 165\n",
      "2.014253563390848 at random_state 166\n",
      "2.0097524381095275 at random_state 167\n",
      "2.1170292573143286 at random_state 168\n",
      "2.0315078769692425 at random_state 169\n",
      "2.13278319579895 at random_state 170\n",
      "2.011252813203301 at random_state 171\n",
      "2.13953488372093 at random_state 172\n",
      "1.9977494373593399 at random_state 173\n",
      "2.011252813203301 at random_state 174\n",
      "2.029257314328582 at random_state 175\n",
      "1.9737434358589647 at random_state 176\n",
      "2.040510127531883 at random_state 177\n",
      "2.107276819204801 at random_state 178\n",
      "2.062265566391598 at random_state 179\n",
      "2.018004501125281 at random_state 180\n",
      "2.094523630907727 at random_state 181\n",
      "1.95423855963991 at random_state 182\n",
      "2.104276069017254 at random_state 183\n",
      "2.118529632408102 at random_state 184\n",
      "2.05026256564141 at random_state 185\n",
      "1.9977494373593399 at random_state 186\n",
      "2.0097524381095275 at random_state 187\n",
      "1.9639909977494374 at random_state 188\n",
      "2.0487621905476368 at random_state 189\n",
      "2.202550637659415 at random_state 190\n",
      "1.9632408102025507 at random_state 191\n",
      "1.9452363090772693 at random_state 192\n",
      "2.0367591897974493 at random_state 193\n",
      "2.0480120030007503 at random_state 194\n",
      "1.9962490622655664 at random_state 195\n",
      "2.032258064516129 at random_state 196\n",
      "2.0255063765941483 at random_state 197\n",
      "2.0472618154538633 at random_state 198\n",
      "2.04576144036009 at random_state 199\n"
     ]
    }
   ],
   "source": [
    "for i in range(200):\n",
    "    x_train, x_test, y_train, y_test = train_test_split(x,y, test_size=0.33, random_state=i)\n",
    "    \n",
    "    DTR = DecisionTreeRegressor()\n",
    "    DTR.fit(x_train, y_train)\n",
    "    pred=DTR.predict(x_test)\n",
    "    MAE= mean_absolute_error(y_test,pred)\n",
    "    print(MAE, \"at random_state\", i)"
   ]
  },
  {
   "cell_type": "markdown",
   "id": "3442b85c",
   "metadata": {},
   "source": [
    "# Decision tree is configured to select best random state "
   ]
  },
  {
   "cell_type": "code",
   "execution_count": 38,
   "id": "24946a13",
   "metadata": {},
   "outputs": [
    {
     "name": "stdout",
     "output_type": "stream",
     "text": [
      "Least MAE  2.1782178217821784  on Random_state  94\n"
     ]
    }
   ],
   "source": [
    "leastMAE=0\n",
    "maxRS=0\n",
    "for i in range(1,200):\n",
    "    x_train, x_test, y_train, y_test = train_test_split(x,y,test_size=0.30, random_state = i)\n",
    "    DTR = DecisionTreeRegressor()\n",
    "    DTR.fit(x_train, y_train)\n",
    "    pred = DTR.predict(x_test)\n",
    "    MAE= mean_absolute_error(y_test,pred)\n",
    "    if MAE>leastMAE:\n",
    "        leastMAE=MAE\n",
    "        maxRS=i\n",
    "print(\"Least MAE \", leastMAE,\" on Random_state \",maxRS)"
   ]
  },
  {
   "cell_type": "markdown",
   "id": "2f47f4f1",
   "metadata": {},
   "source": [
    "# Splitting dataset x train, x test, y train y test"
   ]
  },
  {
   "cell_type": "code",
   "execution_count": 39,
   "id": "25f36389",
   "metadata": {},
   "outputs": [],
   "source": [
    "x_train, x_test, y_train, y_test = train_test_split(x,y,test_size=0.3, random_state=94)"
   ]
  },
  {
   "cell_type": "code",
   "execution_count": 40,
   "id": "03014599",
   "metadata": {},
   "outputs": [
    {
     "name": "stdout",
     "output_type": "stream",
     "text": [
      "x-train shape:  (2827, 6)\n",
      "x-test shape:  (1212, 6)\n",
      "y-train shape:  (2827,)\n",
      "y-test shape:  (1212,)\n"
     ]
    }
   ],
   "source": [
    "print(\"x-train shape: \", x_train.shape)\n",
    "print(\"x-test shape: \", x_test.shape)\n",
    "print(\"y-train shape: \", y_train.shape)\n",
    "print(\"y-test shape: \", y_test.shape)"
   ]
  },
  {
   "cell_type": "markdown",
   "id": "c72b8e25",
   "metadata": {},
   "source": [
    "# Creating ML Algorithm"
   ]
  },
  {
   "cell_type": "markdown",
   "id": "af06fe9f",
   "metadata": {},
   "source": [
    "# 1.  Linear Regression"
   ]
  },
  {
   "cell_type": "code",
   "execution_count": 41,
   "id": "6419ebaa",
   "metadata": {},
   "outputs": [
    {
     "name": "stdout",
     "output_type": "stream",
     "text": [
      "Mean Absolute error:  1.5614650252015934\n"
     ]
    },
    {
     "data": {
      "text/plain": [
       "0.4551420196903284"
      ]
     },
     "execution_count": 41,
     "metadata": {},
     "output_type": "execute_result"
    }
   ],
   "source": [
    "lm = LinearRegression() \n",
    "lm.fit(x_train,y_train)\n",
    "pred=lm.predict(x_test) \n",
    "print('Mean Absolute error: ',mean_absolute_error(y_test,pred)) \n",
    "lm.score(x_train,y_train)"
   ]
  },
  {
   "cell_type": "markdown",
   "id": "d1ee3fce",
   "metadata": {},
   "source": [
    "Linear Regression Model Score is 45% with MAE = 1.56"
   ]
  },
  {
   "cell_type": "markdown",
   "id": "4c00f55e",
   "metadata": {},
   "source": [
    "# 2. Decision Tree Regression"
   ]
  },
  {
   "cell_type": "code",
   "execution_count": 42,
   "id": "9befcf8f",
   "metadata": {},
   "outputs": [
    {
     "name": "stdout",
     "output_type": "stream",
     "text": [
      "Mean Absolute error:  2.1765676567656764\n"
     ]
    },
    {
     "data": {
      "text/plain": [
       "1.0"
      ]
     },
     "execution_count": 42,
     "metadata": {},
     "output_type": "execute_result"
    }
   ],
   "source": [
    "DTR = DecisionTreeRegressor()\n",
    "DTR.fit(x_train, y_train)\n",
    "pred = DTR.predict(x_test)\n",
    "print('Mean Absolute error: ',mean_absolute_error(y_test,pred)) # Calculating MAE error between actual actual y value & prdicted y value\n",
    "DTR.score(x_train,y_train)"
   ]
  },
  {
   "cell_type": "markdown",
   "id": "516a466a",
   "metadata": {},
   "source": [
    "DTR Model Scored 100% with MAE = 2.17"
   ]
  },
  {
   "cell_type": "markdown",
   "id": "e924ada1",
   "metadata": {},
   "source": [
    "# 3. Random Forest Classifier"
   ]
  },
  {
   "cell_type": "code",
   "execution_count": 43,
   "id": "b2db7098",
   "metadata": {},
   "outputs": [
    {
     "name": "stdout",
     "output_type": "stream",
     "text": [
      "Mean Absolute error:  1.5425412541254124\n"
     ]
    },
    {
     "data": {
      "text/plain": [
       "0.9279754556433738"
      ]
     },
     "execution_count": 43,
     "metadata": {},
     "output_type": "execute_result"
    }
   ],
   "source": [
    "RFR = RandomForestRegressor()  \n",
    "RFR.fit(x_train, y_train)\n",
    "pred = RFR.predict(x_test) \n",
    "print('Mean Absolute error: ',mean_absolute_error(y_test,pred)) \n",
    "RFR.score(x_train,y_train)"
   ]
  },
  {
   "cell_type": "markdown",
   "id": "6e2da2a7",
   "metadata": {},
   "source": [
    "RFR Model Score is 92% with MAE = 1.54"
   ]
  },
  {
   "cell_type": "markdown",
   "id": "1ddfb04a",
   "metadata": {},
   "source": [
    "# 4. Support Vector Regressor"
   ]
  },
  {
   "cell_type": "code",
   "execution_count": 44,
   "id": "1d1f9917",
   "metadata": {},
   "outputs": [
    {
     "name": "stdout",
     "output_type": "stream",
     "text": [
      "Mean Absolute error:  1.4276880214298673\n"
     ]
    },
    {
     "data": {
      "text/plain": [
       "0.4891545515589656"
      ]
     },
     "execution_count": 44,
     "metadata": {},
     "output_type": "execute_result"
    }
   ],
   "source": [
    "SV = SVR()\n",
    "SV.fit(x_train, y_train) \n",
    "pred = SV.predict(x_test) \n",
    "print('Mean Absolute error: ',mean_absolute_error(y_test,pred)) \n",
    "SV.score(x_train,y_train)"
   ]
  },
  {
   "cell_type": "markdown",
   "id": "764ac3a2",
   "metadata": {},
   "source": [
    "SVR Model Score is 48% with MAE = 1.42"
   ]
  },
  {
   "cell_type": "markdown",
   "id": "addca2b3",
   "metadata": {},
   "source": [
    "# Kfold Cross Validation"
   ]
  },
  {
   "cell_type": "code",
   "execution_count": 45,
   "id": "085a6dd0",
   "metadata": {},
   "outputs": [],
   "source": [
    "from sklearn.model_selection import cross_val_score\n",
    "from sklearn.model_selection import KFold"
   ]
  },
  {
   "cell_type": "code",
   "execution_count": 46,
   "id": "b7be1cae",
   "metadata": {},
   "outputs": [],
   "source": [
    "# Creating CV Object with shuffle = true to avoid -ve CV Values as o/p\n",
    "cross_validation=KFold(5, shuffle =True) "
   ]
  },
  {
   "cell_type": "code",
   "execution_count": 47,
   "id": "294a96c5",
   "metadata": {},
   "outputs": [
    {
     "name": "stdout",
     "output_type": "stream",
     "text": [
      "0.4525305044091984\n"
     ]
    }
   ],
   "source": [
    " # Linear regression\n",
    "print(cross_val_score(lm,x,y,cv=cross_validation).mean())"
   ]
  },
  {
   "cell_type": "code",
   "execution_count": 48,
   "id": "60de120f",
   "metadata": {},
   "outputs": [
    {
     "name": "stdout",
     "output_type": "stream",
     "text": [
      "0.018519374508698738\n"
     ]
    }
   ],
   "source": [
    " # Decision Tree Regression\n",
    "print(cross_val_score(DTR,x,y,cv=cross_validation).mean())"
   ]
  },
  {
   "cell_type": "code",
   "execution_count": 49,
   "id": "362ef4b2",
   "metadata": {},
   "outputs": [
    {
     "name": "stdout",
     "output_type": "stream",
     "text": [
      "0.47203683090260695\n"
     ]
    }
   ],
   "source": [
    " # RandomForestClassifier\n",
    "print(cross_val_score(RFR,x,y,cv=cross_validation).mean())"
   ]
  },
  {
   "cell_type": "code",
   "execution_count": 50,
   "id": "312b0c4a",
   "metadata": {},
   "outputs": [
    {
     "name": "stdout",
     "output_type": "stream",
     "text": [
      "0.47616209945347165\n"
     ]
    }
   ],
   "source": [
    " # Support Vector Regressor\n",
    "print(cross_val_score(SV,x,y,cv=cross_validation).mean())"
   ]
  },
  {
   "cell_type": "markdown",
   "id": "86c12a0f",
   "metadata": {},
   "source": [
    "# Best Model Selection\n",
    "Diff(MAE-CV)-lm = 1.13\n",
    "\n",
    "Diff(MAE-CV)-DTR = 2.03\n",
    "\n",
    "Diff(MAE-CV)-RFR = 1.08\n",
    "\n",
    "Diff(MAE-CV)-SV = 1.00\n",
    "\n",
    "SVR Has Least Value = 1.00, so the best model is SVR & applying Hyperparameter on it."
   ]
  },
  {
   "cell_type": "code",
   "execution_count": null,
   "id": "ef2442c5",
   "metadata": {},
   "outputs": [],
   "source": []
  },
  {
   "cell_type": "markdown",
   "id": "1252371f",
   "metadata": {},
   "source": [
    "# GridSearch CV"
   ]
  },
  {
   "cell_type": "code",
   "execution_count": 51,
   "id": "df071578",
   "metadata": {},
   "outputs": [],
   "source": [
    "from sklearn.model_selection import GridSearchCV\n",
    "import numpy as np\n",
    "parameters = {'kernel':['linear','rbf'], 'C':[1,2,4,6,8,10], 'gamma': [0.1,0.01, 0.001, 0.0001]}\n"
   ]
  },
  {
   "cell_type": "code",
   "execution_count": 52,
   "id": "3a48056a",
   "metadata": {},
   "outputs": [],
   "source": [
    "#Applying Gridsearch to best model random forest classifier\n",
    "GCV=GridSearchCV(SVR(),parameters,cv=cross_validation)"
   ]
  },
  {
   "cell_type": "code",
   "execution_count": 53,
   "id": "08fa83e3",
   "metadata": {},
   "outputs": [
    {
     "data": {
      "text/plain": [
       "GridSearchCV(cv=KFold(n_splits=5, random_state=None, shuffle=True),\n",
       "             estimator=SVR(),\n",
       "             param_grid={'C': [1, 2, 4, 6, 8, 10],\n",
       "                         'gamma': [0.1, 0.01, 0.001, 0.0001],\n",
       "                         'kernel': ['linear', 'rbf']})"
      ]
     },
     "execution_count": 53,
     "metadata": {},
     "output_type": "execute_result"
    }
   ],
   "source": [
    "# Grid search CV applied to the Training Dataset\n",
    "GCV.fit(x_train,y_train)"
   ]
  },
  {
   "cell_type": "code",
   "execution_count": 54,
   "id": "4af36bd2",
   "metadata": {
    "scrolled": true
   },
   "outputs": [
    {
     "data": {
      "text/plain": [
       "{'C': 6, 'gamma': 0.1, 'kernel': 'rbf'}"
      ]
     },
     "execution_count": 54,
     "metadata": {},
     "output_type": "execute_result"
    }
   ],
   "source": [
    "GCV.best_params_"
   ]
  },
  {
   "cell_type": "markdown",
   "id": "3c174ed4",
   "metadata": {},
   "source": [
    "These are the best Parameter for SVR we got through GridsearchCV ({'C': 8, 'gamma': 0.1, 'kernel': 'rbf'})"
   ]
  },
  {
   "cell_type": "markdown",
   "id": "66153bd7",
   "metadata": {},
   "source": [
    "# Best Gridsearch parameter applied to best model"
   ]
  },
  {
   "cell_type": "code",
   "execution_count": 55,
   "id": "55f220d4",
   "metadata": {},
   "outputs": [
    {
     "name": "stdout",
     "output_type": "stream",
     "text": [
      "Mean Absolute error:  1.414210390538548\n"
     ]
    }
   ],
   "source": [
    "Final_mod = SVR(C = 8, gamma = 0.1, kernel = 'rbf')\n",
    "Final_mod.fit(x_train, y_train)\n",
    "pred = Final_mod.predict(x_test)\n",
    "print('Mean Absolute error: ',mean_absolute_error(y_test,pred))"
   ]
  },
  {
   "cell_type": "markdown",
   "id": "3a0ad3ad",
   "metadata": {},
   "source": [
    "Best MAE = 1.141 which is least among all above"
   ]
  },
  {
   "cell_type": "markdown",
   "id": "5d67bc6e",
   "metadata": {},
   "source": [
    "# Exporting Model file with joblib library"
   ]
  },
  {
   "cell_type": "code",
   "execution_count": 56,
   "id": "1a0f1b0f",
   "metadata": {},
   "outputs": [
    {
     "data": {
      "text/plain": [
       "['FinalModel.pkl']"
      ]
     },
     "execution_count": 56,
     "metadata": {},
     "output_type": "execute_result"
    }
   ],
   "source": [
    "#Exporting ML Model as .pkl file with joblib library\n",
    "import joblib\n",
    "joblib.dump(Final_mod,\"FinalModel.pkl\")"
   ]
  },
  {
   "cell_type": "code",
   "execution_count": null,
   "id": "ce928764",
   "metadata": {},
   "outputs": [],
   "source": []
  }
 ],
 "metadata": {
  "kernelspec": {
   "display_name": "Python 3",
   "language": "python",
   "name": "python3"
  },
  "language_info": {
   "codemirror_mode": {
    "name": "ipython",
    "version": 3
   },
   "file_extension": ".py",
   "mimetype": "text/x-python",
   "name": "python",
   "nbconvert_exporter": "python",
   "pygments_lexer": "ipython3",
   "version": "3.8.8"
  }
 },
 "nbformat": 4,
 "nbformat_minor": 5
}
