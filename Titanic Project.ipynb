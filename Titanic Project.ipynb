{
 "cells": [
  {
   "cell_type": "markdown",
   "id": "aaaa34b7",
   "metadata": {},
   "source": [
    "# Titanic Project"
   ]
  },
  {
   "cell_type": "markdown",
   "id": "f3a42d98",
   "metadata": {},
   "source": [
    "# Problem Statement:\n",
    "\n",
    "The Titanic Problem is based on the sinking of the ‘Unsinkable’ ship Titanic in early 1912. It gives you information about multiple people like their ages, sexes, sibling counts, embarkment points, and whether or not they survived the disaster. Based on these features, you have to predict if an arbitrary passenger on Titanic would survive the sinking or not.\n"
   ]
  },
  {
   "cell_type": "raw",
   "id": "8580477f",
   "metadata": {},
   "source": [
    "Techniques used:\n",
    "\n",
    "Pandas\n",
    "Numpy\n",
    "Matplotlib & Seaborn\n",
    "sklearn.model_selection - train_test_split\n",
    "sklearn.svm - SVC\n",
    "sklearn.preprocessing - LabelEncoder,StandardScaler,\n",
    "sklearn.linear_model - LogisticRegression\n",
    "sklearn.tree - DecisionTreeClassifier\n",
    "sklearn.ensemble - RandomForestClassifier\n",
    "sklearn.neighbors - KNeighborsClassifier\n",
    "sklearn.metrics - accuracy_score, confusion_matrix, classification_report, roc_curve, roc_auc_score"
   ]
  },
  {
   "cell_type": "code",
   "execution_count": 1,
   "id": "428f75d9",
   "metadata": {},
   "outputs": [],
   "source": [
    "import numpy as np\n",
    "import pandas as pd\n",
    "import matplotlib.pyplot as plt\n",
    "import seaborn as sns\n",
    "from sklearn.model_selection import train_test_split\n",
    "from sklearn.svm import SVC\n",
    "from sklearn.preprocessing import LabelEncoder\n",
    "from sklearn.preprocessing import StandardScaler\n",
    "from sklearn.linear_model import LogisticRegression\n",
    "from sklearn.tree import DecisionTreeClassifier\n",
    "from sklearn.ensemble import RandomForestClassifier\n",
    "from sklearn.neighbors import KNeighborsClassifier\n",
    "from sklearn.metrics import accuracy_score,confusion_matrix,classification_report,roc_curve,roc_auc_score\n",
    "import warnings\n",
    "warnings.filterwarnings('ignore')\n",
    "#As the metrics is common for all classification problems so imported common metrics all at once."
   ]
  },
  {
   "cell_type": "markdown",
   "id": "b55b8922",
   "metadata": {},
   "source": [
    "# Loading dataset and creating a Dataframe "
   ]
  },
  {
   "cell_type": "code",
   "execution_count": 2,
   "id": "dc4922f8",
   "metadata": {},
   "outputs": [
    {
     "data": {
      "text/html": [
       "<div>\n",
       "<style scoped>\n",
       "    .dataframe tbody tr th:only-of-type {\n",
       "        vertical-align: middle;\n",
       "    }\n",
       "\n",
       "    .dataframe tbody tr th {\n",
       "        vertical-align: top;\n",
       "    }\n",
       "\n",
       "    .dataframe thead th {\n",
       "        text-align: right;\n",
       "    }\n",
       "</style>\n",
       "<table border=\"1\" class=\"dataframe\">\n",
       "  <thead>\n",
       "    <tr style=\"text-align: right;\">\n",
       "      <th></th>\n",
       "      <th>PassengerId</th>\n",
       "      <th>Survived</th>\n",
       "      <th>Pclass</th>\n",
       "      <th>Name</th>\n",
       "      <th>Sex</th>\n",
       "      <th>Age</th>\n",
       "      <th>SibSp</th>\n",
       "      <th>Parch</th>\n",
       "      <th>Ticket</th>\n",
       "      <th>Fare</th>\n",
       "      <th>Cabin</th>\n",
       "      <th>Embarked</th>\n",
       "    </tr>\n",
       "  </thead>\n",
       "  <tbody>\n",
       "    <tr>\n",
       "      <th>0</th>\n",
       "      <td>1</td>\n",
       "      <td>0</td>\n",
       "      <td>3</td>\n",
       "      <td>Braund, Mr. Owen Harris</td>\n",
       "      <td>male</td>\n",
       "      <td>22.0</td>\n",
       "      <td>1</td>\n",
       "      <td>0</td>\n",
       "      <td>A/5 21171</td>\n",
       "      <td>7.2500</td>\n",
       "      <td>NaN</td>\n",
       "      <td>S</td>\n",
       "    </tr>\n",
       "    <tr>\n",
       "      <th>1</th>\n",
       "      <td>2</td>\n",
       "      <td>1</td>\n",
       "      <td>1</td>\n",
       "      <td>Cumings, Mrs. John Bradley (Florence Briggs Th...</td>\n",
       "      <td>female</td>\n",
       "      <td>38.0</td>\n",
       "      <td>1</td>\n",
       "      <td>0</td>\n",
       "      <td>PC 17599</td>\n",
       "      <td>71.2833</td>\n",
       "      <td>C85</td>\n",
       "      <td>C</td>\n",
       "    </tr>\n",
       "    <tr>\n",
       "      <th>2</th>\n",
       "      <td>3</td>\n",
       "      <td>1</td>\n",
       "      <td>3</td>\n",
       "      <td>Heikkinen, Miss. Laina</td>\n",
       "      <td>female</td>\n",
       "      <td>26.0</td>\n",
       "      <td>0</td>\n",
       "      <td>0</td>\n",
       "      <td>STON/O2. 3101282</td>\n",
       "      <td>7.9250</td>\n",
       "      <td>NaN</td>\n",
       "      <td>S</td>\n",
       "    </tr>\n",
       "    <tr>\n",
       "      <th>3</th>\n",
       "      <td>4</td>\n",
       "      <td>1</td>\n",
       "      <td>1</td>\n",
       "      <td>Futrelle, Mrs. Jacques Heath (Lily May Peel)</td>\n",
       "      <td>female</td>\n",
       "      <td>35.0</td>\n",
       "      <td>1</td>\n",
       "      <td>0</td>\n",
       "      <td>113803</td>\n",
       "      <td>53.1000</td>\n",
       "      <td>C123</td>\n",
       "      <td>S</td>\n",
       "    </tr>\n",
       "    <tr>\n",
       "      <th>4</th>\n",
       "      <td>5</td>\n",
       "      <td>0</td>\n",
       "      <td>3</td>\n",
       "      <td>Allen, Mr. William Henry</td>\n",
       "      <td>male</td>\n",
       "      <td>35.0</td>\n",
       "      <td>0</td>\n",
       "      <td>0</td>\n",
       "      <td>373450</td>\n",
       "      <td>8.0500</td>\n",
       "      <td>NaN</td>\n",
       "      <td>S</td>\n",
       "    </tr>\n",
       "  </tbody>\n",
       "</table>\n",
       "</div>"
      ],
      "text/plain": [
       "   PassengerId  Survived  Pclass  \\\n",
       "0            1         0       3   \n",
       "1            2         1       1   \n",
       "2            3         1       3   \n",
       "3            4         1       1   \n",
       "4            5         0       3   \n",
       "\n",
       "                                                Name     Sex   Age  SibSp  \\\n",
       "0                            Braund, Mr. Owen Harris    male  22.0      1   \n",
       "1  Cumings, Mrs. John Bradley (Florence Briggs Th...  female  38.0      1   \n",
       "2                             Heikkinen, Miss. Laina  female  26.0      0   \n",
       "3       Futrelle, Mrs. Jacques Heath (Lily May Peel)  female  35.0      1   \n",
       "4                           Allen, Mr. William Henry    male  35.0      0   \n",
       "\n",
       "   Parch            Ticket     Fare Cabin Embarked  \n",
       "0      0         A/5 21171   7.2500   NaN        S  \n",
       "1      0          PC 17599  71.2833   C85        C  \n",
       "2      0  STON/O2. 3101282   7.9250   NaN        S  \n",
       "3      0            113803  53.1000  C123        S  \n",
       "4      0            373450   8.0500   NaN        S  "
      ]
     },
     "execution_count": 2,
     "metadata": {},
     "output_type": "execute_result"
    }
   ],
   "source": [
    "# Loading Dataset\n",
    "data = pd.read_csv('titanic_train.csv')\n",
    "df=pd.DataFrame(data)\n",
    "df.head()"
   ]
  },
  {
   "cell_type": "raw",
   "id": "d0253c0c",
   "metadata": {},
   "source": [
    "# Here is a list of the columns of the dataset:\n",
    "\n",
    "PassengerID - Unique ID for each column\n",
    "Survived - Whether the passenger survived (1) or not (0)\n",
    "Pclass - Class of the passenger's ticket. Either 1, 2 or 3.\n",
    "Sex - Passenger's sex (male or female)\n",
    "Age - Passenger's age - Continous Variable\n",
    "Sibsp - Number of sibling or spouses aboard the Titanic\n",
    "Parch - Number of parents or children aboard the Titanic\n",
    "Ticket - Passenger's ticket number\n",
    "Fare - The price paid for the passenger's ticket - Continous Variable\n",
    "Cabin - Passenger's cabin number\n",
    "Embarked - Port where the passenger embarked. Can be:\n",
    "C - Cherbourg\n",
    "Q - Queenstown\n",
    "S - Southampton"
   ]
  },
  {
   "cell_type": "markdown",
   "id": "0992bb8f",
   "metadata": {},
   "source": [
    "# Initial data processing"
   ]
  },
  {
   "cell_type": "code",
   "execution_count": 4,
   "id": "70d3a81c",
   "metadata": {},
   "outputs": [
    {
     "data": {
      "text/plain": [
       "(891, 12)"
      ]
     },
     "execution_count": 4,
     "metadata": {},
     "output_type": "execute_result"
    }
   ],
   "source": [
    "df.shape"
   ]
  },
  {
   "cell_type": "markdown",
   "id": "f104b2f7",
   "metadata": {},
   "source": [
    "Dataset has  891 Rows & 12 Column observation, out of which 1 is target columns and rest 11 are featured columns"
   ]
  },
  {
   "cell_type": "code",
   "execution_count": 7,
   "id": "079ed10d",
   "metadata": {},
   "outputs": [
    {
     "data": {
      "text/html": [
       "<div>\n",
       "<style scoped>\n",
       "    .dataframe tbody tr th:only-of-type {\n",
       "        vertical-align: middle;\n",
       "    }\n",
       "\n",
       "    .dataframe tbody tr th {\n",
       "        vertical-align: top;\n",
       "    }\n",
       "\n",
       "    .dataframe thead th {\n",
       "        text-align: right;\n",
       "    }\n",
       "</style>\n",
       "<table border=\"1\" class=\"dataframe\">\n",
       "  <thead>\n",
       "    <tr style=\"text-align: right;\">\n",
       "      <th></th>\n",
       "      <th>PassengerId</th>\n",
       "      <th>Survived</th>\n",
       "      <th>Pclass</th>\n",
       "      <th>Age</th>\n",
       "      <th>SibSp</th>\n",
       "      <th>Parch</th>\n",
       "      <th>Fare</th>\n",
       "    </tr>\n",
       "  </thead>\n",
       "  <tbody>\n",
       "    <tr>\n",
       "      <th>count</th>\n",
       "      <td>891.000000</td>\n",
       "      <td>891.000000</td>\n",
       "      <td>891.000000</td>\n",
       "      <td>714.000000</td>\n",
       "      <td>891.000000</td>\n",
       "      <td>891.000000</td>\n",
       "      <td>891.000000</td>\n",
       "    </tr>\n",
       "    <tr>\n",
       "      <th>mean</th>\n",
       "      <td>446.000000</td>\n",
       "      <td>0.383838</td>\n",
       "      <td>2.308642</td>\n",
       "      <td>29.699118</td>\n",
       "      <td>0.523008</td>\n",
       "      <td>0.381594</td>\n",
       "      <td>32.204208</td>\n",
       "    </tr>\n",
       "    <tr>\n",
       "      <th>std</th>\n",
       "      <td>257.353842</td>\n",
       "      <td>0.486592</td>\n",
       "      <td>0.836071</td>\n",
       "      <td>14.526497</td>\n",
       "      <td>1.102743</td>\n",
       "      <td>0.806057</td>\n",
       "      <td>49.693429</td>\n",
       "    </tr>\n",
       "    <tr>\n",
       "      <th>min</th>\n",
       "      <td>1.000000</td>\n",
       "      <td>0.000000</td>\n",
       "      <td>1.000000</td>\n",
       "      <td>0.420000</td>\n",
       "      <td>0.000000</td>\n",
       "      <td>0.000000</td>\n",
       "      <td>0.000000</td>\n",
       "    </tr>\n",
       "    <tr>\n",
       "      <th>25%</th>\n",
       "      <td>223.500000</td>\n",
       "      <td>0.000000</td>\n",
       "      <td>2.000000</td>\n",
       "      <td>20.125000</td>\n",
       "      <td>0.000000</td>\n",
       "      <td>0.000000</td>\n",
       "      <td>7.910400</td>\n",
       "    </tr>\n",
       "    <tr>\n",
       "      <th>50%</th>\n",
       "      <td>446.000000</td>\n",
       "      <td>0.000000</td>\n",
       "      <td>3.000000</td>\n",
       "      <td>28.000000</td>\n",
       "      <td>0.000000</td>\n",
       "      <td>0.000000</td>\n",
       "      <td>14.454200</td>\n",
       "    </tr>\n",
       "    <tr>\n",
       "      <th>75%</th>\n",
       "      <td>668.500000</td>\n",
       "      <td>1.000000</td>\n",
       "      <td>3.000000</td>\n",
       "      <td>38.000000</td>\n",
       "      <td>1.000000</td>\n",
       "      <td>0.000000</td>\n",
       "      <td>31.000000</td>\n",
       "    </tr>\n",
       "    <tr>\n",
       "      <th>max</th>\n",
       "      <td>891.000000</td>\n",
       "      <td>1.000000</td>\n",
       "      <td>3.000000</td>\n",
       "      <td>80.000000</td>\n",
       "      <td>8.000000</td>\n",
       "      <td>6.000000</td>\n",
       "      <td>512.329200</td>\n",
       "    </tr>\n",
       "  </tbody>\n",
       "</table>\n",
       "</div>"
      ],
      "text/plain": [
       "       PassengerId    Survived      Pclass         Age       SibSp  \\\n",
       "count   891.000000  891.000000  891.000000  714.000000  891.000000   \n",
       "mean    446.000000    0.383838    2.308642   29.699118    0.523008   \n",
       "std     257.353842    0.486592    0.836071   14.526497    1.102743   \n",
       "min       1.000000    0.000000    1.000000    0.420000    0.000000   \n",
       "25%     223.500000    0.000000    2.000000   20.125000    0.000000   \n",
       "50%     446.000000    0.000000    3.000000   28.000000    0.000000   \n",
       "75%     668.500000    1.000000    3.000000   38.000000    1.000000   \n",
       "max     891.000000    1.000000    3.000000   80.000000    8.000000   \n",
       "\n",
       "            Parch        Fare  \n",
       "count  891.000000  891.000000  \n",
       "mean     0.381594   32.204208  \n",
       "std      0.806057   49.693429  \n",
       "min      0.000000    0.000000  \n",
       "25%      0.000000    7.910400  \n",
       "50%      0.000000   14.454200  \n",
       "75%      0.000000   31.000000  \n",
       "max      6.000000  512.329200  "
      ]
     },
     "execution_count": 7,
     "metadata": {},
     "output_type": "execute_result"
    }
   ],
   "source": [
    "#data statistics\n",
    "df.describe()"
   ]
  },
  {
   "cell_type": "markdown",
   "id": "536198f0",
   "metadata": {},
   "source": [
    "# Getting more information on the dataset"
   ]
  },
  {
   "cell_type": "code",
   "execution_count": 5,
   "id": "86ee606b",
   "metadata": {},
   "outputs": [
    {
     "name": "stdout",
     "output_type": "stream",
     "text": [
      "<class 'pandas.core.frame.DataFrame'>\n",
      "RangeIndex: 891 entries, 0 to 890\n",
      "Data columns (total 12 columns):\n",
      " #   Column       Non-Null Count  Dtype  \n",
      "---  ------       --------------  -----  \n",
      " 0   PassengerId  891 non-null    int64  \n",
      " 1   Survived     891 non-null    int64  \n",
      " 2   Pclass       891 non-null    int64  \n",
      " 3   Name         891 non-null    object \n",
      " 4   Sex          891 non-null    object \n",
      " 5   Age          714 non-null    float64\n",
      " 6   SibSp        891 non-null    int64  \n",
      " 7   Parch        891 non-null    int64  \n",
      " 8   Ticket       891 non-null    object \n",
      " 9   Fare         891 non-null    float64\n",
      " 10  Cabin        204 non-null    object \n",
      " 11  Embarked     889 non-null    object \n",
      "dtypes: float64(2), int64(5), object(5)\n",
      "memory usage: 83.7+ KB\n"
     ]
    }
   ],
   "source": [
    "df.info()"
   ]
  },
  {
   "cell_type": "code",
   "execution_count": 6,
   "id": "dd4b20a9",
   "metadata": {},
   "outputs": [
    {
     "data": {
      "text/plain": [
       "PassengerId      0\n",
       "Survived         0\n",
       "Pclass           0\n",
       "Name             0\n",
       "Sex              0\n",
       "Age            177\n",
       "SibSp            0\n",
       "Parch            0\n",
       "Ticket           0\n",
       "Fare             0\n",
       "Cabin          687\n",
       "Embarked         2\n",
       "dtype: int64"
      ]
     },
     "execution_count": 6,
     "metadata": {},
     "output_type": "execute_result"
    }
   ],
   "source": [
    "df.isnull().sum()"
   ]
  },
  {
   "cell_type": "markdown",
   "id": "31171b1c",
   "metadata": {},
   "source": [
    "From the above it is clear that some missing datas are present, that is \n",
    "\n",
    "1 - maximum missing data is 687 in Cabin column.\n",
    "\n",
    "2 - in the second place is 177 in Age column.\n",
    "\n",
    "3 - minimum missing data is 2 in Embarked column."
   ]
  },
  {
   "cell_type": "markdown",
   "id": "e53e3b9b",
   "metadata": {},
   "source": [
    "# Handling the missing data"
   ]
  },
  {
   "cell_type": "markdown",
   "id": "aee01887",
   "metadata": {},
   "source": [
    "# 1. Maximum missing data\n",
    "\n",
    "Since Cabin Column has maximum missing data and it is not having any significance in the survival or not (influencing target variable), lets drop the Cabin column.\n",
    "\n",
    "And similarly PassengerId, Name and Ticket details have no significance in the survival or not (influencing target variable), so lets drop the PassengerId, Name and Ticket columns as well."
   ]
  },
  {
   "cell_type": "code",
   "execution_count": 8,
   "id": "fb37b986",
   "metadata": {},
   "outputs": [],
   "source": [
    "#Dropping the columns that is not influencing the targer variable.\n",
    "df.drop(['PassengerId','Name','Cabin','Ticket'],axis=1,inplace=True)"
   ]
  },
  {
   "cell_type": "markdown",
   "id": "2c76675e",
   "metadata": {},
   "source": [
    "# 2. Less missing data\n",
    "\n",
    "Since Age Column 177 missing datas out of 891 datas, it cannot be dropped.\n",
    "So the next best approch is replacing the missing datas with the mean value."
   ]
  },
  {
   "cell_type": "code",
   "execution_count": 9,
   "id": "6fe25748",
   "metadata": {},
   "outputs": [],
   "source": [
    "#Replacing missing data with mean value\n",
    "df['Age'].fillna(df['Age'].mean(), inplace = True)"
   ]
  },
  {
   "cell_type": "markdown",
   "id": "e208466d",
   "metadata": {},
   "source": [
    "# 3. Minimum missing data\n",
    "\n",
    "Since Embarked Column has only 2 missing datas out of 891 datas, it also cannot be dropped or replaced with mean value.\n",
    "So the next best approch is replacing the missing datas with the most occuring data that is mode value."
   ]
  },
  {
   "cell_type": "code",
   "execution_count": 11,
   "id": "c81303c8",
   "metadata": {},
   "outputs": [
    {
     "name": "stdout",
     "output_type": "stream",
     "text": [
      "S\n"
     ]
    }
   ],
   "source": [
    "#checking the mode value\n",
    "print (df['Embarked'].mode()[0])"
   ]
  },
  {
   "cell_type": "markdown",
   "id": "266b6ee3",
   "metadata": {},
   "source": [
    "So, most of the people have Embarked from S - Southampton, we will consider that the 2 missing people have Embarked from S - Southampton."
   ]
  },
  {
   "cell_type": "code",
   "execution_count": 13,
   "id": "e5b8c95d",
   "metadata": {},
   "outputs": [],
   "source": [
    "# Replacing the missing value with mode value\n",
    "df['Embarked'].fillna(df['Embarked'].mode()[0], inplace=True)"
   ]
  },
  {
   "cell_type": "markdown",
   "id": "edbfc0c8",
   "metadata": {},
   "source": [
    "# Checking the data of the updated Dataframe"
   ]
  },
  {
   "cell_type": "code",
   "execution_count": 14,
   "id": "2abf2a13",
   "metadata": {},
   "outputs": [
    {
     "data": {
      "text/plain": [
       "(891, 8)"
      ]
     },
     "execution_count": 14,
     "metadata": {},
     "output_type": "execute_result"
    }
   ],
   "source": [
    "df.shape"
   ]
  },
  {
   "cell_type": "code",
   "execution_count": 15,
   "id": "ecf8bd93",
   "metadata": {},
   "outputs": [
    {
     "data": {
      "text/plain": [
       "Survived    0\n",
       "Pclass      0\n",
       "Sex         0\n",
       "Age         0\n",
       "SibSp       0\n",
       "Parch       0\n",
       "Fare        0\n",
       "Embarked    0\n",
       "dtype: int64"
      ]
     },
     "execution_count": 15,
     "metadata": {},
     "output_type": "execute_result"
    }
   ],
   "source": [
    "df.isnull().sum()"
   ]
  },
  {
   "cell_type": "markdown",
   "id": "f37f23ce",
   "metadata": {},
   "source": [
    "So there is no missing data now."
   ]
  },
  {
   "cell_type": "code",
   "execution_count": 16,
   "id": "377bd214",
   "metadata": {},
   "outputs": [
    {
     "data": {
      "text/html": [
       "<div>\n",
       "<style scoped>\n",
       "    .dataframe tbody tr th:only-of-type {\n",
       "        vertical-align: middle;\n",
       "    }\n",
       "\n",
       "    .dataframe tbody tr th {\n",
       "        vertical-align: top;\n",
       "    }\n",
       "\n",
       "    .dataframe thead th {\n",
       "        text-align: right;\n",
       "    }\n",
       "</style>\n",
       "<table border=\"1\" class=\"dataframe\">\n",
       "  <thead>\n",
       "    <tr style=\"text-align: right;\">\n",
       "      <th></th>\n",
       "      <th>Survived</th>\n",
       "      <th>Pclass</th>\n",
       "      <th>Sex</th>\n",
       "      <th>Age</th>\n",
       "      <th>SibSp</th>\n",
       "      <th>Parch</th>\n",
       "      <th>Fare</th>\n",
       "      <th>Embarked</th>\n",
       "    </tr>\n",
       "  </thead>\n",
       "  <tbody>\n",
       "    <tr>\n",
       "      <th>0</th>\n",
       "      <td>0</td>\n",
       "      <td>3</td>\n",
       "      <td>male</td>\n",
       "      <td>22.0</td>\n",
       "      <td>1</td>\n",
       "      <td>0</td>\n",
       "      <td>7.2500</td>\n",
       "      <td>S</td>\n",
       "    </tr>\n",
       "    <tr>\n",
       "      <th>1</th>\n",
       "      <td>1</td>\n",
       "      <td>1</td>\n",
       "      <td>female</td>\n",
       "      <td>38.0</td>\n",
       "      <td>1</td>\n",
       "      <td>0</td>\n",
       "      <td>71.2833</td>\n",
       "      <td>C</td>\n",
       "    </tr>\n",
       "    <tr>\n",
       "      <th>2</th>\n",
       "      <td>1</td>\n",
       "      <td>3</td>\n",
       "      <td>female</td>\n",
       "      <td>26.0</td>\n",
       "      <td>0</td>\n",
       "      <td>0</td>\n",
       "      <td>7.9250</td>\n",
       "      <td>S</td>\n",
       "    </tr>\n",
       "    <tr>\n",
       "      <th>3</th>\n",
       "      <td>1</td>\n",
       "      <td>1</td>\n",
       "      <td>female</td>\n",
       "      <td>35.0</td>\n",
       "      <td>1</td>\n",
       "      <td>0</td>\n",
       "      <td>53.1000</td>\n",
       "      <td>S</td>\n",
       "    </tr>\n",
       "    <tr>\n",
       "      <th>4</th>\n",
       "      <td>0</td>\n",
       "      <td>3</td>\n",
       "      <td>male</td>\n",
       "      <td>35.0</td>\n",
       "      <td>0</td>\n",
       "      <td>0</td>\n",
       "      <td>8.0500</td>\n",
       "      <td>S</td>\n",
       "    </tr>\n",
       "  </tbody>\n",
       "</table>\n",
       "</div>"
      ],
      "text/plain": [
       "   Survived  Pclass     Sex   Age  SibSp  Parch     Fare Embarked\n",
       "0         0       3    male  22.0      1      0   7.2500        S\n",
       "1         1       1  female  38.0      1      0  71.2833        C\n",
       "2         1       3  female  26.0      0      0   7.9250        S\n",
       "3         1       1  female  35.0      1      0  53.1000        S\n",
       "4         0       3    male  35.0      0      0   8.0500        S"
      ]
     },
     "execution_count": 16,
     "metadata": {},
     "output_type": "execute_result"
    }
   ],
   "source": [
    "df.head()"
   ]
  },
  {
   "cell_type": "markdown",
   "id": "b8824d1c",
   "metadata": {},
   "source": [
    "The dataframe shows only influencing variables after unrelevant variable got dropped."
   ]
  },
  {
   "cell_type": "markdown",
   "id": "0c07d051",
   "metadata": {},
   "source": [
    "Now, From the above data lets convert the Sex column and Embarked column to computer laguage that is numerical values."
   ]
  },
  {
   "cell_type": "markdown",
   "id": "b387041c",
   "metadata": {},
   "source": [
    "# Encoding the catergorical columns"
   ]
  },
  {
   "cell_type": "code",
   "execution_count": 17,
   "id": "44b9021e",
   "metadata": {},
   "outputs": [
    {
     "data": {
      "text/plain": [
       "male      577\n",
       "female    314\n",
       "Name: Sex, dtype: int64"
      ]
     },
     "execution_count": 17,
     "metadata": {},
     "output_type": "execute_result"
    }
   ],
   "source": [
    "# Before Encoding data details\n",
    "df['Sex'].value_counts()"
   ]
  },
  {
   "cell_type": "code",
   "execution_count": 18,
   "id": "129ca5a9",
   "metadata": {},
   "outputs": [
    {
     "data": {
      "text/plain": [
       "S    646\n",
       "C    168\n",
       "Q     77\n",
       "Name: Embarked, dtype: int64"
      ]
     },
     "execution_count": 18,
     "metadata": {},
     "output_type": "execute_result"
    }
   ],
   "source": [
    "df['Embarked'].value_counts()"
   ]
  },
  {
   "cell_type": "code",
   "execution_count": 19,
   "id": "ab9d81be",
   "metadata": {},
   "outputs": [],
   "source": [
    "df.replace({'Sex':{'male':0, 'female':1}, 'Embarked':{'S':0, 'C':1, 'Q':2}}, inplace=True)"
   ]
  },
  {
   "cell_type": "code",
   "execution_count": 20,
   "id": "6eee0135",
   "metadata": {},
   "outputs": [
    {
     "data": {
      "text/html": [
       "<div>\n",
       "<style scoped>\n",
       "    .dataframe tbody tr th:only-of-type {\n",
       "        vertical-align: middle;\n",
       "    }\n",
       "\n",
       "    .dataframe tbody tr th {\n",
       "        vertical-align: top;\n",
       "    }\n",
       "\n",
       "    .dataframe thead th {\n",
       "        text-align: right;\n",
       "    }\n",
       "</style>\n",
       "<table border=\"1\" class=\"dataframe\">\n",
       "  <thead>\n",
       "    <tr style=\"text-align: right;\">\n",
       "      <th></th>\n",
       "      <th>Survived</th>\n",
       "      <th>Pclass</th>\n",
       "      <th>Sex</th>\n",
       "      <th>Age</th>\n",
       "      <th>SibSp</th>\n",
       "      <th>Parch</th>\n",
       "      <th>Fare</th>\n",
       "      <th>Embarked</th>\n",
       "    </tr>\n",
       "  </thead>\n",
       "  <tbody>\n",
       "    <tr>\n",
       "      <th>0</th>\n",
       "      <td>0</td>\n",
       "      <td>3</td>\n",
       "      <td>0</td>\n",
       "      <td>22.0</td>\n",
       "      <td>1</td>\n",
       "      <td>0</td>\n",
       "      <td>7.2500</td>\n",
       "      <td>0</td>\n",
       "    </tr>\n",
       "    <tr>\n",
       "      <th>1</th>\n",
       "      <td>1</td>\n",
       "      <td>1</td>\n",
       "      <td>1</td>\n",
       "      <td>38.0</td>\n",
       "      <td>1</td>\n",
       "      <td>0</td>\n",
       "      <td>71.2833</td>\n",
       "      <td>1</td>\n",
       "    </tr>\n",
       "    <tr>\n",
       "      <th>2</th>\n",
       "      <td>1</td>\n",
       "      <td>3</td>\n",
       "      <td>1</td>\n",
       "      <td>26.0</td>\n",
       "      <td>0</td>\n",
       "      <td>0</td>\n",
       "      <td>7.9250</td>\n",
       "      <td>0</td>\n",
       "    </tr>\n",
       "    <tr>\n",
       "      <th>3</th>\n",
       "      <td>1</td>\n",
       "      <td>1</td>\n",
       "      <td>1</td>\n",
       "      <td>35.0</td>\n",
       "      <td>1</td>\n",
       "      <td>0</td>\n",
       "      <td>53.1000</td>\n",
       "      <td>0</td>\n",
       "    </tr>\n",
       "    <tr>\n",
       "      <th>4</th>\n",
       "      <td>0</td>\n",
       "      <td>3</td>\n",
       "      <td>0</td>\n",
       "      <td>35.0</td>\n",
       "      <td>0</td>\n",
       "      <td>0</td>\n",
       "      <td>8.0500</td>\n",
       "      <td>0</td>\n",
       "    </tr>\n",
       "  </tbody>\n",
       "</table>\n",
       "</div>"
      ],
      "text/plain": [
       "   Survived  Pclass  Sex   Age  SibSp  Parch     Fare  Embarked\n",
       "0         0       3    0  22.0      1      0   7.2500         0\n",
       "1         1       1    1  38.0      1      0  71.2833         1\n",
       "2         1       3    1  26.0      0      0   7.9250         0\n",
       "3         1       1    1  35.0      1      0  53.1000         0\n",
       "4         0       3    0  35.0      0      0   8.0500         0"
      ]
     },
     "execution_count": 20,
     "metadata": {},
     "output_type": "execute_result"
    }
   ],
   "source": [
    "df.head()"
   ]
  },
  {
   "cell_type": "code",
   "execution_count": 22,
   "id": "9446f2f1",
   "metadata": {},
   "outputs": [
    {
     "data": {
      "text/plain": [
       "0    577\n",
       "1    314\n",
       "Name: Sex, dtype: int64"
      ]
     },
     "execution_count": 22,
     "metadata": {},
     "output_type": "execute_result"
    }
   ],
   "source": [
    "# After Encoding data details\n",
    "df['Sex'].value_counts()"
   ]
  },
  {
   "cell_type": "code",
   "execution_count": 23,
   "id": "eb9fe6c7",
   "metadata": {},
   "outputs": [
    {
     "data": {
      "text/plain": [
       "0    646\n",
       "1    168\n",
       "2     77\n",
       "Name: Embarked, dtype: int64"
      ]
     },
     "execution_count": 23,
     "metadata": {},
     "output_type": "execute_result"
    }
   ],
   "source": [
    "df['Embarked'].value_counts()"
   ]
  },
  {
   "cell_type": "markdown",
   "id": "13e6cab3",
   "metadata": {},
   "source": [
    "# Data Visualisation"
   ]
  },
  {
   "cell_type": "code",
   "execution_count": 24,
   "id": "b3367bc5",
   "metadata": {},
   "outputs": [
    {
     "data": {
      "text/plain": [
       "Index(['Survived', 'Pclass', 'Sex', 'Age', 'SibSp', 'Parch', 'Fare',\n",
       "       'Embarked'],\n",
       "      dtype='object')"
      ]
     },
     "execution_count": 24,
     "metadata": {},
     "output_type": "execute_result"
    }
   ],
   "source": [
    "#Count plot for Categorical Variables\n",
    "df.columns"
   ]
  },
  {
   "cell_type": "markdown",
   "id": "2561ac09",
   "metadata": {},
   "source": [
    "Correct Column name Displayed without any spaces present in col name."
   ]
  },
  {
   "cell_type": "markdown",
   "id": "09c75539",
   "metadata": {},
   "source": [
    "# For Survived"
   ]
  },
  {
   "cell_type": "code",
   "execution_count": 27,
   "id": "c171fb77",
   "metadata": {},
   "outputs": [
    {
     "data": {
      "text/plain": [
       "0    549\n",
       "1    342\n",
       "Name: Survived, dtype: int64"
      ]
     },
     "execution_count": 27,
     "metadata": {},
     "output_type": "execute_result"
    }
   ],
   "source": [
    "df['Survived'].value_counts()"
   ]
  },
  {
   "cell_type": "markdown",
   "id": "9316ebb9",
   "metadata": {},
   "source": [
    "0 - Not Survived\n",
    "\n",
    "1- Survived"
   ]
  },
  {
   "cell_type": "code",
   "execution_count": 28,
   "id": "8b7cdc34",
   "metadata": {},
   "outputs": [
    {
     "data": {
      "text/plain": [
       "<AxesSubplot:xlabel='Survived', ylabel='count'>"
      ]
     },
     "execution_count": 28,
     "metadata": {},
     "output_type": "execute_result"
    },
    {
     "data": {
      "image/png": "[encoded data removed]",
      "text/plain": [
       "<Figure size 432x288 with 1 Axes>"
      ]
     },
     "metadata": {
      "needs_background": "light"
     },
     "output_type": "display_data"
    }
   ],
   "source": [
    "sns.countplot(df['Survived'])"
   ]
  },
  {
   "cell_type": "markdown",
   "id": "dc16e54f",
   "metadata": {},
   "source": [
    "# For Sex"
   ]
  },
  {
   "cell_type": "code",
   "execution_count": 29,
   "id": "674a2291",
   "metadata": {},
   "outputs": [
    {
     "data": {
      "text/plain": [
       "0    577\n",
       "1    314\n",
       "Name: Sex, dtype: int64"
      ]
     },
     "execution_count": 29,
     "metadata": {},
     "output_type": "execute_result"
    }
   ],
   "source": [
    "df['Sex'].value_counts()"
   ]
  },
  {
   "cell_type": "markdown",
   "id": "3a851cdd",
   "metadata": {},
   "source": [
    "0 - Male and 1 - Female"
   ]
  },
  {
   "cell_type": "code",
   "execution_count": 31,
   "id": "c8a44b7c",
   "metadata": {},
   "outputs": [
    {
     "data": {
      "text/plain": [
       "<AxesSubplot:xlabel='Sex', ylabel='count'>"
      ]
     },
     "execution_count": 31,
     "metadata": {},
     "output_type": "execute_result"
    },
    {
     "data": {
      "image/png": "[encoded data removed]",
      "text/plain": [
       "<Figure size 432x288 with 1 Axes>"
      ]
     },
     "metadata": {
      "needs_background": "light"
     },
     "output_type": "display_data"
    }
   ],
   "source": [
    "sns.countplot(df['Sex'])"
   ]
  },
  {
   "cell_type": "markdown",
   "id": "edd34174",
   "metadata": {},
   "source": [
    "# For SibSp"
   ]
  },
  {
   "cell_type": "code",
   "execution_count": 34,
   "id": "a2b06bbe",
   "metadata": {},
   "outputs": [
    {
     "data": {
      "text/plain": [
       "0    608\n",
       "1    209\n",
       "2     28\n",
       "4     18\n",
       "3     16\n",
       "8      7\n",
       "5      5\n",
       "Name: SibSp, dtype: int64"
      ]
     },
     "execution_count": 34,
     "metadata": {},
     "output_type": "execute_result"
    }
   ],
   "source": [
    "df['SibSp'].value_counts()"
   ]
  },
  {
   "cell_type": "code",
   "execution_count": 35,
   "id": "b590f364",
   "metadata": {},
   "outputs": [
    {
     "data": {
      "text/plain": [
       "<AxesSubplot:xlabel='SibSp', ylabel='count'>"
      ]
     },
     "execution_count": 35,
     "metadata": {},
     "output_type": "execute_result"
    },
    {
     "data": {
      "image/png": "[encoded data removed]",
      "text/plain": [
       "<Figure size 432x288 with 1 Axes>"
      ]
     },
     "metadata": {
      "needs_background": "light"
     },
     "output_type": "display_data"
    }
   ],
   "source": [
    "sns.countplot(df['SibSp'])"
   ]
  },
  {
   "cell_type": "markdown",
   "id": "a14bd9b0",
   "metadata": {},
   "source": [
    "SibSp has 5 unique values which represent No siblings & Spouses of the passenger aboard..\n",
    "\n",
    "0 count is the highest\n",
    "\n",
    "5 count is the least"
   ]
  },
  {
   "cell_type": "markdown",
   "id": "c4d53fee",
   "metadata": {},
   "source": [
    "# For Parch"
   ]
  },
  {
   "cell_type": "code",
   "execution_count": 36,
   "id": "7db6a1aa",
   "metadata": {},
   "outputs": [
    {
     "data": {
      "text/plain": [
       "0    678\n",
       "1    118\n",
       "2     80\n",
       "3      5\n",
       "5      5\n",
       "4      4\n",
       "6      1\n",
       "Name: Parch, dtype: int64"
      ]
     },
     "execution_count": 36,
     "metadata": {},
     "output_type": "execute_result"
    }
   ],
   "source": [
    "df['Parch'].value_counts()"
   ]
  },
  {
   "cell_type": "code",
   "execution_count": 37,
   "id": "bde0a28c",
   "metadata": {},
   "outputs": [
    {
     "data": {
      "text/plain": [
       "<AxesSubplot:xlabel='Parch', ylabel='count'>"
      ]
     },
     "execution_count": 37,
     "metadata": {},
     "output_type": "execute_result"
    },
    {
     "data": {
      "image/png": "[encoded data removed]",
      "text/plain": [
       "<Figure size 432x288 with 1 Axes>"
      ]
     },
     "metadata": {
      "needs_background": "light"
     },
     "output_type": "display_data"
    }
   ],
   "source": [
    "sns.countplot(df['Parch'])"
   ]
  },
  {
   "cell_type": "markdown",
   "id": "13d8e191",
   "metadata": {},
   "source": [
    "Parch Col represents No of Parents & Childrens of the passenger aboard.\n",
    "\n",
    "Where the count of 6 has only 1 which is the least.\n",
    "\n",
    "Count of 0 is the highest which is 678 means no parents & childrens of the passenger aboard present.\n",
    "\n",
    "There are 118 Obs which has 1 parents or children of the passenger aboard.\n",
    "\n",
    "There is 1 Obs which shows 6 no parents or childrens of passenger aboard."
   ]
  },
  {
   "cell_type": "markdown",
   "id": "d4b2ebc1",
   "metadata": {},
   "source": [
    "# Histogram plot"
   ]
  },
  {
   "cell_type": "code",
   "execution_count": 38,
   "id": "6d9200d8",
   "metadata": {},
   "outputs": [
    {
     "data": {
      "text/plain": [
       "array([[<AxesSubplot:title={'center':'Survived'}>,\n",
       "        <AxesSubplot:title={'center':'Pclass'}>,\n",
       "        <AxesSubplot:title={'center':'Sex'}>],\n",
       "       [<AxesSubplot:title={'center':'Age'}>,\n",
       "        <AxesSubplot:title={'center':'SibSp'}>,\n",
       "        <AxesSubplot:title={'center':'Parch'}>],\n",
       "       [<AxesSubplot:title={'center':'Fare'}>,\n",
       "        <AxesSubplot:title={'center':'Embarked'}>, <AxesSubplot:>]],\n",
       "      dtype=object)"
      ]
     },
     "execution_count": 38,
     "metadata": {},
     "output_type": "execute_result"
    },
    {
     "data": {
      "image/png": "[encoded data removed]",
      "text/plain": [
       "<Figure size 1296x864 with 9 Axes>"
      ]
     },
     "metadata": {
      "needs_background": "light"
     },
     "output_type": "display_data"
    }
   ],
   "source": [
    "df.hist(grid=False, figsize=(18,12), bins=30)"
   ]
  },
  {
   "cell_type": "code",
   "execution_count": 39,
   "id": "24baa44a",
   "metadata": {},
   "outputs": [
    {
     "data": {
      "image/png": "[encoded data removed]",
      "text/plain": [
       "<Figure size 432x288 with 1 Axes>"
      ]
     },
     "metadata": {
      "needs_background": "light"
     },
     "output_type": "display_data"
    },
    {
     "data": {
      "image/png": "[encoded data removed]",
      "text/plain": [
       "<Figure size 432x288 with 1 Axes>"
      ]
     },
     "metadata": {
      "needs_background": "light"
     },
     "output_type": "display_data"
    },
    {
     "data": {
      "image/png": "[encoded data removed]",
      "text/plain": [
       "<Figure size 432x288 with 1 Axes>"
      ]
     },
     "metadata": {
      "needs_background": "light"
     },
     "output_type": "display_data"
    },
    {
     "data": {
      "image/png": "[encoded data removed]",
      "text/plain": [
       "<Figure size 432x288 with 1 Axes>"
      ]
     },
     "metadata": {
      "needs_background": "light"
     },
     "output_type": "display_data"
    },
    {
     "data": {
      "image/png": "[encoded data removed]",
      "text/plain": [
       "<Figure size 432x288 with 1 Axes>"
      ]
     },
     "metadata": {
      "needs_background": "light"
     },
     "output_type": "display_data"
    },
    {
     "data": {
      "image/png": "[encoded data removed]",
      "text/plain": [
       "<Figure size 432x288 with 1 Axes>"
      ]
     },
     "metadata": {
      "needs_background": "light"
     },
     "output_type": "display_data"
    },
    {
     "data": {
      "image/png": "[encoded data removed]",
      "text/plain": [
       "<Figure size 432x288 with 1 Axes>"
      ]
     },
     "metadata": {
      "needs_background": "light"
     },
     "output_type": "display_data"
    },
    {
     "data": {
      "image/png": "[encoded data removed]",
      "text/plain": [
       "<Figure size 432x288 with 1 Axes>"
      ]
     },
     "metadata": {
      "needs_background": "light"
     },
     "output_type": "display_data"
    }
   ],
   "source": [
    "for i in df:\n",
    "    plt.figure()\n",
    "    sns.distplot(df[i])"
   ]
  },
  {
   "cell_type": "markdown",
   "id": "11835dc5",
   "metadata": {},
   "source": [
    "Fare has right skewed data."
   ]
  },
  {
   "cell_type": "code",
   "execution_count": 40,
   "id": "17f16044",
   "metadata": {},
   "outputs": [
    {
     "data": {
      "text/plain": [
       "<seaborn.axisgrid.PairGrid at 0x22c4668eb80>"
      ]
     },
     "execution_count": 40,
     "metadata": {},
     "output_type": "execute_result"
    },
    {
     "data": {
      "image/png": "[encoded data removed]",
      "text/plain": [
       "<Figure size 1311.88x1260 with 56 Axes>"
      ]
     },
     "metadata": {
      "needs_background": "light"
     },
     "output_type": "display_data"
    }
   ],
   "source": [
    "sns.pairplot(df,hue=\"Survived\")"
   ]
  },
  {
   "cell_type": "markdown",
   "id": "9e5eacaf",
   "metadata": {},
   "source": [
    "As most of the variables is categorical will show the value in Numbers.\n",
    "\n",
    "Pclass shows that passenger having high fare value are survived more then those having low fare value.\n",
    "\n",
    "Pclass with unique value 3 has high Sibling & Spouse values who are not surivived.\n",
    "\n",
    "Fare & Age shows non linear relationship."
   ]
  },
  {
   "cell_type": "markdown",
   "id": "f46dda71",
   "metadata": {},
   "source": [
    "# Correlation & HeatMap"
   ]
  },
  {
   "cell_type": "code",
   "execution_count": 45,
   "id": "fd7d88a6",
   "metadata": {},
   "outputs": [
    {
     "data": {
      "text/html": [
       "<div>\n",
       "<style scoped>\n",
       "    .dataframe tbody tr th:only-of-type {\n",
       "        vertical-align: middle;\n",
       "    }\n",
       "\n",
       "    .dataframe tbody tr th {\n",
       "        vertical-align: top;\n",
       "    }\n",
       "\n",
       "    .dataframe thead th {\n",
       "        text-align: right;\n",
       "    }\n",
       "</style>\n",
       "<table border=\"1\" class=\"dataframe\">\n",
       "  <thead>\n",
       "    <tr style=\"text-align: right;\">\n",
       "      <th></th>\n",
       "      <th>Survived</th>\n",
       "      <th>Pclass</th>\n",
       "      <th>Sex</th>\n",
       "      <th>Age</th>\n",
       "      <th>SibSp</th>\n",
       "      <th>Parch</th>\n",
       "      <th>Fare</th>\n",
       "      <th>Embarked</th>\n",
       "    </tr>\n",
       "  </thead>\n",
       "  <tbody>\n",
       "    <tr>\n",
       "      <th>Survived</th>\n",
       "      <td>1.000000</td>\n",
       "      <td>-0.338481</td>\n",
       "      <td>0.543351</td>\n",
       "      <td>-0.069809</td>\n",
       "      <td>-0.035322</td>\n",
       "      <td>0.081629</td>\n",
       "      <td>0.257307</td>\n",
       "      <td>0.106811</td>\n",
       "    </tr>\n",
       "    <tr>\n",
       "      <th>Pclass</th>\n",
       "      <td>-0.338481</td>\n",
       "      <td>1.000000</td>\n",
       "      <td>-0.131900</td>\n",
       "      <td>-0.331339</td>\n",
       "      <td>0.083081</td>\n",
       "      <td>0.018443</td>\n",
       "      <td>-0.549500</td>\n",
       "      <td>0.045702</td>\n",
       "    </tr>\n",
       "    <tr>\n",
       "      <th>Sex</th>\n",
       "      <td>0.543351</td>\n",
       "      <td>-0.131900</td>\n",
       "      <td>1.000000</td>\n",
       "      <td>-0.084153</td>\n",
       "      <td>0.114631</td>\n",
       "      <td>0.245489</td>\n",
       "      <td>0.182333</td>\n",
       "      <td>0.116569</td>\n",
       "    </tr>\n",
       "    <tr>\n",
       "      <th>Age</th>\n",
       "      <td>-0.069809</td>\n",
       "      <td>-0.331339</td>\n",
       "      <td>-0.084153</td>\n",
       "      <td>1.000000</td>\n",
       "      <td>-0.232625</td>\n",
       "      <td>-0.179191</td>\n",
       "      <td>0.091566</td>\n",
       "      <td>0.007461</td>\n",
       "    </tr>\n",
       "    <tr>\n",
       "      <th>SibSp</th>\n",
       "      <td>-0.035322</td>\n",
       "      <td>0.083081</td>\n",
       "      <td>0.114631</td>\n",
       "      <td>-0.232625</td>\n",
       "      <td>1.000000</td>\n",
       "      <td>0.414838</td>\n",
       "      <td>0.159651</td>\n",
       "      <td>-0.059961</td>\n",
       "    </tr>\n",
       "    <tr>\n",
       "      <th>Parch</th>\n",
       "      <td>0.081629</td>\n",
       "      <td>0.018443</td>\n",
       "      <td>0.245489</td>\n",
       "      <td>-0.179191</td>\n",
       "      <td>0.414838</td>\n",
       "      <td>1.000000</td>\n",
       "      <td>0.216225</td>\n",
       "      <td>-0.078665</td>\n",
       "    </tr>\n",
       "    <tr>\n",
       "      <th>Fare</th>\n",
       "      <td>0.257307</td>\n",
       "      <td>-0.549500</td>\n",
       "      <td>0.182333</td>\n",
       "      <td>0.091566</td>\n",
       "      <td>0.159651</td>\n",
       "      <td>0.216225</td>\n",
       "      <td>1.000000</td>\n",
       "      <td>0.062142</td>\n",
       "    </tr>\n",
       "    <tr>\n",
       "      <th>Embarked</th>\n",
       "      <td>0.106811</td>\n",
       "      <td>0.045702</td>\n",
       "      <td>0.116569</td>\n",
       "      <td>0.007461</td>\n",
       "      <td>-0.059961</td>\n",
       "      <td>-0.078665</td>\n",
       "      <td>0.062142</td>\n",
       "      <td>1.000000</td>\n",
       "    </tr>\n",
       "  </tbody>\n",
       "</table>\n",
       "</div>"
      ],
      "text/plain": [
       "          Survived    Pclass       Sex       Age     SibSp     Parch  \\\n",
       "Survived  1.000000 -0.338481  0.543351 -0.069809 -0.035322  0.081629   \n",
       "Pclass   -0.338481  1.000000 -0.131900 -0.331339  0.083081  0.018443   \n",
       "Sex       0.543351 -0.131900  1.000000 -0.084153  0.114631  0.245489   \n",
       "Age      -0.069809 -0.331339 -0.084153  1.000000 -0.232625 -0.179191   \n",
       "SibSp    -0.035322  0.083081  0.114631 -0.232625  1.000000  0.414838   \n",
       "Parch     0.081629  0.018443  0.245489 -0.179191  0.414838  1.000000   \n",
       "Fare      0.257307 -0.549500  0.182333  0.091566  0.159651  0.216225   \n",
       "Embarked  0.106811  0.045702  0.116569  0.007461 -0.059961 -0.078665   \n",
       "\n",
       "              Fare  Embarked  \n",
       "Survived  0.257307  0.106811  \n",
       "Pclass   -0.549500  0.045702  \n",
       "Sex       0.182333  0.116569  \n",
       "Age       0.091566  0.007461  \n",
       "SibSp     0.159651 -0.059961  \n",
       "Parch     0.216225 -0.078665  \n",
       "Fare      1.000000  0.062142  \n",
       "Embarked  0.062142  1.000000  "
      ]
     },
     "execution_count": 45,
     "metadata": {},
     "output_type": "execute_result"
    }
   ],
   "source": [
    "corr=df.corr()\n",
    "corr"
   ]
  },
  {
   "cell_type": "code",
   "execution_count": 46,
   "id": "1405f5e3",
   "metadata": {},
   "outputs": [
    {
     "data": {
      "text/plain": [
       "<AxesSubplot:>"
      ]
     },
     "execution_count": 46,
     "metadata": {},
     "output_type": "execute_result"
    },
    {
     "data": {
      "image/png": "[encoded data removed]",
      "text/plain": [
       "<Figure size 432x288 with 2 Axes>"
      ]
     },
     "metadata": {
      "needs_background": "light"
     },
     "output_type": "display_data"
    }
   ],
   "source": [
    "sns.heatmap(corr,annot=True,linewidths=6,linecolor='r')"
   ]
  },
  {
   "cell_type": "markdown",
   "id": "7c0ca60f",
   "metadata": {},
   "source": [
    "# MultiCollinearity Test : Variation Infaltion Factor"
   ]
  },
  {
   "cell_type": "code",
   "execution_count": 50,
   "id": "7074e9ac",
   "metadata": {},
   "outputs": [],
   "source": [
    "from statsmodels.stats.outliers_influence import variance_inflation_factor"
   ]
  },
  {
   "cell_type": "code",
   "execution_count": 51,
   "id": "a1842f6a",
   "metadata": {},
   "outputs": [],
   "source": [
    "def vif_calc():\n",
    "    vif=pd.DataFrame()\n",
    "    vif[\"VIF Factor\"]=[variance_inflation_factor(df.values,i) for i in range(df.shape[1])]\n",
    "    vif[\"features\"]=df.columns\n",
    "    print(vif)"
   ]
  },
  {
   "cell_type": "code",
   "execution_count": 52,
   "id": "4ff21c7f",
   "metadata": {},
   "outputs": [
    {
     "name": "stdout",
     "output_type": "stream",
     "text": [
      "   VIF Factor  features\n",
      "0    2.359230  Survived\n",
      "1    4.030973    Pclass\n",
      "2    2.363313       Sex\n",
      "3    4.008263       Age\n",
      "4    1.574811     SibSp\n",
      "5    1.632035     Parch\n",
      "6    1.862655      Fare\n",
      "7    1.395776  Embarked\n"
     ]
    }
   ],
   "source": [
    "vif_calc()"
   ]
  },
  {
   "cell_type": "markdown",
   "id": "93087489",
   "metadata": {},
   "source": [
    "# Outliers Removal & Percentage of Outliers present."
   ]
  },
  {
   "cell_type": "code",
   "execution_count": 54,
   "id": "0c78b9f6",
   "metadata": {},
   "outputs": [
    {
     "data": {
      "text/plain": [
       "<AxesSubplot:>"
      ]
     },
     "execution_count": 54,
     "metadata": {},
     "output_type": "execute_result"
    },
    {
     "data": {
      "image/png": "[encoded data removed]",
      "text/plain": [
       "<Figure size 1080x720 with 1 Axes>"
      ]
     },
     "metadata": {
      "needs_background": "light"
     },
     "output_type": "display_data"
    }
   ],
   "source": [
    "fig, ax =plt.subplots(figsize=(15,10))\n",
    "sns.boxplot(data=df, width = 0.5,ax=ax, fliersize=3)"
   ]
  },
  {
   "cell_type": "markdown",
   "id": "945f0b5c",
   "metadata": {},
   "source": [
    "# Z-Score for removing Outliers"
   ]
  },
  {
   "cell_type": "code",
   "execution_count": 55,
   "id": "e284e091",
   "metadata": {},
   "outputs": [
    {
     "name": "stdout",
     "output_type": "stream",
     "text": [
      "(array([ 13,  16,  25,  27,  50,  59,  68,  71,  86,  88,  96, 116, 118,\n",
      "       119, 159, 164, 167, 171, 180, 182, 201, 233, 258, 261, 266, 278,\n",
      "       299, 311, 324, 341, 360, 377, 380, 386, 437, 438, 438, 480, 493,\n",
      "       527, 541, 542, 557, 567, 610, 630, 638, 672, 678, 679, 683, 686,\n",
      "       689, 700, 716, 730, 736, 737, 742, 745, 774, 779, 787, 792, 813,\n",
      "       824, 846, 850, 851, 858, 863, 885], dtype=int64), array([5, 4, 5, 6, 4, 4, 4, 4, 5, 6, 3, 3, 6, 4, 4, 4, 5, 4, 4, 4, 4, 4,\n",
      "       6, 4, 4, 4, 6, 6, 4, 6, 5, 6, 6, 4, 5, 5, 6, 4, 3, 6, 4, 4, 6, 5,\n",
      "       5, 3, 5, 3, 5, 6, 4, 4, 6, 6, 6, 6, 5, 6, 6, 3, 5, 6, 4, 4, 4, 4,\n",
      "       4, 4, 3, 5, 4, 5], dtype=int64))\n"
     ]
    }
   ],
   "source": [
    "#detecting outliers\n",
    "from scipy.stats import zscore\n",
    "dfzscore=np.abs(zscore(df))\n",
    "print(np.where(dfzscore>3))"
   ]
  },
  {
   "cell_type": "code",
   "execution_count": 57,
   "id": "94bfc085",
   "metadata": {},
   "outputs": [
    {
     "name": "stdout",
     "output_type": "stream",
     "text": [
      "dfnew.shape= (820, 8)\n"
     ]
    }
   ],
   "source": [
    "dfnew=df[(dfzscore<3).all(axis=1)]\n",
    "print('dfnew.shape=',dfnew.shape)\n",
    "\n",
    "df=dfnew"
   ]
  },
  {
   "cell_type": "markdown",
   "id": "16d1ee79",
   "metadata": {},
   "source": [
    "Outliers removed as we can see with no of rows reduced to 820"
   ]
  },
  {
   "cell_type": "code",
   "execution_count": 58,
   "id": "6ab82502",
   "metadata": {},
   "outputs": [
    {
     "data": {
      "text/plain": [
       "7.968574635241302"
      ]
     },
     "execution_count": 58,
     "metadata": {},
     "output_type": "execute_result"
    }
   ],
   "source": [
    "Data_loss=((891-820)/891)*100 # Computing outlier percentage\n",
    "Data_loss"
   ]
  },
  {
   "cell_type": "markdown",
   "id": "966ba6dc",
   "metadata": {},
   "source": [
    "The total Outliers removed is less then 8% hence the same is removed from the dataset for preparing model."
   ]
  },
  {
   "cell_type": "code",
   "execution_count": 59,
   "id": "ac61c387",
   "metadata": {},
   "outputs": [
    {
     "data": {
      "text/plain": [
       "Survived    0.450825\n",
       "Pclass     -0.632242\n",
       "Sex         0.664152\n",
       "Age         0.318314\n",
       "SibSp       1.979577\n",
       "Parch       2.122629\n",
       "Fare        2.318761\n",
       "Embarked    1.552592\n",
       "dtype: float64"
      ]
     },
     "execution_count": 59,
     "metadata": {},
     "output_type": "execute_result"
    }
   ],
   "source": [
    "df.skew()"
   ]
  },
  {
   "cell_type": "markdown",
   "id": "a02c8953",
   "metadata": {},
   "source": [
    "Fare Col is Coninous shows high positive skewness and not fall in normal range of 0.5 & -0.5"
   ]
  },
  {
   "cell_type": "code",
   "execution_count": 61,
   "id": "66b66b84",
   "metadata": {},
   "outputs": [
    {
     "data": {
      "text/plain": [
       "<AxesSubplot:xlabel='Fare', ylabel='Density'>"
      ]
     },
     "execution_count": 61,
     "metadata": {},
     "output_type": "execute_result"
    },
    {
     "data": {
      "image/png": "[encoded data removed]",
      "text/plain": [
       "<Figure size 432x288 with 1 Axes>"
      ]
     },
     "metadata": {
      "needs_background": "light"
     },
     "output_type": "display_data"
    }
   ],
   "source": [
    "sns.distplot(df['Fare'])"
   ]
  },
  {
   "cell_type": "markdown",
   "id": "3532172c",
   "metadata": {},
   "source": [
    "Sqrt Method is applied to reduce skeness in fare data."
   ]
  },
  {
   "cell_type": "code",
   "execution_count": 62,
   "id": "de6e77b6",
   "metadata": {},
   "outputs": [
    {
     "data": {
      "text/plain": [
       "Survived    0.450825\n",
       "Pclass     -0.632242\n",
       "Sex         0.664152\n",
       "Age         0.318314\n",
       "SibSp       1.979577\n",
       "Parch       2.122629\n",
       "Fare        1.350428\n",
       "Embarked    1.552592\n",
       "dtype: float64"
      ]
     },
     "execution_count": 62,
     "metadata": {},
     "output_type": "execute_result"
    }
   ],
   "source": [
    "import numpy as np\n",
    "df['Fare']=np.sqrt(df['Fare'])\n",
    "df.skew()"
   ]
  },
  {
   "cell_type": "markdown",
   "id": "2072cf8d",
   "metadata": {},
   "source": [
    "skeness reduced to 1.35 still not in normal range hence applied sqrt method one more time."
   ]
  },
  {
   "cell_type": "code",
   "execution_count": 63,
   "id": "53332cee",
   "metadata": {},
   "outputs": [
    {
     "data": {
      "text/plain": [
       "<AxesSubplot:>"
      ]
     },
     "execution_count": 63,
     "metadata": {},
     "output_type": "execute_result"
    },
    {
     "data": {
      "image/png": "[encoded data removed]",
      "text/plain": [
       "<Figure size 1800x1800 with 1 Axes>"
      ]
     },
     "metadata": {
      "needs_background": "light"
     },
     "output_type": "display_data"
    }
   ],
   "source": [
    "fig, ax =plt.subplots(figsize=(25,25))\n",
    "sns.boxplot(data=df, width = 0.5,ax=ax, fliersize=3)"
   ]
  },
  {
   "cell_type": "code",
   "execution_count": null,
   "id": "885fff61",
   "metadata": {},
   "outputs": [],
   "source": []
  },
  {
   "cell_type": "code",
   "execution_count": null,
   "id": "1f859b83",
   "metadata": {},
   "outputs": [],
   "source": []
  },
  {
   "cell_type": "code",
   "execution_count": null,
   "id": "423f78ef",
   "metadata": {},
   "outputs": [],
   "source": []
  },
  {
   "cell_type": "markdown",
   "id": "45bfa058",
   "metadata": {},
   "source": [
    "# Separating dependent and independent variable"
   ]
  },
  {
   "cell_type": "code",
   "execution_count": 64,
   "id": "ef83c009",
   "metadata": {},
   "outputs": [],
   "source": [
    "x = dfnew.drop(\"Survived\", axis=1)\n",
    "y = dfnew[\"Survived\"]"
   ]
  },
  {
   "cell_type": "code",
   "execution_count": 65,
   "id": "2b292744",
   "metadata": {},
   "outputs": [
    {
     "data": {
      "text/plain": [
       "(820, 7)"
      ]
     },
     "execution_count": 65,
     "metadata": {},
     "output_type": "execute_result"
    }
   ],
   "source": [
    "x.shape"
   ]
  },
  {
   "cell_type": "code",
   "execution_count": 66,
   "id": "b6884be6",
   "metadata": {},
   "outputs": [
    {
     "data": {
      "text/plain": [
       "(820,)"
      ]
     },
     "execution_count": 66,
     "metadata": {},
     "output_type": "execute_result"
    }
   ],
   "source": [
    "y.shape"
   ]
  },
  {
   "cell_type": "code",
   "execution_count": 69,
   "id": "678cfb4a",
   "metadata": {},
   "outputs": [
    {
     "data": {
      "text/plain": [
       "0    500\n",
       "1    320\n",
       "Name: Survived, dtype: int64"
      ]
     },
     "execution_count": 69,
     "metadata": {},
     "output_type": "execute_result"
    }
   ],
   "source": [
    "y.value_counts()"
   ]
  },
  {
   "cell_type": "code",
   "execution_count": 67,
   "id": "0d6c2f80",
   "metadata": {},
   "outputs": [
    {
     "data": {
      "text/html": [
       "<div>\n",
       "<style scoped>\n",
       "    .dataframe tbody tr th:only-of-type {\n",
       "        vertical-align: middle;\n",
       "    }\n",
       "\n",
       "    .dataframe tbody tr th {\n",
       "        vertical-align: top;\n",
       "    }\n",
       "\n",
       "    .dataframe thead th {\n",
       "        text-align: right;\n",
       "    }\n",
       "</style>\n",
       "<table border=\"1\" class=\"dataframe\">\n",
       "  <thead>\n",
       "    <tr style=\"text-align: right;\">\n",
       "      <th></th>\n",
       "      <th>Pclass</th>\n",
       "      <th>Sex</th>\n",
       "      <th>Age</th>\n",
       "      <th>SibSp</th>\n",
       "      <th>Parch</th>\n",
       "      <th>Fare</th>\n",
       "      <th>Embarked</th>\n",
       "    </tr>\n",
       "  </thead>\n",
       "  <tbody>\n",
       "    <tr>\n",
       "      <th>0</th>\n",
       "      <td>3</td>\n",
       "      <td>0</td>\n",
       "      <td>22.0</td>\n",
       "      <td>1</td>\n",
       "      <td>0</td>\n",
       "      <td>2.692582</td>\n",
       "      <td>0</td>\n",
       "    </tr>\n",
       "    <tr>\n",
       "      <th>1</th>\n",
       "      <td>1</td>\n",
       "      <td>1</td>\n",
       "      <td>38.0</td>\n",
       "      <td>1</td>\n",
       "      <td>0</td>\n",
       "      <td>8.442944</td>\n",
       "      <td>1</td>\n",
       "    </tr>\n",
       "    <tr>\n",
       "      <th>2</th>\n",
       "      <td>3</td>\n",
       "      <td>1</td>\n",
       "      <td>26.0</td>\n",
       "      <td>0</td>\n",
       "      <td>0</td>\n",
       "      <td>2.815138</td>\n",
       "      <td>0</td>\n",
       "    </tr>\n",
       "    <tr>\n",
       "      <th>3</th>\n",
       "      <td>1</td>\n",
       "      <td>1</td>\n",
       "      <td>35.0</td>\n",
       "      <td>1</td>\n",
       "      <td>0</td>\n",
       "      <td>7.286975</td>\n",
       "      <td>0</td>\n",
       "    </tr>\n",
       "    <tr>\n",
       "      <th>4</th>\n",
       "      <td>3</td>\n",
       "      <td>0</td>\n",
       "      <td>35.0</td>\n",
       "      <td>0</td>\n",
       "      <td>0</td>\n",
       "      <td>2.837252</td>\n",
       "      <td>0</td>\n",
       "    </tr>\n",
       "  </tbody>\n",
       "</table>\n",
       "</div>"
      ],
      "text/plain": [
       "   Pclass  Sex   Age  SibSp  Parch      Fare  Embarked\n",
       "0       3    0  22.0      1      0  2.692582         0\n",
       "1       1    1  38.0      1      0  8.442944         1\n",
       "2       3    1  26.0      0      0  2.815138         0\n",
       "3       1    1  35.0      1      0  7.286975         0\n",
       "4       3    0  35.0      0      0  2.837252         0"
      ]
     },
     "execution_count": 67,
     "metadata": {},
     "output_type": "execute_result"
    }
   ],
   "source": [
    "# x varibles without target variable\n",
    "x.head()"
   ]
  },
  {
   "cell_type": "markdown",
   "id": "b40cb744",
   "metadata": {},
   "source": [
    "# Class Imbalance"
   ]
  },
  {
   "cell_type": "code",
   "execution_count": 70,
   "id": "83bfbcf0",
   "metadata": {},
   "outputs": [
    {
     "data": {
      "text/plain": [
       "0    500\n",
       "1    320\n",
       "Name: Survived, dtype: int64"
      ]
     },
     "execution_count": 70,
     "metadata": {},
     "output_type": "execute_result"
    }
   ],
   "source": [
    "df['Survived'].value_counts()"
   ]
  },
  {
   "cell_type": "code",
   "execution_count": 71,
   "id": "b9872ac4",
   "metadata": {},
   "outputs": [],
   "source": [
    "#importing resample libraries which is used for class balance.\n",
    "from sklearn.utils import resample\n",
    "# Concatenate our training data back together\n",
    "x = pd.concat([x, y], axis=1)"
   ]
  },
  {
   "cell_type": "code",
   "execution_count": 72,
   "id": "51446f52",
   "metadata": {},
   "outputs": [],
   "source": [
    "nsvd= x[x.Survived==0]\n",
    "svd = x[x.Survived==1]"
   ]
  },
  {
   "cell_type": "markdown",
   "id": "90e82888",
   "metadata": {},
   "source": [
    "nsvd instance respresents not survived whose value is set to 0.\n",
    "\n",
    "svd instance respresents survived whose value is set to 1\n",
    "\n",
    "we are balancing 1-Survied Value with 0-Not survived value.\n",
    "\n",
    "Hence Upsampling is used for the same."
   ]
  },
  {
   "cell_type": "code",
   "execution_count": 73,
   "id": "4dea5769",
   "metadata": {},
   "outputs": [],
   "source": [
    "# upsample minority\n",
    "dia_upsampled = resample(svd,\n",
    "                          replace=True, # sample with replacement\n",
    "                          n_samples=len(nsvd),   # match number in majority\n",
    "                          random_state=27)  # reproducible results"
   ]
  },
  {
   "cell_type": "code",
   "execution_count": 74,
   "id": "6203f0eb",
   "metadata": {},
   "outputs": [],
   "source": [
    "upsampled = pd.concat([nsvd, dia_upsampled])"
   ]
  },
  {
   "cell_type": "code",
   "execution_count": 75,
   "id": "7b3ea35f",
   "metadata": {},
   "outputs": [
    {
     "data": {
      "text/plain": [
       "0    500\n",
       "1    500\n",
       "Name: Survived, dtype: int64"
      ]
     },
     "execution_count": 75,
     "metadata": {},
     "output_type": "execute_result"
    }
   ],
   "source": [
    "upsampled.Survived.value_counts()"
   ]
  },
  {
   "cell_type": "code",
   "execution_count": 76,
   "id": "22367d1c",
   "metadata": {},
   "outputs": [
    {
     "data": {
      "text/html": [
       "<div>\n",
       "<style scoped>\n",
       "    .dataframe tbody tr th:only-of-type {\n",
       "        vertical-align: middle;\n",
       "    }\n",
       "\n",
       "    .dataframe tbody tr th {\n",
       "        vertical-align: top;\n",
       "    }\n",
       "\n",
       "    .dataframe thead th {\n",
       "        text-align: right;\n",
       "    }\n",
       "</style>\n",
       "<table border=\"1\" class=\"dataframe\">\n",
       "  <thead>\n",
       "    <tr style=\"text-align: right;\">\n",
       "      <th></th>\n",
       "      <th>Pclass</th>\n",
       "      <th>Sex</th>\n",
       "      <th>Age</th>\n",
       "      <th>SibSp</th>\n",
       "      <th>Parch</th>\n",
       "      <th>Fare</th>\n",
       "      <th>Embarked</th>\n",
       "      <th>Survived</th>\n",
       "    </tr>\n",
       "  </thead>\n",
       "  <tbody>\n",
       "    <tr>\n",
       "      <th>0</th>\n",
       "      <td>3</td>\n",
       "      <td>0</td>\n",
       "      <td>22.000000</td>\n",
       "      <td>1</td>\n",
       "      <td>0</td>\n",
       "      <td>2.692582</td>\n",
       "      <td>0</td>\n",
       "      <td>0</td>\n",
       "    </tr>\n",
       "    <tr>\n",
       "      <th>4</th>\n",
       "      <td>3</td>\n",
       "      <td>0</td>\n",
       "      <td>35.000000</td>\n",
       "      <td>0</td>\n",
       "      <td>0</td>\n",
       "      <td>2.837252</td>\n",
       "      <td>0</td>\n",
       "      <td>0</td>\n",
       "    </tr>\n",
       "    <tr>\n",
       "      <th>5</th>\n",
       "      <td>3</td>\n",
       "      <td>0</td>\n",
       "      <td>29.699118</td>\n",
       "      <td>0</td>\n",
       "      <td>0</td>\n",
       "      <td>2.908316</td>\n",
       "      <td>2</td>\n",
       "      <td>0</td>\n",
       "    </tr>\n",
       "    <tr>\n",
       "      <th>6</th>\n",
       "      <td>1</td>\n",
       "      <td>0</td>\n",
       "      <td>54.000000</td>\n",
       "      <td>0</td>\n",
       "      <td>0</td>\n",
       "      <td>7.201562</td>\n",
       "      <td>0</td>\n",
       "      <td>0</td>\n",
       "    </tr>\n",
       "    <tr>\n",
       "      <th>7</th>\n",
       "      <td>3</td>\n",
       "      <td>0</td>\n",
       "      <td>2.000000</td>\n",
       "      <td>3</td>\n",
       "      <td>1</td>\n",
       "      <td>4.590752</td>\n",
       "      <td>0</td>\n",
       "      <td>0</td>\n",
       "    </tr>\n",
       "    <tr>\n",
       "      <th>...</th>\n",
       "      <td>...</td>\n",
       "      <td>...</td>\n",
       "      <td>...</td>\n",
       "      <td>...</td>\n",
       "      <td>...</td>\n",
       "      <td>...</td>\n",
       "      <td>...</td>\n",
       "      <td>...</td>\n",
       "    </tr>\n",
       "    <tr>\n",
       "      <th>550</th>\n",
       "      <td>1</td>\n",
       "      <td>0</td>\n",
       "      <td>17.000000</td>\n",
       "      <td>0</td>\n",
       "      <td>2</td>\n",
       "      <td>10.530114</td>\n",
       "      <td>1</td>\n",
       "      <td>1</td>\n",
       "    </tr>\n",
       "    <tr>\n",
       "      <th>8</th>\n",
       "      <td>3</td>\n",
       "      <td>1</td>\n",
       "      <td>27.000000</td>\n",
       "      <td>0</td>\n",
       "      <td>2</td>\n",
       "      <td>3.336660</td>\n",
       "      <td>0</td>\n",
       "      <td>1</td>\n",
       "    </tr>\n",
       "    <tr>\n",
       "      <th>381</th>\n",
       "      <td>3</td>\n",
       "      <td>1</td>\n",
       "      <td>1.000000</td>\n",
       "      <td>0</td>\n",
       "      <td>2</td>\n",
       "      <td>3.967581</td>\n",
       "      <td>1</td>\n",
       "      <td>1</td>\n",
       "    </tr>\n",
       "    <tr>\n",
       "      <th>607</th>\n",
       "      <td>1</td>\n",
       "      <td>0</td>\n",
       "      <td>27.000000</td>\n",
       "      <td>0</td>\n",
       "      <td>0</td>\n",
       "      <td>5.522681</td>\n",
       "      <td>0</td>\n",
       "      <td>1</td>\n",
       "    </tr>\n",
       "    <tr>\n",
       "      <th>533</th>\n",
       "      <td>3</td>\n",
       "      <td>1</td>\n",
       "      <td>29.699118</td>\n",
       "      <td>0</td>\n",
       "      <td>2</td>\n",
       "      <td>4.728456</td>\n",
       "      <td>1</td>\n",
       "      <td>1</td>\n",
       "    </tr>\n",
       "  </tbody>\n",
       "</table>\n",
       "<p>1000 rows × 8 columns</p>\n",
       "</div>"
      ],
      "text/plain": [
       "     Pclass  Sex        Age  SibSp  Parch       Fare  Embarked  Survived\n",
       "0         3    0  22.000000      1      0   2.692582         0         0\n",
       "4         3    0  35.000000      0      0   2.837252         0         0\n",
       "5         3    0  29.699118      0      0   2.908316         2         0\n",
       "6         1    0  54.000000      0      0   7.201562         0         0\n",
       "7         3    0   2.000000      3      1   4.590752         0         0\n",
       "..      ...  ...        ...    ...    ...        ...       ...       ...\n",
       "550       1    0  17.000000      0      2  10.530114         1         1\n",
       "8         3    1  27.000000      0      2   3.336660         0         1\n",
       "381       3    1   1.000000      0      2   3.967581         1         1\n",
       "607       1    0  27.000000      0      0   5.522681         0         1\n",
       "533       3    1  29.699118      0      2   4.728456         1         1\n",
       "\n",
       "[1000 rows x 8 columns]"
      ]
     },
     "execution_count": 76,
     "metadata": {},
     "output_type": "execute_result"
    }
   ],
   "source": [
    "upsampled"
   ]
  },
  {
   "cell_type": "markdown",
   "id": "bfe9939e",
   "metadata": {},
   "source": [
    "upsampled is the new dataframe where target col is balanced with equal value = 500"
   ]
  },
  {
   "cell_type": "code",
   "execution_count": 77,
   "id": "dc152de8",
   "metadata": {},
   "outputs": [],
   "source": [
    "x = upsampled[['Pclass','Sex','Age','SibSp','Parch','Fare']]\n",
    "y = upsampled['Survived']"
   ]
  },
  {
   "cell_type": "code",
   "execution_count": 78,
   "id": "ef1fcb8d",
   "metadata": {},
   "outputs": [
    {
     "data": {
      "text/html": [
       "<div>\n",
       "<style scoped>\n",
       "    .dataframe tbody tr th:only-of-type {\n",
       "        vertical-align: middle;\n",
       "    }\n",
       "\n",
       "    .dataframe tbody tr th {\n",
       "        vertical-align: top;\n",
       "    }\n",
       "\n",
       "    .dataframe thead th {\n",
       "        text-align: right;\n",
       "    }\n",
       "</style>\n",
       "<table border=\"1\" class=\"dataframe\">\n",
       "  <thead>\n",
       "    <tr style=\"text-align: right;\">\n",
       "      <th></th>\n",
       "      <th>Pclass</th>\n",
       "      <th>Sex</th>\n",
       "      <th>Age</th>\n",
       "      <th>SibSp</th>\n",
       "      <th>Parch</th>\n",
       "      <th>Fare</th>\n",
       "    </tr>\n",
       "  </thead>\n",
       "  <tbody>\n",
       "    <tr>\n",
       "      <th>0</th>\n",
       "      <td>3</td>\n",
       "      <td>0</td>\n",
       "      <td>22.000000</td>\n",
       "      <td>1</td>\n",
       "      <td>0</td>\n",
       "      <td>2.692582</td>\n",
       "    </tr>\n",
       "    <tr>\n",
       "      <th>4</th>\n",
       "      <td>3</td>\n",
       "      <td>0</td>\n",
       "      <td>35.000000</td>\n",
       "      <td>0</td>\n",
       "      <td>0</td>\n",
       "      <td>2.837252</td>\n",
       "    </tr>\n",
       "    <tr>\n",
       "      <th>5</th>\n",
       "      <td>3</td>\n",
       "      <td>0</td>\n",
       "      <td>29.699118</td>\n",
       "      <td>0</td>\n",
       "      <td>0</td>\n",
       "      <td>2.908316</td>\n",
       "    </tr>\n",
       "    <tr>\n",
       "      <th>6</th>\n",
       "      <td>1</td>\n",
       "      <td>0</td>\n",
       "      <td>54.000000</td>\n",
       "      <td>0</td>\n",
       "      <td>0</td>\n",
       "      <td>7.201562</td>\n",
       "    </tr>\n",
       "    <tr>\n",
       "      <th>7</th>\n",
       "      <td>3</td>\n",
       "      <td>0</td>\n",
       "      <td>2.000000</td>\n",
       "      <td>3</td>\n",
       "      <td>1</td>\n",
       "      <td>4.590752</td>\n",
       "    </tr>\n",
       "    <tr>\n",
       "      <th>...</th>\n",
       "      <td>...</td>\n",
       "      <td>...</td>\n",
       "      <td>...</td>\n",
       "      <td>...</td>\n",
       "      <td>...</td>\n",
       "      <td>...</td>\n",
       "    </tr>\n",
       "    <tr>\n",
       "      <th>550</th>\n",
       "      <td>1</td>\n",
       "      <td>0</td>\n",
       "      <td>17.000000</td>\n",
       "      <td>0</td>\n",
       "      <td>2</td>\n",
       "      <td>10.530114</td>\n",
       "    </tr>\n",
       "    <tr>\n",
       "      <th>8</th>\n",
       "      <td>3</td>\n",
       "      <td>1</td>\n",
       "      <td>27.000000</td>\n",
       "      <td>0</td>\n",
       "      <td>2</td>\n",
       "      <td>3.336660</td>\n",
       "    </tr>\n",
       "    <tr>\n",
       "      <th>381</th>\n",
       "      <td>3</td>\n",
       "      <td>1</td>\n",
       "      <td>1.000000</td>\n",
       "      <td>0</td>\n",
       "      <td>2</td>\n",
       "      <td>3.967581</td>\n",
       "    </tr>\n",
       "    <tr>\n",
       "      <th>607</th>\n",
       "      <td>1</td>\n",
       "      <td>0</td>\n",
       "      <td>27.000000</td>\n",
       "      <td>0</td>\n",
       "      <td>0</td>\n",
       "      <td>5.522681</td>\n",
       "    </tr>\n",
       "    <tr>\n",
       "      <th>533</th>\n",
       "      <td>3</td>\n",
       "      <td>1</td>\n",
       "      <td>29.699118</td>\n",
       "      <td>0</td>\n",
       "      <td>2</td>\n",
       "      <td>4.728456</td>\n",
       "    </tr>\n",
       "  </tbody>\n",
       "</table>\n",
       "<p>1000 rows × 6 columns</p>\n",
       "</div>"
      ],
      "text/plain": [
       "     Pclass  Sex        Age  SibSp  Parch       Fare\n",
       "0         3    0  22.000000      1      0   2.692582\n",
       "4         3    0  35.000000      0      0   2.837252\n",
       "5         3    0  29.699118      0      0   2.908316\n",
       "6         1    0  54.000000      0      0   7.201562\n",
       "7         3    0   2.000000      3      1   4.590752\n",
       "..      ...  ...        ...    ...    ...        ...\n",
       "550       1    0  17.000000      0      2  10.530114\n",
       "8         3    1  27.000000      0      2   3.336660\n",
       "381       3    1   1.000000      0      2   3.967581\n",
       "607       1    0  27.000000      0      0   5.522681\n",
       "533       3    1  29.699118      0      2   4.728456\n",
       "\n",
       "[1000 rows x 6 columns]"
      ]
     },
     "execution_count": 78,
     "metadata": {},
     "output_type": "execute_result"
    }
   ],
   "source": [
    "x"
   ]
  },
  {
   "cell_type": "code",
   "execution_count": 79,
   "id": "616a0377",
   "metadata": {},
   "outputs": [
    {
     "data": {
      "text/plain": [
       "(1000, 6)"
      ]
     },
     "execution_count": 79,
     "metadata": {},
     "output_type": "execute_result"
    }
   ],
   "source": [
    "x.shape"
   ]
  },
  {
   "cell_type": "code",
   "execution_count": 80,
   "id": "d564f67a",
   "metadata": {},
   "outputs": [
    {
     "data": {
      "text/plain": [
       "(1000,)"
      ]
     },
     "execution_count": 80,
     "metadata": {},
     "output_type": "execute_result"
    }
   ],
   "source": [
    "y.shape"
   ]
  },
  {
   "cell_type": "markdown",
   "id": "c8a9b21a",
   "metadata": {},
   "source": [
    "# Scaling the independent variables"
   ]
  },
  {
   "cell_type": "code",
   "execution_count": 81,
   "id": "c0d68b69",
   "metadata": {},
   "outputs": [
    {
     "data": {
      "text/plain": [
       "array([[ 0.90043348, -0.83706647, -0.56290001,  1.06434444, -0.51006137,\n",
       "        -0.82554961],\n",
       "       [ 0.90043348, -0.83706647,  0.46871852, -0.59351294, -0.51006137,\n",
       "        -0.76612926],\n",
       "       [ 0.90043348, -0.83706647,  0.04806556, -0.59351294, -0.51006137,\n",
       "        -0.73694129],\n",
       "       ...,\n",
       "       [ 0.90043348,  1.19464826, -2.22936071, -0.59351294,  2.67782219,\n",
       "        -0.30186822],\n",
       "       [-1.46912832, -0.83706647, -0.16612366, -0.59351294, -0.51006137,\n",
       "         0.33685918],\n",
       "       [ 0.90043348,  1.19464826,  0.04806556, -0.59351294,  2.67782219,\n",
       "         0.01064679]])"
      ]
     },
     "execution_count": 81,
     "metadata": {},
     "output_type": "execute_result"
    }
   ],
   "source": [
    "scaling = StandardScaler()\n",
    "x=scaling.fit_transform(x)\n",
    "x"
   ]
  },
  {
   "cell_type": "code",
   "execution_count": 82,
   "id": "02b82a4e",
   "metadata": {},
   "outputs": [
    {
     "name": "stdout",
     "output_type": "stream",
     "text": [
      "85.15151515151516 at random_state 0\n",
      "85.75757575757575 at random_state 1\n",
      "84.24242424242424 at random_state 2\n",
      "85.75757575757575 at random_state 3\n",
      "86.06060606060606 at random_state 4\n",
      "83.93939393939394 at random_state 5\n",
      "85.15151515151516 at random_state 6\n",
      "85.15151515151516 at random_state 7\n",
      "89.39393939393939 at random_state 8\n",
      "85.45454545454545 at random_state 9\n",
      "87.87878787878788 at random_state 10\n",
      "90.6060606060606 at random_state 11\n",
      "85.15151515151516 at random_state 12\n",
      "81.81818181818183 at random_state 13\n",
      "86.66666666666667 at random_state 14\n",
      "86.36363636363636 at random_state 15\n",
      "87.57575757575758 at random_state 16\n",
      "88.18181818181819 at random_state 17\n",
      "83.93939393939394 at random_state 18\n",
      "84.54545454545455 at random_state 19\n",
      "85.75757575757575 at random_state 20\n",
      "85.75757575757575 at random_state 21\n",
      "84.24242424242424 at random_state 22\n",
      "84.84848484848484 at random_state 23\n",
      "86.66666666666667 at random_state 24\n",
      "87.57575757575758 at random_state 25\n",
      "87.87878787878788 at random_state 26\n",
      "84.24242424242424 at random_state 27\n",
      "83.33333333333334 at random_state 28\n",
      "87.57575757575758 at random_state 29\n",
      "86.36363636363636 at random_state 30\n",
      "84.84848484848484 at random_state 31\n",
      "86.36363636363636 at random_state 32\n",
      "88.48484848484848 at random_state 33\n",
      "87.27272727272727 at random_state 34\n",
      "88.7878787878788 at random_state 35\n",
      "84.54545454545455 at random_state 36\n",
      "86.66666666666667 at random_state 37\n",
      "86.66666666666667 at random_state 38\n",
      "85.75757575757575 at random_state 39\n",
      "85.75757575757575 at random_state 40\n",
      "86.36363636363636 at random_state 41\n",
      "86.96969696969697 at random_state 42\n",
      "85.15151515151516 at random_state 43\n",
      "82.42424242424242 at random_state 44\n",
      "87.87878787878788 at random_state 45\n",
      "88.7878787878788 at random_state 46\n",
      "85.45454545454545 at random_state 47\n",
      "87.27272727272727 at random_state 48\n",
      "83.63636363636363 at random_state 49\n",
      "85.75757575757575 at random_state 50\n",
      "85.45454545454545 at random_state 51\n",
      "86.66666666666667 at random_state 52\n",
      "86.96969696969697 at random_state 53\n",
      "85.15151515151516 at random_state 54\n",
      "83.63636363636363 at random_state 55\n",
      "85.75757575757575 at random_state 56\n",
      "84.24242424242424 at random_state 57\n",
      "87.27272727272727 at random_state 58\n",
      "82.72727272727273 at random_state 59\n",
      "85.75757575757575 at random_state 60\n",
      "84.84848484848484 at random_state 61\n",
      "91.21212121212122 at random_state 62\n",
      "87.87878787878788 at random_state 63\n",
      "82.72727272727273 at random_state 64\n",
      "87.27272727272727 at random_state 65\n",
      "84.24242424242424 at random_state 66\n",
      "88.7878787878788 at random_state 67\n",
      "88.48484848484848 at random_state 68\n",
      "87.27272727272727 at random_state 69\n",
      "88.18181818181819 at random_state 70\n",
      "84.54545454545455 at random_state 71\n",
      "83.63636363636363 at random_state 72\n",
      "88.48484848484848 at random_state 73\n",
      "85.75757575757575 at random_state 74\n",
      "87.27272727272727 at random_state 75\n",
      "86.66666666666667 at random_state 76\n",
      "87.87878787878788 at random_state 77\n",
      "84.24242424242424 at random_state 78\n",
      "88.48484848484848 at random_state 79\n",
      "86.36363636363636 at random_state 80\n",
      "82.72727272727273 at random_state 81\n",
      "86.06060606060606 at random_state 82\n",
      "83.33333333333334 at random_state 83\n",
      "84.24242424242424 at random_state 84\n",
      "88.7878787878788 at random_state 85\n",
      "87.87878787878788 at random_state 86\n",
      "79.0909090909091 at random_state 87\n",
      "86.36363636363636 at random_state 88\n",
      "85.15151515151516 at random_state 89\n",
      "87.87878787878788 at random_state 90\n",
      "88.18181818181819 at random_state 91\n",
      "82.72727272727273 at random_state 92\n",
      "83.93939393939394 at random_state 93\n",
      "89.0909090909091 at random_state 94\n",
      "83.93939393939394 at random_state 95\n",
      "81.81818181818183 at random_state 96\n",
      "86.66666666666667 at random_state 97\n",
      "82.42424242424242 at random_state 98\n",
      "86.06060606060606 at random_state 99\n",
      "86.06060606060606 at random_state 100\n",
      "84.54545454545455 at random_state 101\n",
      "85.45454545454545 at random_state 102\n",
      "86.66666666666667 at random_state 103\n",
      "86.96969696969697 at random_state 104\n",
      "84.24242424242424 at random_state 105\n",
      "88.18181818181819 at random_state 106\n",
      "85.45454545454545 at random_state 107\n",
      "88.7878787878788 at random_state 108\n",
      "87.27272727272727 at random_state 109\n",
      "88.48484848484848 at random_state 110\n",
      "86.06060606060606 at random_state 111\n",
      "83.93939393939394 at random_state 112\n",
      "84.54545454545455 at random_state 113\n",
      "85.15151515151516 at random_state 114\n",
      "88.7878787878788 at random_state 115\n",
      "88.7878787878788 at random_state 116\n",
      "90.30303030303031 at random_state 117\n",
      "84.24242424242424 at random_state 118\n",
      "87.27272727272727 at random_state 119\n",
      "86.36363636363636 at random_state 120\n",
      "88.7878787878788 at random_state 121\n",
      "86.66666666666667 at random_state 122\n",
      "84.54545454545455 at random_state 123\n",
      "87.87878787878788 at random_state 124\n",
      "87.57575757575758 at random_state 125\n",
      "82.12121212121211 at random_state 126\n",
      "89.0909090909091 at random_state 127\n",
      "85.75757575757575 at random_state 128\n",
      "86.66666666666667 at random_state 129\n",
      "83.63636363636363 at random_state 130\n",
      "85.15151515151516 at random_state 131\n",
      "85.75757575757575 at random_state 132\n",
      "86.66666666666667 at random_state 133\n",
      "85.45454545454545 at random_state 134\n",
      "82.72727272727273 at random_state 135\n",
      "89.0909090909091 at random_state 136\n",
      "85.45454545454545 at random_state 137\n",
      "87.27272727272727 at random_state 138\n",
      "85.75757575757575 at random_state 139\n",
      "83.33333333333334 at random_state 140\n",
      "89.0909090909091 at random_state 141\n",
      "85.15151515151516 at random_state 142\n",
      "84.54545454545455 at random_state 143\n",
      "86.66666666666667 at random_state 144\n",
      "82.72727272727273 at random_state 145\n",
      "83.33333333333334 at random_state 146\n",
      "85.75757575757575 at random_state 147\n",
      "85.75757575757575 at random_state 148\n",
      "84.84848484848484 at random_state 149\n",
      "88.7878787878788 at random_state 150\n",
      "86.36363636363636 at random_state 151\n",
      "85.15151515151516 at random_state 152\n",
      "86.06060606060606 at random_state 153\n",
      "84.54545454545455 at random_state 154\n",
      "86.06060606060606 at random_state 155\n",
      "84.54545454545455 at random_state 156\n",
      "83.33333333333334 at random_state 157\n",
      "84.84848484848484 at random_state 158\n",
      "84.54545454545455 at random_state 159\n",
      "86.66666666666667 at random_state 160\n",
      "85.45454545454545 at random_state 161\n",
      "86.96969696969697 at random_state 162\n",
      "87.57575757575758 at random_state 163\n",
      "84.54545454545455 at random_state 164\n",
      "86.66666666666667 at random_state 165\n",
      "87.27272727272727 at random_state 166\n",
      "85.75757575757575 at random_state 167\n",
      "83.33333333333334 at random_state 168\n",
      "86.36363636363636 at random_state 169\n",
      "85.45454545454545 at random_state 170\n",
      "83.33333333333334 at random_state 171\n",
      "84.84848484848484 at random_state 172\n",
      "85.45454545454545 at random_state 173\n",
      "86.96969696969697 at random_state 174\n",
      "87.57575757575758 at random_state 175\n",
      "86.06060606060606 at random_state 176\n",
      "83.63636363636363 at random_state 177\n",
      "86.66666666666667 at random_state 178\n",
      "83.03030303030303 at random_state 179\n",
      "83.93939393939394 at random_state 180\n",
      "85.75757575757575 at random_state 181\n",
      "87.57575757575758 at random_state 182\n",
      "89.6969696969697 at random_state 183\n",
      "86.06060606060606 at random_state 184\n",
      "86.96969696969697 at random_state 185\n",
      "79.0909090909091 at random_state 186\n",
      "84.84848484848484 at random_state 187\n",
      "83.03030303030303 at random_state 188\n",
      "85.75757575757575 at random_state 189\n",
      "86.96969696969697 at random_state 190\n",
      "88.7878787878788 at random_state 191\n",
      "85.75757575757575 at random_state 192\n",
      "85.45454545454545 at random_state 193\n",
      "82.42424242424242 at random_state 194\n",
      "86.96969696969697 at random_state 195\n",
      "86.06060606060606 at random_state 196\n",
      "82.42424242424242 at random_state 197\n",
      "86.66666666666667 at random_state 198\n",
      "88.48484848484848 at random_state 199\n"
     ]
    }
   ],
   "source": [
    "for i in range(200):\n",
    "    x_train, x_test, y_train, y_test = train_test_split(x,y, test_size=0.33, random_state=i)\n",
    "    from sklearn.tree import DecisionTreeClassifier\n",
    "    lm = DecisionTreeClassifier()\n",
    "    lm.fit(x_train,y_train)\n",
    "    pred=lm.predict(x_test)\n",
    "    accu=accuracy_score(y_test,pred)\n",
    "    print(accu*100, \"at random_state\", i)  "
   ]
  },
  {
   "cell_type": "code",
   "execution_count": 83,
   "id": "ae855830",
   "metadata": {},
   "outputs": [
    {
     "name": "stdout",
     "output_type": "stream",
     "text": [
      "Best accuracy is  0.91  on Random_state  68\n"
     ]
    }
   ],
   "source": [
    "from sklearn.tree import DecisionTreeClassifier\n",
    "maxAccu=0\n",
    "maxRS=0\n",
    "for i in range(1,200):\n",
    "    x_train, x_test, y_train, y_test = train_test_split(x,y,test_size=0.30, random_state = i)\n",
    "    mod = DecisionTreeClassifier()\n",
    "    mod.fit(x_train, y_train)\n",
    "    pred = mod.predict(x_test)\n",
    "    acc=accuracy_score(y_test, pred)\n",
    "    if acc>maxAccu:\n",
    "        maxAccu=acc\n",
    "        maxRS=i\n",
    "print(\"Best accuracy is \", maxAccu,\" on Random_state \",maxRS)"
   ]
  },
  {
   "cell_type": "markdown",
   "id": "5f9c5fc2",
   "metadata": {},
   "source": [
    "# Splitting dataset x train, x test, y train y test"
   ]
  },
  {
   "cell_type": "code",
   "execution_count": 84,
   "id": "787b0f47",
   "metadata": {},
   "outputs": [],
   "source": [
    "x_train, x_test, y_train, y_test = train_test_split(x,y,test_size=0.2, random_state=68)"
   ]
  },
  {
   "cell_type": "markdown",
   "id": "8164947b",
   "metadata": {},
   "source": [
    "Best random state used is 68"
   ]
  },
  {
   "cell_type": "code",
   "execution_count": 85,
   "id": "492b072b",
   "metadata": {},
   "outputs": [
    {
     "name": "stdout",
     "output_type": "stream",
     "text": [
      "x-train shape:  (800, 6)\n",
      "x-test shape:  (200, 6)\n",
      "y-train shape:  (800,)\n",
      "y-test shape:  (200,)\n"
     ]
    }
   ],
   "source": [
    "print(\"x-train shape: \", x_train.shape)\n",
    "print(\"x-test shape: \", x_test.shape)\n",
    "print(\"y-train shape: \", y_train.shape)\n",
    "print(\"y-test shape: \", y_test.shape)"
   ]
  },
  {
   "cell_type": "code",
   "execution_count": null,
   "id": "54937397",
   "metadata": {},
   "outputs": [],
   "source": []
  },
  {
   "cell_type": "markdown",
   "id": "0714fc27",
   "metadata": {},
   "source": [
    "# Creating ML Algorithm"
   ]
  },
  {
   "cell_type": "markdown",
   "id": "c7ee9a7e",
   "metadata": {},
   "source": [
    "# 1. Logistic Regression"
   ]
  },
  {
   "cell_type": "code",
   "execution_count": 91,
   "id": "4e505c52",
   "metadata": {},
   "outputs": [
    {
     "name": "stdout",
     "output_type": "stream",
     "text": [
      "              precision    recall  f1-score   support\n",
      "\n",
      "           0       0.85      0.81      0.83       113\n",
      "           1       0.76      0.82      0.79        87\n",
      "\n",
      "    accuracy                           0.81       200\n",
      "   macro avg       0.81      0.81      0.81       200\n",
      "weighted avg       0.81      0.81      0.81       200\n",
      "\n"
     ]
    }
   ],
   "source": [
    "lg=LogisticRegression()\n",
    "lg.fit(x_train,y_train)\n",
    "pred=lg.predict(x_test)\n",
    "acc = classification_report(y_test, pred)\n",
    "print(acc)"
   ]
  },
  {
   "cell_type": "markdown",
   "id": "b462a604",
   "metadata": {},
   "source": [
    "Log Regression Acc = 81%"
   ]
  },
  {
   "cell_type": "markdown",
   "id": "47f6552f",
   "metadata": {},
   "source": [
    "# 2. Random Forest Classifier"
   ]
  },
  {
   "cell_type": "code",
   "execution_count": 88,
   "id": "eb26735d",
   "metadata": {},
   "outputs": [
    {
     "name": "stdout",
     "output_type": "stream",
     "text": [
      "              precision    recall  f1-score   support\n",
      "\n",
      "           0       0.95      0.90      0.93       113\n",
      "           1       0.88      0.94      0.91        87\n",
      "\n",
      "    accuracy                           0.92       200\n",
      "   macro avg       0.92      0.92      0.92       200\n",
      "weighted avg       0.92      0.92      0.92       200\n",
      "\n"
     ]
    }
   ],
   "source": [
    "rf = RandomForestClassifier()\n",
    "rf.fit(x_train, y_train)\n",
    "pred = rf.predict(x_test)\n",
    "acc = classification_report(y_test, pred)\n",
    "print(acc)"
   ]
  },
  {
   "cell_type": "markdown",
   "id": "6272bcff",
   "metadata": {},
   "source": [
    "RFR Acc = 92%"
   ]
  },
  {
   "cell_type": "markdown",
   "id": "5b4f5106",
   "metadata": {},
   "source": [
    "# 3. Support Vector Regressor"
   ]
  },
  {
   "cell_type": "code",
   "execution_count": 89,
   "id": "b1a28459",
   "metadata": {},
   "outputs": [
    {
     "name": "stdout",
     "output_type": "stream",
     "text": [
      "              precision    recall  f1-score   support\n",
      "\n",
      "           0       0.89      0.83      0.86       113\n",
      "           1       0.80      0.86      0.83        87\n",
      "\n",
      "    accuracy                           0.84       200\n",
      "   macro avg       0.84      0.85      0.84       200\n",
      "weighted avg       0.85      0.84      0.85       200\n",
      "\n"
     ]
    }
   ],
   "source": [
    "svc=SVC()\n",
    "svc.fit(x_train, y_train)\n",
    "pred = svc.predict(x_test)\n",
    "acc = classification_report(y_test, pred)\n",
    "print(acc)"
   ]
  },
  {
   "cell_type": "markdown",
   "id": "563c2d82",
   "metadata": {},
   "source": [
    "SVC Acc = 84%"
   ]
  },
  {
   "cell_type": "markdown",
   "id": "c5bcb476",
   "metadata": {},
   "source": [
    "# 4. Knn Classifier"
   ]
  },
  {
   "cell_type": "code",
   "execution_count": 90,
   "id": "5acdd2e9",
   "metadata": {},
   "outputs": [
    {
     "name": "stdout",
     "output_type": "stream",
     "text": [
      "              precision    recall  f1-score   support\n",
      "\n",
      "           0       0.89      0.83      0.86       113\n",
      "           1       0.80      0.86      0.83        87\n",
      "\n",
      "    accuracy                           0.84       200\n",
      "   macro avg       0.84      0.85      0.84       200\n",
      "weighted avg       0.85      0.84      0.85       200\n",
      "\n"
     ]
    }
   ],
   "source": [
    "knn=KNeighborsClassifier(n_neighbors=5)\n",
    "knn.fit(x_train,y_train)\n",
    "predknn=knn.predict(x_test)\n",
    "acc = classification_report(y_test, pred)\n",
    "print(acc)"
   ]
  },
  {
   "cell_type": "markdown",
   "id": "c1d09b40",
   "metadata": {},
   "source": [
    "Knn Acc = 84%"
   ]
  },
  {
   "cell_type": "markdown",
   "id": "24c4ffc7",
   "metadata": {},
   "source": [
    "# 5. Decison tree Classifier"
   ]
  },
  {
   "cell_type": "code",
   "execution_count": 93,
   "id": "55367d80",
   "metadata": {},
   "outputs": [
    {
     "name": "stdout",
     "output_type": "stream",
     "text": [
      "0.885\n",
      "              precision    recall  f1-score   support\n",
      "\n",
      "           0       0.94      0.85      0.89       113\n",
      "           1       0.83      0.93      0.88        87\n",
      "\n",
      "    accuracy                           0.89       200\n",
      "   macro avg       0.88      0.89      0.88       200\n",
      "weighted avg       0.89      0.89      0.89       200\n",
      "\n"
     ]
    }
   ],
   "source": [
    "DTC = DecisionTreeClassifier()\n",
    "DTC.fit(x_train, y_train)\n",
    "pred = DTC.predict(x_test)\n",
    "print(accuracy_score(y_test,pred))\n",
    "acc = classification_report(y_test, pred)\n",
    "print(acc)"
   ]
  },
  {
   "cell_type": "markdown",
   "id": "4ae30204",
   "metadata": {},
   "source": [
    "DTC Acc = 89%"
   ]
  },
  {
   "cell_type": "markdown",
   "id": "96fa7cf5",
   "metadata": {},
   "source": [
    "# Kfold Cross Validation"
   ]
  },
  {
   "cell_type": "code",
   "execution_count": 94,
   "id": "aed32893",
   "metadata": {},
   "outputs": [],
   "source": [
    "from sklearn.model_selection import KFold\n",
    "from sklearn.model_selection import cross_val_score\n",
    "# Creating CV Object with shuffle = true to avoid -ve CV Values as o/p\n",
    "cross_validation=KFold(5, shuffle =True) "
   ]
  },
  {
   "cell_type": "code",
   "execution_count": 95,
   "id": "c7455cf8",
   "metadata": {},
   "outputs": [
    {
     "name": "stdout",
     "output_type": "stream",
     "text": [
      "0.798\n"
     ]
    }
   ],
   "source": [
    " # Logistic regression\n",
    "print(cross_val_score(lg,x,y,cv=cross_validation).mean())"
   ]
  },
  {
   "cell_type": "code",
   "execution_count": 96,
   "id": "f1ab772b",
   "metadata": {},
   "outputs": [
    {
     "name": "stdout",
     "output_type": "stream",
     "text": [
      "0.891\n"
     ]
    }
   ],
   "source": [
    " # RandomForestClassifier\n",
    "print(cross_val_score(rf,x,y,cv=cross_validation).mean())"
   ]
  },
  {
   "cell_type": "code",
   "execution_count": 97,
   "id": "94ab579c",
   "metadata": {},
   "outputs": [
    {
     "name": "stdout",
     "output_type": "stream",
     "text": [
      "0.827\n"
     ]
    }
   ],
   "source": [
    " # Support Vector Regressor\n",
    "print(cross_val_score(svc,x,y,cv=cross_validation).mean())"
   ]
  },
  {
   "cell_type": "code",
   "execution_count": 98,
   "id": "5ebea2d4",
   "metadata": {},
   "outputs": [
    {
     "name": "stdout",
     "output_type": "stream",
     "text": [
      "0.8280000000000001\n"
     ]
    }
   ],
   "source": [
    " # KNeighborsClassifier\n",
    "print(cross_val_score(knn,x,y,cv=cross_validation).mean())"
   ]
  },
  {
   "cell_type": "code",
   "execution_count": 99,
   "id": "69236e3e",
   "metadata": {},
   "outputs": [
    {
     "name": "stdout",
     "output_type": "stream",
     "text": [
      "0.8640000000000001\n"
     ]
    }
   ],
   "source": [
    "# Decision Tree Classifier \n",
    "print(cross_val_score(DTC,x,y,cv=cross_validation).mean())"
   ]
  },
  {
   "cell_type": "markdown",
   "id": "66035ec6",
   "metadata": {},
   "source": [
    "Logistic regression  - Acc - CV value = 81-79.8 = 1.2\n",
    "\n",
    "RandomForestClassifier  - Acc - CV value = 92-89.1 = 2.9\n",
    "\n",
    "Support Vector Regressor  - Acc - CV value = 84-82.7 = 1.3\n",
    "\n",
    "KNeighborsClassifier  - Acc - CV value = 84-82.8 = 1.2\n",
    "\n",
    "Decision Tree Classifier - Acc - CV value = 89-86.4 = 2.6\n",
    "\n",
    "Logistic regression is the best model as it has least diff = 1.2"
   ]
  },
  {
   "cell_type": "markdown",
   "id": "f90e00e6",
   "metadata": {},
   "source": [
    "# GridSearch CV & Hyperparameter Tuning."
   ]
  },
  {
   "cell_type": "code",
   "execution_count": 101,
   "id": "8232a366",
   "metadata": {},
   "outputs": [],
   "source": [
    "from sklearn.model_selection import GridSearchCV\n",
    "import numpy as np\n",
    "parameter = {'max_depth' : np.arange(2,10),\n",
    "            'criterion':['gini','entropy'],\n",
    "            'n_estimators' : [100],\n",
    "            'max_features' : ['auto','sqrt','log2']}"
   ]
  },
  {
   "cell_type": "code",
   "execution_count": 102,
   "id": "0918cbd3",
   "metadata": {},
   "outputs": [
    {
     "data": {
      "text/plain": [
       "GridSearchCV(cv=KFold(n_splits=5, random_state=None, shuffle=True),\n",
       "             estimator=RandomForestClassifier(),\n",
       "             param_grid={'criterion': ['gini', 'entropy'],\n",
       "                         'max_depth': array([2, 3, 4, 5, 6, 7, 8, 9]),\n",
       "                         'max_features': ['auto', 'sqrt', 'log2'],\n",
       "                         'n_estimators': [100]})"
      ]
     },
     "execution_count": 102,
     "metadata": {},
     "output_type": "execute_result"
    }
   ],
   "source": [
    "GCV=GridSearchCV(RandomForestClassifier(),parameter,cv=cross_validation)\n",
    "GCV.fit(x_train,y_train)"
   ]
  },
  {
   "cell_type": "code",
   "execution_count": 103,
   "id": "7caacff1",
   "metadata": {},
   "outputs": [
    {
     "data": {
      "text/plain": [
       "{'criterion': 'entropy',\n",
       " 'max_depth': 9,\n",
       " 'max_features': 'log2',\n",
       " 'n_estimators': 100}"
      ]
     },
     "execution_count": 103,
     "metadata": {},
     "output_type": "execute_result"
    }
   ],
   "source": [
    "GCV.best_params_"
   ]
  },
  {
   "cell_type": "markdown",
   "id": "72083086",
   "metadata": {},
   "source": [
    "# Best Model Selected is Random Forest Classifier"
   ]
  },
  {
   "cell_type": "code",
   "execution_count": 105,
   "id": "940dc802",
   "metadata": {},
   "outputs": [
    {
     "name": "stdout",
     "output_type": "stream",
     "text": [
      "91.0\n"
     ]
    }
   ],
   "source": [
    "Final_mod = RandomForestClassifier(criterion = 'gini', max_depth = 9,max_features='sqrt',n_estimators= 100)\n",
    "Final_mod.fit(x_train, y_train)\n",
    "pred = Final_mod.predict(x_test)\n",
    "acc=accuracy_score(y_test,pred)\n",
    "print(acc*100)"
   ]
  },
  {
   "cell_type": "markdown",
   "id": "a88be9d8",
   "metadata": {},
   "source": [
    "Final Accuracy of the best model = 91 %"
   ]
  },
  {
   "cell_type": "markdown",
   "id": "57eb59f6",
   "metadata": {},
   "source": [
    "# Exporting Model with joblib libraries"
   ]
  },
  {
   "cell_type": "code",
   "execution_count": 106,
   "id": "245bee89",
   "metadata": {},
   "outputs": [
    {
     "data": {
      "text/plain": [
       "['FinalModel.pkl']"
      ]
     },
     "execution_count": 106,
     "metadata": {},
     "output_type": "execute_result"
    }
   ],
   "source": [
    "import joblib\n",
    "joblib.dump(Final_mod,\"FinalModel.pkl\")"
   ]
  },
  {
   "cell_type": "code",
   "execution_count": null,
   "id": "97139ccf",
   "metadata": {},
   "outputs": [],
   "source": []
  }
 ],
 "metadata": {
  "kernelspec": {
   "display_name": "Python 3",
   "language": "python",
   "name": "python3"
  },
  "language_info": {
   "codemirror_mode": {
    "name": "ipython",
    "version": 3
   },
   "file_extension": ".py",
   "mimetype": "text/x-python",
   "name": "python",
   "nbconvert_exporter": "python",
   "pygments_lexer": "ipython3",
   "version": "3.8.8"
  }
 },
 "nbformat": 4,
 "nbformat_minor": 5
}
