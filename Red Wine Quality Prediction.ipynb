{
 "cells": [
  {
   "cell_type": "markdown",
   "id": "2711fec5",
   "metadata": {},
   "source": [
    "# Problem Statement:\n",
    "The dataset is related to red and white variants of the Portuguese \"Vinho Verde\" wine. Due to privacy and logistic issues, only physicochemical (inputs) and sensory (the output) variables are available (e.g. there is no data about grape types, wine brand, wine selling price, etc.).\n",
    "\n",
    "This dataset can be viewed as classification task. The classes are ordered and not balanced (e.g. there are many more normal wines than excellent or poor ones). Also, we are not sure if all input variables are relevant. So it could be interesting to test feature selection methods.\n",
    "\n",
    "Attribute Information\n",
    "\n",
    "Input variables (based on physicochemical tests):\n",
    "1 - fixed acidity\n",
    "2 - volatile acidity\n",
    "3 - citric acid\n",
    "4 - residual sugar\n",
    "5 - chlorides\n",
    "6 - free sulfur dioxide\n",
    "7 - total sulfur dioxide\n",
    "8 - density\n",
    "9 - pH\n",
    "10 - sulphates\n",
    "11 - alcohol\n",
    "Output variable (based on sensory data):\n",
    "12 - quality (score between 0 and 10)\n",
    "\n",
    "What might be an interesting thing to do, is to set an arbitrary cutoff for your dependent variable (wine quality) at e.g. 7 or higher getting classified as 'good/1' and the remainder as 'not good/0'.\n",
    "This allows you to practice with hyper parameter tuning on e.g. decision tree algorithms looking at the ROC curve and the AUC value.\n",
    "\n",
    "You need to build a classification model. \n",
    "\n",
    "Inspiration\n",
    "\n",
    "Use machine learning to determine which physiochemical properties make a wine 'good'!"
   ]
  },
  {
   "cell_type": "markdown",
   "id": "cf4169f9",
   "metadata": {},
   "source": [
    "Attribute Information\n",
    "\n",
    "Input variables (based on physicochemical tests): 1 - fixed acidity 2 - volatile acidity 3 - citric acid 4 - residual sugar 5 - chlorides 6 - free sulfur dioxide 7 - total sulfur dioxide 8 - density 9 - pH 10 - sulphates 11 - alcohol Output variable (based on sensory data): 12 - quality (score between 0 and 10)\n",
    "\n",
    "What might be an interesting thing to do, is to set an arbitrary cutoff for your dependent variable (wine quality) at e.g. 7 or higher getting classified as 'good/1' and the remainder as 'not good/0'. This allows you to practice with hyper parameter tuning on e.g. decision tree algorithms looking at the ROC curve and the AUC value.\n",
    "\n",
    "You need to build a classification model.\n",
    "\n",
    "Inspiration\n",
    "\n",
    "Use machine learning to determine which physiochemical properties make a wine 'good'!"
   ]
  },
  {
   "cell_type": "markdown",
   "id": "703ece68",
   "metadata": {},
   "source": [
    "-> Importing Neccessary libraries for model preparation -Numpy, Pandas, Matplotlib & Seaborn for plots\n",
    "\n",
    "-> 5 ML algo used from sklearn library at once - Logistic,SVC,Random Forest Classifier, Decision tree classifier, KNN\n",
    "\n",
    "-> As the metrics is common for all classification problems so imported common metrics all at once.\n",
    "\n",
    "-> (Confusion Metrics, Accuracy Score, Classification Report) from Sklearn metrics module"
   ]
  },
  {
   "cell_type": "code",
   "execution_count": 1,
   "id": "35ff81e6",
   "metadata": {},
   "outputs": [],
   "source": [
    "import numpy as np\n",
    "import pandas as pd\n",
    "import matplotlib.pyplot as plt\n",
    "import seaborn as sns\n",
    "from sklearn.model_selection import train_test_split, GridSearchCV,cross_val_score\n",
    "from sklearn.preprocessing import LabelEncoder\n",
    "from sklearn.preprocessing import StandardScaler\n",
    "from sklearn.linear_model import LogisticRegression\n",
    "from sklearn.svm import SVC\n",
    "from sklearn.tree import DecisionTreeClassifier\n",
    "from sklearn.ensemble import RandomForestClassifier\n",
    "from sklearn.neighbors import KNeighborsClassifier\n",
    "from sklearn.metrics import accuracy_score,confusion_matrix,classification_report,roc_curve,roc_auc_score\n",
    "import warnings\n",
    "warnings.filterwarnings('ignore')"
   ]
  },
  {
   "cell_type": "code",
   "execution_count": 2,
   "id": "900c728c",
   "metadata": {},
   "outputs": [
    {
     "data": {
      "text/html": [
       "<div>\n",
       "<style scoped>\n",
       "    .dataframe tbody tr th:only-of-type {\n",
       "        vertical-align: middle;\n",
       "    }\n",
       "\n",
       "    .dataframe tbody tr th {\n",
       "        vertical-align: top;\n",
       "    }\n",
       "\n",
       "    .dataframe thead th {\n",
       "        text-align: right;\n",
       "    }\n",
       "</style>\n",
       "<table border=\"1\" class=\"dataframe\">\n",
       "  <thead>\n",
       "    <tr style=\"text-align: right;\">\n",
       "      <th></th>\n",
       "      <th>fixed acidity</th>\n",
       "      <th>volatile acidity</th>\n",
       "      <th>citric acid</th>\n",
       "      <th>residual sugar</th>\n",
       "      <th>chlorides</th>\n",
       "      <th>free sulfur dioxide</th>\n",
       "      <th>total sulfur dioxide</th>\n",
       "      <th>density</th>\n",
       "      <th>pH</th>\n",
       "      <th>sulphates</th>\n",
       "      <th>alcohol</th>\n",
       "      <th>quality</th>\n",
       "    </tr>\n",
       "  </thead>\n",
       "  <tbody>\n",
       "    <tr>\n",
       "      <th>0</th>\n",
       "      <td>7.4</td>\n",
       "      <td>0.70</td>\n",
       "      <td>0.00</td>\n",
       "      <td>1.9</td>\n",
       "      <td>0.076</td>\n",
       "      <td>11.0</td>\n",
       "      <td>34.0</td>\n",
       "      <td>0.9978</td>\n",
       "      <td>3.51</td>\n",
       "      <td>0.56</td>\n",
       "      <td>9.4</td>\n",
       "      <td>5</td>\n",
       "    </tr>\n",
       "    <tr>\n",
       "      <th>1</th>\n",
       "      <td>7.8</td>\n",
       "      <td>0.88</td>\n",
       "      <td>0.00</td>\n",
       "      <td>2.6</td>\n",
       "      <td>0.098</td>\n",
       "      <td>25.0</td>\n",
       "      <td>67.0</td>\n",
       "      <td>0.9968</td>\n",
       "      <td>3.20</td>\n",
       "      <td>0.68</td>\n",
       "      <td>9.8</td>\n",
       "      <td>5</td>\n",
       "    </tr>\n",
       "    <tr>\n",
       "      <th>2</th>\n",
       "      <td>7.8</td>\n",
       "      <td>0.76</td>\n",
       "      <td>0.04</td>\n",
       "      <td>2.3</td>\n",
       "      <td>0.092</td>\n",
       "      <td>15.0</td>\n",
       "      <td>54.0</td>\n",
       "      <td>0.9970</td>\n",
       "      <td>3.26</td>\n",
       "      <td>0.65</td>\n",
       "      <td>9.8</td>\n",
       "      <td>5</td>\n",
       "    </tr>\n",
       "    <tr>\n",
       "      <th>3</th>\n",
       "      <td>11.2</td>\n",
       "      <td>0.28</td>\n",
       "      <td>0.56</td>\n",
       "      <td>1.9</td>\n",
       "      <td>0.075</td>\n",
       "      <td>17.0</td>\n",
       "      <td>60.0</td>\n",
       "      <td>0.9980</td>\n",
       "      <td>3.16</td>\n",
       "      <td>0.58</td>\n",
       "      <td>9.8</td>\n",
       "      <td>6</td>\n",
       "    </tr>\n",
       "    <tr>\n",
       "      <th>4</th>\n",
       "      <td>7.4</td>\n",
       "      <td>0.70</td>\n",
       "      <td>0.00</td>\n",
       "      <td>1.9</td>\n",
       "      <td>0.076</td>\n",
       "      <td>11.0</td>\n",
       "      <td>34.0</td>\n",
       "      <td>0.9978</td>\n",
       "      <td>3.51</td>\n",
       "      <td>0.56</td>\n",
       "      <td>9.4</td>\n",
       "      <td>5</td>\n",
       "    </tr>\n",
       "  </tbody>\n",
       "</table>\n",
       "</div>"
      ],
      "text/plain": [
       "   fixed acidity  volatile acidity  citric acid  residual sugar  chlorides  \\\n",
       "0            7.4              0.70         0.00             1.9      0.076   \n",
       "1            7.8              0.88         0.00             2.6      0.098   \n",
       "2            7.8              0.76         0.04             2.3      0.092   \n",
       "3           11.2              0.28         0.56             1.9      0.075   \n",
       "4            7.4              0.70         0.00             1.9      0.076   \n",
       "\n",
       "   free sulfur dioxide  total sulfur dioxide  density    pH  sulphates  \\\n",
       "0                 11.0                  34.0   0.9978  3.51       0.56   \n",
       "1                 25.0                  67.0   0.9968  3.20       0.68   \n",
       "2                 15.0                  54.0   0.9970  3.26       0.65   \n",
       "3                 17.0                  60.0   0.9980  3.16       0.58   \n",
       "4                 11.0                  34.0   0.9978  3.51       0.56   \n",
       "\n",
       "   alcohol  quality  \n",
       "0      9.4        5  \n",
       "1      9.8        5  \n",
       "2      9.8        5  \n",
       "3      9.8        6  \n",
       "4      9.4        5  "
      ]
     },
     "execution_count": 2,
     "metadata": {},
     "output_type": "execute_result"
    }
   ],
   "source": [
    "# Loading Dataset\n",
    "wine = pd.read_csv('winequality-red.csv')\n",
    "df=pd.DataFrame(wine)\n",
    "df.head()"
   ]
  },
  {
   "cell_type": "code",
   "execution_count": 3,
   "id": "c3eb8688",
   "metadata": {},
   "outputs": [
    {
     "data": {
      "text/plain": [
       "(1599, 12)"
      ]
     },
     "execution_count": 3,
     "metadata": {},
     "output_type": "execute_result"
    }
   ],
   "source": [
    "df.shape"
   ]
  },
  {
   "cell_type": "markdown",
   "id": "6837b539",
   "metadata": {},
   "source": [
    "Total rows = 1599 & colums = 12\n",
    "\n",
    "Creating new pandas Dataframe = df\n",
    "The Dataset has total 12 Variables where quality is the target or dependent variable\n",
    "Most of the values of independent variables are continous (float & integer)\n",
    "scaling can be applied as values of fixed acidity & total sulphur dioxide are not falling in range with rest other independent variables\n",
    "Target Column quality is scored from 0 to 10 where high value has good quality of the wine."
   ]
  },
  {
   "cell_type": "code",
   "execution_count": 4,
   "id": "4521356f",
   "metadata": {
    "scrolled": true
   },
   "outputs": [
    {
     "data": {
      "text/html": [
       "<div>\n",
       "<style scoped>\n",
       "    .dataframe tbody tr th:only-of-type {\n",
       "        vertical-align: middle;\n",
       "    }\n",
       "\n",
       "    .dataframe tbody tr th {\n",
       "        vertical-align: top;\n",
       "    }\n",
       "\n",
       "    .dataframe thead th {\n",
       "        text-align: right;\n",
       "    }\n",
       "</style>\n",
       "<table border=\"1\" class=\"dataframe\">\n",
       "  <thead>\n",
       "    <tr style=\"text-align: right;\">\n",
       "      <th></th>\n",
       "      <th>fixed acidity</th>\n",
       "      <th>volatile acidity</th>\n",
       "      <th>citric acid</th>\n",
       "      <th>residual sugar</th>\n",
       "      <th>chlorides</th>\n",
       "      <th>free sulfur dioxide</th>\n",
       "      <th>total sulfur dioxide</th>\n",
       "      <th>density</th>\n",
       "      <th>pH</th>\n",
       "      <th>sulphates</th>\n",
       "      <th>alcohol</th>\n",
       "      <th>quality</th>\n",
       "    </tr>\n",
       "  </thead>\n",
       "  <tbody>\n",
       "    <tr>\n",
       "      <th>count</th>\n",
       "      <td>1599.000000</td>\n",
       "      <td>1599.000000</td>\n",
       "      <td>1599.000000</td>\n",
       "      <td>1599.000000</td>\n",
       "      <td>1599.000000</td>\n",
       "      <td>1599.000000</td>\n",
       "      <td>1599.000000</td>\n",
       "      <td>1599.000000</td>\n",
       "      <td>1599.000000</td>\n",
       "      <td>1599.000000</td>\n",
       "      <td>1599.000000</td>\n",
       "      <td>1599.000000</td>\n",
       "    </tr>\n",
       "    <tr>\n",
       "      <th>mean</th>\n",
       "      <td>8.319637</td>\n",
       "      <td>0.527821</td>\n",
       "      <td>0.270976</td>\n",
       "      <td>2.538806</td>\n",
       "      <td>0.087467</td>\n",
       "      <td>15.874922</td>\n",
       "      <td>46.467792</td>\n",
       "      <td>0.996747</td>\n",
       "      <td>3.311113</td>\n",
       "      <td>0.658149</td>\n",
       "      <td>10.422983</td>\n",
       "      <td>5.636023</td>\n",
       "    </tr>\n",
       "    <tr>\n",
       "      <th>std</th>\n",
       "      <td>1.741096</td>\n",
       "      <td>0.179060</td>\n",
       "      <td>0.194801</td>\n",
       "      <td>1.409928</td>\n",
       "      <td>0.047065</td>\n",
       "      <td>10.460157</td>\n",
       "      <td>32.895324</td>\n",
       "      <td>0.001887</td>\n",
       "      <td>0.154386</td>\n",
       "      <td>0.169507</td>\n",
       "      <td>1.065668</td>\n",
       "      <td>0.807569</td>\n",
       "    </tr>\n",
       "    <tr>\n",
       "      <th>min</th>\n",
       "      <td>4.600000</td>\n",
       "      <td>0.120000</td>\n",
       "      <td>0.000000</td>\n",
       "      <td>0.900000</td>\n",
       "      <td>0.012000</td>\n",
       "      <td>1.000000</td>\n",
       "      <td>6.000000</td>\n",
       "      <td>0.990070</td>\n",
       "      <td>2.740000</td>\n",
       "      <td>0.330000</td>\n",
       "      <td>8.400000</td>\n",
       "      <td>3.000000</td>\n",
       "    </tr>\n",
       "    <tr>\n",
       "      <th>25%</th>\n",
       "      <td>7.100000</td>\n",
       "      <td>0.390000</td>\n",
       "      <td>0.090000</td>\n",
       "      <td>1.900000</td>\n",
       "      <td>0.070000</td>\n",
       "      <td>7.000000</td>\n",
       "      <td>22.000000</td>\n",
       "      <td>0.995600</td>\n",
       "      <td>3.210000</td>\n",
       "      <td>0.550000</td>\n",
       "      <td>9.500000</td>\n",
       "      <td>5.000000</td>\n",
       "    </tr>\n",
       "    <tr>\n",
       "      <th>50%</th>\n",
       "      <td>7.900000</td>\n",
       "      <td>0.520000</td>\n",
       "      <td>0.260000</td>\n",
       "      <td>2.200000</td>\n",
       "      <td>0.079000</td>\n",
       "      <td>14.000000</td>\n",
       "      <td>38.000000</td>\n",
       "      <td>0.996750</td>\n",
       "      <td>3.310000</td>\n",
       "      <td>0.620000</td>\n",
       "      <td>10.200000</td>\n",
       "      <td>6.000000</td>\n",
       "    </tr>\n",
       "    <tr>\n",
       "      <th>75%</th>\n",
       "      <td>9.200000</td>\n",
       "      <td>0.640000</td>\n",
       "      <td>0.420000</td>\n",
       "      <td>2.600000</td>\n",
       "      <td>0.090000</td>\n",
       "      <td>21.000000</td>\n",
       "      <td>62.000000</td>\n",
       "      <td>0.997835</td>\n",
       "      <td>3.400000</td>\n",
       "      <td>0.730000</td>\n",
       "      <td>11.100000</td>\n",
       "      <td>6.000000</td>\n",
       "    </tr>\n",
       "    <tr>\n",
       "      <th>max</th>\n",
       "      <td>15.900000</td>\n",
       "      <td>1.580000</td>\n",
       "      <td>1.000000</td>\n",
       "      <td>15.500000</td>\n",
       "      <td>0.611000</td>\n",
       "      <td>72.000000</td>\n",
       "      <td>289.000000</td>\n",
       "      <td>1.003690</td>\n",
       "      <td>4.010000</td>\n",
       "      <td>2.000000</td>\n",
       "      <td>14.900000</td>\n",
       "      <td>8.000000</td>\n",
       "    </tr>\n",
       "  </tbody>\n",
       "</table>\n",
       "</div>"
      ],
      "text/plain": [
       "       fixed acidity  volatile acidity  citric acid  residual sugar  \\\n",
       "count    1599.000000       1599.000000  1599.000000     1599.000000   \n",
       "mean        8.319637          0.527821     0.270976        2.538806   \n",
       "std         1.741096          0.179060     0.194801        1.409928   \n",
       "min         4.600000          0.120000     0.000000        0.900000   \n",
       "25%         7.100000          0.390000     0.090000        1.900000   \n",
       "50%         7.900000          0.520000     0.260000        2.200000   \n",
       "75%         9.200000          0.640000     0.420000        2.600000   \n",
       "max        15.900000          1.580000     1.000000       15.500000   \n",
       "\n",
       "         chlorides  free sulfur dioxide  total sulfur dioxide      density  \\\n",
       "count  1599.000000          1599.000000           1599.000000  1599.000000   \n",
       "mean      0.087467            15.874922             46.467792     0.996747   \n",
       "std       0.047065            10.460157             32.895324     0.001887   \n",
       "min       0.012000             1.000000              6.000000     0.990070   \n",
       "25%       0.070000             7.000000             22.000000     0.995600   \n",
       "50%       0.079000            14.000000             38.000000     0.996750   \n",
       "75%       0.090000            21.000000             62.000000     0.997835   \n",
       "max       0.611000            72.000000            289.000000     1.003690   \n",
       "\n",
       "                pH    sulphates      alcohol      quality  \n",
       "count  1599.000000  1599.000000  1599.000000  1599.000000  \n",
       "mean      3.311113     0.658149    10.422983     5.636023  \n",
       "std       0.154386     0.169507     1.065668     0.807569  \n",
       "min       2.740000     0.330000     8.400000     3.000000  \n",
       "25%       3.210000     0.550000     9.500000     5.000000  \n",
       "50%       3.310000     0.620000    10.200000     6.000000  \n",
       "75%       3.400000     0.730000    11.100000     6.000000  \n",
       "max       4.010000     2.000000    14.900000     8.000000  "
      ]
     },
     "execution_count": 4,
     "metadata": {},
     "output_type": "execute_result"
    }
   ],
   "source": [
    "#data statistics\n",
    "df.describe()"
   ]
  },
  {
   "cell_type": "markdown",
   "id": "eaa3e3a2",
   "metadata": {},
   "source": [
    "The mean is more than median (50th Percentile) in all columns\n",
    "\n",
    "There is a large difference in 75% percentile and max value in residual sugar,free sulphur dioxide & total sulphur dioxide."
   ]
  },
  {
   "cell_type": "code",
   "execution_count": 5,
   "id": "ae543385",
   "metadata": {},
   "outputs": [
    {
     "name": "stdout",
     "output_type": "stream",
     "text": [
      "<class 'pandas.core.frame.DataFrame'>\n",
      "RangeIndex: 1599 entries, 0 to 1598\n",
      "Data columns (total 12 columns):\n",
      " #   Column                Non-Null Count  Dtype  \n",
      "---  ------                --------------  -----  \n",
      " 0   fixed acidity         1599 non-null   float64\n",
      " 1   volatile acidity      1599 non-null   float64\n",
      " 2   citric acid           1599 non-null   float64\n",
      " 3   residual sugar        1599 non-null   float64\n",
      " 4   chlorides             1599 non-null   float64\n",
      " 5   free sulfur dioxide   1599 non-null   float64\n",
      " 6   total sulfur dioxide  1599 non-null   float64\n",
      " 7   density               1599 non-null   float64\n",
      " 8   pH                    1599 non-null   float64\n",
      " 9   sulphates             1599 non-null   float64\n",
      " 10  alcohol               1599 non-null   float64\n",
      " 11  quality               1599 non-null   int64  \n",
      "dtypes: float64(11), int64(1)\n",
      "memory usage: 150.0 KB\n"
     ]
    },
    {
     "data": {
      "text/plain": [
       "fixed acidity           0\n",
       "volatile acidity        0\n",
       "citric acid             0\n",
       "residual sugar          0\n",
       "chlorides               0\n",
       "free sulfur dioxide     0\n",
       "total sulfur dioxide    0\n",
       "density                 0\n",
       "pH                      0\n",
       "sulphates               0\n",
       "alcohol                 0\n",
       "quality                 0\n",
       "dtype: int64"
      ]
     },
     "execution_count": 5,
     "metadata": {},
     "output_type": "execute_result"
    }
   ],
   "source": [
    "df.info()\n",
    "df.isnull().sum()"
   ]
  },
  {
   "cell_type": "markdown",
   "id": "e5b7bdf3",
   "metadata": {},
   "source": [
    "There is no null or missing values and 11 float vbariables with Target variable(quality) is int variable."
   ]
  },
  {
   "cell_type": "markdown",
   "id": "a704412c",
   "metadata": {},
   "source": [
    "since dataset values are not comlex, box plot is to used for studing further."
   ]
  },
  {
   "cell_type": "code",
   "execution_count": 6,
   "id": "c81367ca",
   "metadata": {},
   "outputs": [
    {
     "data": {
      "text/plain": [
       "<AxesSubplot:xlabel='quality', ylabel='fixed acidity'>"
      ]
     },
     "execution_count": 6,
     "metadata": {},
     "output_type": "execute_result"
    },
    {
     "data": {
      "image/png": "[encoded data removed]",
      "text/plain": [
       "<Figure size 720x432 with 1 Axes>"
      ]
     },
     "metadata": {
      "needs_background": "light"
     },
     "output_type": "display_data"
    }
   ],
   "source": [
    "plt.figure(figsize=(10,6))\n",
    "sns.barplot(x='quality', y=\"fixed acidity\", data=wine)"
   ]
  },
  {
   "cell_type": "markdown",
   "id": "65106de7",
   "metadata": {},
   "source": [
    "There is no fixed pattern observerd, lets not give much importance."
   ]
  },
  {
   "cell_type": "code",
   "execution_count": 7,
   "id": "0696aa83",
   "metadata": {},
   "outputs": [
    {
     "data": {
      "text/plain": [
       "<AxesSubplot:xlabel='quality', ylabel='volatile acidity'>"
      ]
     },
     "execution_count": 7,
     "metadata": {},
     "output_type": "execute_result"
    },
    {
     "data": {
      "image/png": "[encoded data removed]",
      "text/plain": [
       "<Figure size 720x432 with 1 Axes>"
      ]
     },
     "metadata": {
      "needs_background": "light"
     },
     "output_type": "display_data"
    }
   ],
   "source": [
    "plt.figure(figsize=(10,6))\n",
    "sns.barplot(x='quality', y=\"volatile acidity\", data=wine)"
   ]
  },
  {
   "cell_type": "markdown",
   "id": "f984cf8d",
   "metadata": {},
   "source": [
    "There is downward trend observerd in the above plot."
   ]
  },
  {
   "cell_type": "code",
   "execution_count": 8,
   "id": "13a3cf45",
   "metadata": {},
   "outputs": [
    {
     "data": {
      "text/plain": [
       "<AxesSubplot:xlabel='quality', ylabel='citric acid'>"
      ]
     },
     "execution_count": 8,
     "metadata": {},
     "output_type": "execute_result"
    },
    {
     "data": {
      "image/png": "[encoded data removed]",
      "text/plain": [
       "<Figure size 720x432 with 1 Axes>"
      ]
     },
     "metadata": {
      "needs_background": "light"
     },
     "output_type": "display_data"
    }
   ],
   "source": [
    "plt.figure(figsize=(10,6))\n",
    "sns.barplot(x='quality', y=\"citric acid\", data=wine)"
   ]
  },
  {
   "cell_type": "markdown",
   "id": "1eeee889",
   "metadata": {},
   "source": [
    "There is upward trend observerd in the above plot."
   ]
  },
  {
   "cell_type": "code",
   "execution_count": 9,
   "id": "c5bfaacb",
   "metadata": {},
   "outputs": [
    {
     "data": {
      "text/plain": [
       "<AxesSubplot:xlabel='quality', ylabel='residual sugar'>"
      ]
     },
     "execution_count": 9,
     "metadata": {},
     "output_type": "execute_result"
    },
    {
     "data": {
      "image/png": "[encoded data removed]",
      "text/plain": [
       "<Figure size 720x432 with 1 Axes>"
      ]
     },
     "metadata": {
      "needs_background": "light"
     },
     "output_type": "display_data"
    }
   ],
   "source": [
    "plt.figure(figsize=(10,6))\n",
    "sns.barplot(x='quality', y=\"residual sugar\", data=wine)"
   ]
  },
  {
   "cell_type": "markdown",
   "id": "c9010b40",
   "metadata": {},
   "source": [
    "There is no fixed pattern observerd, lets not give much importance."
   ]
  },
  {
   "cell_type": "code",
   "execution_count": 10,
   "id": "fe8612b7",
   "metadata": {},
   "outputs": [
    {
     "data": {
      "text/plain": [
       "<AxesSubplot:xlabel='quality', ylabel='chlorides'>"
      ]
     },
     "execution_count": 10,
     "metadata": {},
     "output_type": "execute_result"
    },
    {
     "data": {
      "image/png": "[encoded data removed]",
      "text/plain": [
       "<Figure size 720x432 with 1 Axes>"
      ]
     },
     "metadata": {
      "needs_background": "light"
     },
     "output_type": "display_data"
    }
   ],
   "source": [
    "plt.figure(figsize=(10,6))\n",
    "sns.barplot(x='quality', y=\"chlorides\", data=wine)"
   ]
  },
  {
   "cell_type": "markdown",
   "id": "33992afb",
   "metadata": {},
   "source": [
    "There is downward trend observerd in the above plot."
   ]
  },
  {
   "cell_type": "code",
   "execution_count": 11,
   "id": "c20c0b67",
   "metadata": {},
   "outputs": [
    {
     "data": {
      "text/plain": [
       "<AxesSubplot:xlabel='quality', ylabel='free sulfur dioxide'>"
      ]
     },
     "execution_count": 11,
     "metadata": {},
     "output_type": "execute_result"
    },
    {
     "data": {
      "image/png": "[encoded data removed]",
      "text/plain": [
       "<Figure size 720x432 with 1 Axes>"
      ]
     },
     "metadata": {
      "needs_background": "light"
     },
     "output_type": "display_data"
    }
   ],
   "source": [
    "plt.figure(figsize=(10,6))\n",
    "sns.barplot(x='quality', y=\"free sulfur dioxide\", data=wine)"
   ]
  },
  {
   "cell_type": "markdown",
   "id": "82975d1f",
   "metadata": {},
   "source": [
    "There is no fixed pattern observerd, lets not give much importance."
   ]
  },
  {
   "cell_type": "code",
   "execution_count": 12,
   "id": "2e81be43",
   "metadata": {},
   "outputs": [
    {
     "data": {
      "text/plain": [
       "<AxesSubplot:xlabel='quality', ylabel='total sulfur dioxide'>"
      ]
     },
     "execution_count": 12,
     "metadata": {},
     "output_type": "execute_result"
    },
    {
     "data": {
      "image/png": "[encoded data removed]",
      "text/plain": [
       "<Figure size 720x432 with 1 Axes>"
      ]
     },
     "metadata": {
      "needs_background": "light"
     },
     "output_type": "display_data"
    }
   ],
   "source": [
    "plt.figure(figsize=(10,6))\n",
    "sns.barplot(x='quality', y=\"total sulfur dioxide\", data=wine)"
   ]
  },
  {
   "cell_type": "markdown",
   "id": "3f309c35",
   "metadata": {},
   "source": [
    "There is no fixed pattern observerd, lets not give much importance."
   ]
  },
  {
   "cell_type": "code",
   "execution_count": 13,
   "id": "8178b443",
   "metadata": {},
   "outputs": [
    {
     "data": {
      "text/plain": [
       "<AxesSubplot:xlabel='quality', ylabel='density'>"
      ]
     },
     "execution_count": 13,
     "metadata": {},
     "output_type": "execute_result"
    },
    {
     "data": {
      "image/png": "[encoded data removed]",
      "text/plain": [
       "<Figure size 720x432 with 1 Axes>"
      ]
     },
     "metadata": {
      "needs_background": "light"
     },
     "output_type": "display_data"
    }
   ],
   "source": [
    "plt.figure(figsize=(10,6))\n",
    "sns.barplot(x='quality', y=\"density\", data=wine)"
   ]
  },
  {
   "cell_type": "markdown",
   "id": "0c86d2fb",
   "metadata": {},
   "source": [
    "There is no fixed pattern observerd, lets not give much importance."
   ]
  },
  {
   "cell_type": "code",
   "execution_count": 14,
   "id": "6d356580",
   "metadata": {},
   "outputs": [
    {
     "data": {
      "text/plain": [
       "<AxesSubplot:xlabel='quality', ylabel='pH'>"
      ]
     },
     "execution_count": 14,
     "metadata": {},
     "output_type": "execute_result"
    },
    {
     "data": {
      "image/png": "[encoded data removed]",
      "text/plain": [
       "<Figure size 720x432 with 1 Axes>"
      ]
     },
     "metadata": {
      "needs_background": "light"
     },
     "output_type": "display_data"
    }
   ],
   "source": [
    "plt.figure(figsize=(10,6))\n",
    "sns.barplot(x='quality', y=\"pH\", data=wine)"
   ]
  },
  {
   "cell_type": "markdown",
   "id": "d7ca8aed",
   "metadata": {},
   "source": [
    "There is slight downward trend observerd in the above plot"
   ]
  },
  {
   "cell_type": "code",
   "execution_count": 15,
   "id": "73dbf950",
   "metadata": {},
   "outputs": [
    {
     "data": {
      "text/plain": [
       "<AxesSubplot:xlabel='quality', ylabel='sulphates'>"
      ]
     },
     "execution_count": 15,
     "metadata": {},
     "output_type": "execute_result"
    },
    {
     "data": {
      "image/png": "[encoded data removed]",
      "text/plain": [
       "<Figure size 720x432 with 1 Axes>"
      ]
     },
     "metadata": {
      "needs_background": "light"
     },
     "output_type": "display_data"
    }
   ],
   "source": [
    "plt.figure(figsize=(10,6))\n",
    "sns.barplot(x='quality', y=\"sulphates\", data=wine)"
   ]
  },
  {
   "cell_type": "markdown",
   "id": "033e6234",
   "metadata": {},
   "source": [
    "There is slight upward trend observerd in the above plot"
   ]
  },
  {
   "cell_type": "code",
   "execution_count": 16,
   "id": "421f87b5",
   "metadata": {},
   "outputs": [
    {
     "data": {
      "text/plain": [
       "<AxesSubplot:xlabel='quality', ylabel='alcohol'>"
      ]
     },
     "execution_count": 16,
     "metadata": {},
     "output_type": "execute_result"
    },
    {
     "data": {
      "image/png": "[encoded data removed]",
      "text/plain": [
       "<Figure size 720x432 with 1 Axes>"
      ]
     },
     "metadata": {
      "needs_background": "light"
     },
     "output_type": "display_data"
    }
   ],
   "source": [
    "plt.figure(figsize=(10,6))\n",
    "sns.barplot(x='quality', y=\"alcohol\", data=wine)"
   ]
  },
  {
   "cell_type": "markdown",
   "id": "064d2051",
   "metadata": {},
   "source": [
    "There is slight upward trend observerd in the above plot"
   ]
  },
  {
   "cell_type": "markdown",
   "id": "64765b9b",
   "metadata": {},
   "source": [
    "From the above plots,\n",
    "Downward trend is observed in fixed acidity,chlorides & ph values.\n",
    "Upward trend is observed in citric acid,sulphates & alcohol values."
   ]
  },
  {
   "cell_type": "code",
   "execution_count": 17,
   "id": "6d6de694",
   "metadata": {},
   "outputs": [
    {
     "data": {
      "text/plain": [
       "quality\n",
       "3     10\n",
       "4     53\n",
       "5    681\n",
       "6    638\n",
       "7    199\n",
       "8     18\n",
       "dtype: int64"
      ]
     },
     "execution_count": 17,
     "metadata": {},
     "output_type": "execute_result"
    }
   ],
   "source": [
    "df.groupby('quality').size()"
   ]
  },
  {
   "cell_type": "markdown",
   "id": "005be949",
   "metadata": {},
   "source": [
    "score value 3 has least count values = 10, \n",
    "score value 4 has second least count values = 53, \n",
    "score value 5 has highest observation count = 681, \n",
    "score value 6 has second highest value count = 638, \n",
    "score value 7 has 199 value counts."
   ]
  },
  {
   "cell_type": "markdown",
   "id": "9e52b4e1",
   "metadata": {},
   "source": [
    "Classifing the wine quality as good or bad depending on quality.\n",
    "1. Bad or \"0\", if quality of wine lies in the range of (3,6).\n",
    "2. Good or \"1\", if quality of wine lies in the range of (7,8). "
   ]
  },
  {
   "cell_type": "code",
   "execution_count": 18,
   "id": "02e938ec",
   "metadata": {},
   "outputs": [
    {
     "data": {
      "text/html": [
       "<div>\n",
       "<style scoped>\n",
       "    .dataframe tbody tr th:only-of-type {\n",
       "        vertical-align: middle;\n",
       "    }\n",
       "\n",
       "    .dataframe tbody tr th {\n",
       "        vertical-align: top;\n",
       "    }\n",
       "\n",
       "    .dataframe thead th {\n",
       "        text-align: right;\n",
       "    }\n",
       "</style>\n",
       "<table border=\"1\" class=\"dataframe\">\n",
       "  <thead>\n",
       "    <tr style=\"text-align: right;\">\n",
       "      <th></th>\n",
       "      <th>fixed acidity</th>\n",
       "      <th>volatile acidity</th>\n",
       "      <th>citric acid</th>\n",
       "      <th>residual sugar</th>\n",
       "      <th>chlorides</th>\n",
       "      <th>free sulfur dioxide</th>\n",
       "      <th>total sulfur dioxide</th>\n",
       "      <th>density</th>\n",
       "      <th>pH</th>\n",
       "      <th>sulphates</th>\n",
       "      <th>alcohol</th>\n",
       "      <th>quality</th>\n",
       "    </tr>\n",
       "  </thead>\n",
       "  <tbody>\n",
       "    <tr>\n",
       "      <th>0</th>\n",
       "      <td>7.4</td>\n",
       "      <td>0.70</td>\n",
       "      <td>0.00</td>\n",
       "      <td>1.9</td>\n",
       "      <td>0.076</td>\n",
       "      <td>11.0</td>\n",
       "      <td>34.0</td>\n",
       "      <td>0.9978</td>\n",
       "      <td>3.51</td>\n",
       "      <td>0.56</td>\n",
       "      <td>9.4</td>\n",
       "      <td>0</td>\n",
       "    </tr>\n",
       "    <tr>\n",
       "      <th>1</th>\n",
       "      <td>7.8</td>\n",
       "      <td>0.88</td>\n",
       "      <td>0.00</td>\n",
       "      <td>2.6</td>\n",
       "      <td>0.098</td>\n",
       "      <td>25.0</td>\n",
       "      <td>67.0</td>\n",
       "      <td>0.9968</td>\n",
       "      <td>3.20</td>\n",
       "      <td>0.68</td>\n",
       "      <td>9.8</td>\n",
       "      <td>0</td>\n",
       "    </tr>\n",
       "    <tr>\n",
       "      <th>2</th>\n",
       "      <td>7.8</td>\n",
       "      <td>0.76</td>\n",
       "      <td>0.04</td>\n",
       "      <td>2.3</td>\n",
       "      <td>0.092</td>\n",
       "      <td>15.0</td>\n",
       "      <td>54.0</td>\n",
       "      <td>0.9970</td>\n",
       "      <td>3.26</td>\n",
       "      <td>0.65</td>\n",
       "      <td>9.8</td>\n",
       "      <td>0</td>\n",
       "    </tr>\n",
       "    <tr>\n",
       "      <th>3</th>\n",
       "      <td>11.2</td>\n",
       "      <td>0.28</td>\n",
       "      <td>0.56</td>\n",
       "      <td>1.9</td>\n",
       "      <td>0.075</td>\n",
       "      <td>17.0</td>\n",
       "      <td>60.0</td>\n",
       "      <td>0.9980</td>\n",
       "      <td>3.16</td>\n",
       "      <td>0.58</td>\n",
       "      <td>9.8</td>\n",
       "      <td>0</td>\n",
       "    </tr>\n",
       "    <tr>\n",
       "      <th>4</th>\n",
       "      <td>7.4</td>\n",
       "      <td>0.70</td>\n",
       "      <td>0.00</td>\n",
       "      <td>1.9</td>\n",
       "      <td>0.076</td>\n",
       "      <td>11.0</td>\n",
       "      <td>34.0</td>\n",
       "      <td>0.9978</td>\n",
       "      <td>3.51</td>\n",
       "      <td>0.56</td>\n",
       "      <td>9.4</td>\n",
       "      <td>0</td>\n",
       "    </tr>\n",
       "  </tbody>\n",
       "</table>\n",
       "</div>"
      ],
      "text/plain": [
       "   fixed acidity  volatile acidity  citric acid  residual sugar  chlorides  \\\n",
       "0            7.4              0.70         0.00             1.9      0.076   \n",
       "1            7.8              0.88         0.00             2.6      0.098   \n",
       "2            7.8              0.76         0.04             2.3      0.092   \n",
       "3           11.2              0.28         0.56             1.9      0.075   \n",
       "4            7.4              0.70         0.00             1.9      0.076   \n",
       "\n",
       "   free sulfur dioxide  total sulfur dioxide  density    pH  sulphates  \\\n",
       "0                 11.0                  34.0   0.9978  3.51       0.56   \n",
       "1                 25.0                  67.0   0.9968  3.20       0.68   \n",
       "2                 15.0                  54.0   0.9970  3.26       0.65   \n",
       "3                 17.0                  60.0   0.9980  3.16       0.58   \n",
       "4                 11.0                  34.0   0.9978  3.51       0.56   \n",
       "\n",
       "   alcohol  quality  \n",
       "0      9.4        0  \n",
       "1      9.8        0  \n",
       "2      9.8        0  \n",
       "3      9.8        0  \n",
       "4      9.4        0  "
      ]
     },
     "execution_count": 18,
     "metadata": {},
     "output_type": "execute_result"
    }
   ],
   "source": [
    "wine['quality']=wine['quality'].apply(lambda x: 1 if x> 6.5 else 0)\n",
    "wine.head()"
   ]
  },
  {
   "cell_type": "code",
   "execution_count": 19,
   "id": "ed70c903",
   "metadata": {},
   "outputs": [
    {
     "name": "stdout",
     "output_type": "stream",
     "text": [
      "0    1382\n",
      "1     217\n",
      "Name: quality, dtype: int64\n"
     ]
    },
    {
     "data": {
      "text/plain": [
       "<AxesSubplot:xlabel='quality', ylabel='count'>"
      ]
     },
     "execution_count": 19,
     "metadata": {},
     "output_type": "execute_result"
    },
    {
     "data": {
      "image/png": "[encoded data removed]",
      "text/plain": [
       "<Figure size 720x432 with 1 Axes>"
      ]
     },
     "metadata": {
      "needs_background": "light"
     },
     "output_type": "display_data"
    }
   ],
   "source": [
    "print(wine['quality'].value_counts())\n",
    "fig = plt.figure(figsize = (10,6))\n",
    "sns.countplot(wine['quality'])"
   ]
  },
  {
   "cell_type": "markdown",
   "id": "d86bb758",
   "metadata": {},
   "source": [
    "Bad wine = 1382\n",
    "Good wine =217"
   ]
  },
  {
   "cell_type": "markdown",
   "id": "0b2fa2d0",
   "metadata": {},
   "source": [
    "Outliers Detection"
   ]
  },
  {
   "cell_type": "code",
   "execution_count": 20,
   "id": "b0982264",
   "metadata": {},
   "outputs": [
    {
     "data": {
      "text/plain": [
       "<AxesSubplot:>"
      ]
     },
     "execution_count": 20,
     "metadata": {},
     "output_type": "execute_result"
    },
    {
     "data": {
      "image/png": "[encoded data removed]",
      "text/plain": [
       "<Figure size 1800x864 with 1 Axes>"
      ]
     },
     "metadata": {
      "needs_background": "light"
     },
     "output_type": "display_data"
    }
   ],
   "source": [
    "fig, ax =plt.subplots(figsize=(25,12))\n",
    "sns.boxplot(data=df, width = 0.5,ax=ax, fliersize=3)"
   ]
  },
  {
   "cell_type": "markdown",
   "id": "01d904ce",
   "metadata": {},
   "source": [
    "Free Sulphur Dioxide = Larger Value of Outliers Seen\n",
    "\n",
    "Total Sulphur Dioxide = Outliers are Present\n",
    "\n",
    "residual sugar = Outliers are present\n",
    "\n",
    "fixed acidity = Outliers are present"
   ]
  },
  {
   "cell_type": "markdown",
   "id": "060dbd76",
   "metadata": {},
   "source": [
    "# Correlation & HeatMap"
   ]
  },
  {
   "cell_type": "code",
   "execution_count": 21,
   "id": "dcac68f8",
   "metadata": {},
   "outputs": [
    {
     "data": {
      "text/html": [
       "<div>\n",
       "<style scoped>\n",
       "    .dataframe tbody tr th:only-of-type {\n",
       "        vertical-align: middle;\n",
       "    }\n",
       "\n",
       "    .dataframe tbody tr th {\n",
       "        vertical-align: top;\n",
       "    }\n",
       "\n",
       "    .dataframe thead th {\n",
       "        text-align: right;\n",
       "    }\n",
       "</style>\n",
       "<table border=\"1\" class=\"dataframe\">\n",
       "  <thead>\n",
       "    <tr style=\"text-align: right;\">\n",
       "      <th></th>\n",
       "      <th>fixed acidity</th>\n",
       "      <th>volatile acidity</th>\n",
       "      <th>citric acid</th>\n",
       "      <th>residual sugar</th>\n",
       "      <th>chlorides</th>\n",
       "      <th>free sulfur dioxide</th>\n",
       "      <th>total sulfur dioxide</th>\n",
       "      <th>density</th>\n",
       "      <th>pH</th>\n",
       "      <th>sulphates</th>\n",
       "      <th>alcohol</th>\n",
       "      <th>quality</th>\n",
       "    </tr>\n",
       "  </thead>\n",
       "  <tbody>\n",
       "    <tr>\n",
       "      <th>fixed acidity</th>\n",
       "      <td>1.000000</td>\n",
       "      <td>-0.256131</td>\n",
       "      <td>0.671703</td>\n",
       "      <td>0.114777</td>\n",
       "      <td>0.093705</td>\n",
       "      <td>-0.153794</td>\n",
       "      <td>-0.113181</td>\n",
       "      <td>0.668047</td>\n",
       "      <td>-0.682978</td>\n",
       "      <td>0.183006</td>\n",
       "      <td>-0.061668</td>\n",
       "      <td>0.120061</td>\n",
       "    </tr>\n",
       "    <tr>\n",
       "      <th>volatile acidity</th>\n",
       "      <td>-0.256131</td>\n",
       "      <td>1.000000</td>\n",
       "      <td>-0.552496</td>\n",
       "      <td>0.001918</td>\n",
       "      <td>0.061298</td>\n",
       "      <td>-0.010504</td>\n",
       "      <td>0.076470</td>\n",
       "      <td>0.022026</td>\n",
       "      <td>0.234937</td>\n",
       "      <td>-0.260987</td>\n",
       "      <td>-0.202288</td>\n",
       "      <td>-0.270712</td>\n",
       "    </tr>\n",
       "    <tr>\n",
       "      <th>citric acid</th>\n",
       "      <td>0.671703</td>\n",
       "      <td>-0.552496</td>\n",
       "      <td>1.000000</td>\n",
       "      <td>0.143577</td>\n",
       "      <td>0.203823</td>\n",
       "      <td>-0.060978</td>\n",
       "      <td>0.035533</td>\n",
       "      <td>0.364947</td>\n",
       "      <td>-0.541904</td>\n",
       "      <td>0.312770</td>\n",
       "      <td>0.109903</td>\n",
       "      <td>0.214716</td>\n",
       "    </tr>\n",
       "    <tr>\n",
       "      <th>residual sugar</th>\n",
       "      <td>0.114777</td>\n",
       "      <td>0.001918</td>\n",
       "      <td>0.143577</td>\n",
       "      <td>1.000000</td>\n",
       "      <td>0.055610</td>\n",
       "      <td>0.187049</td>\n",
       "      <td>0.203028</td>\n",
       "      <td>0.355283</td>\n",
       "      <td>-0.085652</td>\n",
       "      <td>0.005527</td>\n",
       "      <td>0.042075</td>\n",
       "      <td>0.047779</td>\n",
       "    </tr>\n",
       "    <tr>\n",
       "      <th>chlorides</th>\n",
       "      <td>0.093705</td>\n",
       "      <td>0.061298</td>\n",
       "      <td>0.203823</td>\n",
       "      <td>0.055610</td>\n",
       "      <td>1.000000</td>\n",
       "      <td>0.005562</td>\n",
       "      <td>0.047400</td>\n",
       "      <td>0.200632</td>\n",
       "      <td>-0.265026</td>\n",
       "      <td>0.371260</td>\n",
       "      <td>-0.221141</td>\n",
       "      <td>-0.097308</td>\n",
       "    </tr>\n",
       "    <tr>\n",
       "      <th>free sulfur dioxide</th>\n",
       "      <td>-0.153794</td>\n",
       "      <td>-0.010504</td>\n",
       "      <td>-0.060978</td>\n",
       "      <td>0.187049</td>\n",
       "      <td>0.005562</td>\n",
       "      <td>1.000000</td>\n",
       "      <td>0.667666</td>\n",
       "      <td>-0.021946</td>\n",
       "      <td>0.070377</td>\n",
       "      <td>0.051658</td>\n",
       "      <td>-0.069408</td>\n",
       "      <td>-0.071747</td>\n",
       "    </tr>\n",
       "    <tr>\n",
       "      <th>total sulfur dioxide</th>\n",
       "      <td>-0.113181</td>\n",
       "      <td>0.076470</td>\n",
       "      <td>0.035533</td>\n",
       "      <td>0.203028</td>\n",
       "      <td>0.047400</td>\n",
       "      <td>0.667666</td>\n",
       "      <td>1.000000</td>\n",
       "      <td>0.071269</td>\n",
       "      <td>-0.066495</td>\n",
       "      <td>0.042947</td>\n",
       "      <td>-0.205654</td>\n",
       "      <td>-0.139517</td>\n",
       "    </tr>\n",
       "    <tr>\n",
       "      <th>density</th>\n",
       "      <td>0.668047</td>\n",
       "      <td>0.022026</td>\n",
       "      <td>0.364947</td>\n",
       "      <td>0.355283</td>\n",
       "      <td>0.200632</td>\n",
       "      <td>-0.021946</td>\n",
       "      <td>0.071269</td>\n",
       "      <td>1.000000</td>\n",
       "      <td>-0.341699</td>\n",
       "      <td>0.148506</td>\n",
       "      <td>-0.496180</td>\n",
       "      <td>-0.150460</td>\n",
       "    </tr>\n",
       "    <tr>\n",
       "      <th>pH</th>\n",
       "      <td>-0.682978</td>\n",
       "      <td>0.234937</td>\n",
       "      <td>-0.541904</td>\n",
       "      <td>-0.085652</td>\n",
       "      <td>-0.265026</td>\n",
       "      <td>0.070377</td>\n",
       "      <td>-0.066495</td>\n",
       "      <td>-0.341699</td>\n",
       "      <td>1.000000</td>\n",
       "      <td>-0.196648</td>\n",
       "      <td>0.205633</td>\n",
       "      <td>-0.057283</td>\n",
       "    </tr>\n",
       "    <tr>\n",
       "      <th>sulphates</th>\n",
       "      <td>0.183006</td>\n",
       "      <td>-0.260987</td>\n",
       "      <td>0.312770</td>\n",
       "      <td>0.005527</td>\n",
       "      <td>0.371260</td>\n",
       "      <td>0.051658</td>\n",
       "      <td>0.042947</td>\n",
       "      <td>0.148506</td>\n",
       "      <td>-0.196648</td>\n",
       "      <td>1.000000</td>\n",
       "      <td>0.093595</td>\n",
       "      <td>0.199485</td>\n",
       "    </tr>\n",
       "    <tr>\n",
       "      <th>alcohol</th>\n",
       "      <td>-0.061668</td>\n",
       "      <td>-0.202288</td>\n",
       "      <td>0.109903</td>\n",
       "      <td>0.042075</td>\n",
       "      <td>-0.221141</td>\n",
       "      <td>-0.069408</td>\n",
       "      <td>-0.205654</td>\n",
       "      <td>-0.496180</td>\n",
       "      <td>0.205633</td>\n",
       "      <td>0.093595</td>\n",
       "      <td>1.000000</td>\n",
       "      <td>0.407315</td>\n",
       "    </tr>\n",
       "    <tr>\n",
       "      <th>quality</th>\n",
       "      <td>0.120061</td>\n",
       "      <td>-0.270712</td>\n",
       "      <td>0.214716</td>\n",
       "      <td>0.047779</td>\n",
       "      <td>-0.097308</td>\n",
       "      <td>-0.071747</td>\n",
       "      <td>-0.139517</td>\n",
       "      <td>-0.150460</td>\n",
       "      <td>-0.057283</td>\n",
       "      <td>0.199485</td>\n",
       "      <td>0.407315</td>\n",
       "      <td>1.000000</td>\n",
       "    </tr>\n",
       "  </tbody>\n",
       "</table>\n",
       "</div>"
      ],
      "text/plain": [
       "                      fixed acidity  volatile acidity  citric acid  \\\n",
       "fixed acidity              1.000000         -0.256131     0.671703   \n",
       "volatile acidity          -0.256131          1.000000    -0.552496   \n",
       "citric acid                0.671703         -0.552496     1.000000   \n",
       "residual sugar             0.114777          0.001918     0.143577   \n",
       "chlorides                  0.093705          0.061298     0.203823   \n",
       "free sulfur dioxide       -0.153794         -0.010504    -0.060978   \n",
       "total sulfur dioxide      -0.113181          0.076470     0.035533   \n",
       "density                    0.668047          0.022026     0.364947   \n",
       "pH                        -0.682978          0.234937    -0.541904   \n",
       "sulphates                  0.183006         -0.260987     0.312770   \n",
       "alcohol                   -0.061668         -0.202288     0.109903   \n",
       "quality                    0.120061         -0.270712     0.214716   \n",
       "\n",
       "                      residual sugar  chlorides  free sulfur dioxide  \\\n",
       "fixed acidity               0.114777   0.093705            -0.153794   \n",
       "volatile acidity            0.001918   0.061298            -0.010504   \n",
       "citric acid                 0.143577   0.203823            -0.060978   \n",
       "residual sugar              1.000000   0.055610             0.187049   \n",
       "chlorides                   0.055610   1.000000             0.005562   \n",
       "free sulfur dioxide         0.187049   0.005562             1.000000   \n",
       "total sulfur dioxide        0.203028   0.047400             0.667666   \n",
       "density                     0.355283   0.200632            -0.021946   \n",
       "pH                         -0.085652  -0.265026             0.070377   \n",
       "sulphates                   0.005527   0.371260             0.051658   \n",
       "alcohol                     0.042075  -0.221141            -0.069408   \n",
       "quality                     0.047779  -0.097308            -0.071747   \n",
       "\n",
       "                      total sulfur dioxide   density        pH  sulphates  \\\n",
       "fixed acidity                    -0.113181  0.668047 -0.682978   0.183006   \n",
       "volatile acidity                  0.076470  0.022026  0.234937  -0.260987   \n",
       "citric acid                       0.035533  0.364947 -0.541904   0.312770   \n",
       "residual sugar                    0.203028  0.355283 -0.085652   0.005527   \n",
       "chlorides                         0.047400  0.200632 -0.265026   0.371260   \n",
       "free sulfur dioxide               0.667666 -0.021946  0.070377   0.051658   \n",
       "total sulfur dioxide              1.000000  0.071269 -0.066495   0.042947   \n",
       "density                           0.071269  1.000000 -0.341699   0.148506   \n",
       "pH                               -0.066495 -0.341699  1.000000  -0.196648   \n",
       "sulphates                         0.042947  0.148506 -0.196648   1.000000   \n",
       "alcohol                          -0.205654 -0.496180  0.205633   0.093595   \n",
       "quality                          -0.139517 -0.150460 -0.057283   0.199485   \n",
       "\n",
       "                       alcohol   quality  \n",
       "fixed acidity        -0.061668  0.120061  \n",
       "volatile acidity     -0.202288 -0.270712  \n",
       "citric acid           0.109903  0.214716  \n",
       "residual sugar        0.042075  0.047779  \n",
       "chlorides            -0.221141 -0.097308  \n",
       "free sulfur dioxide  -0.069408 -0.071747  \n",
       "total sulfur dioxide -0.205654 -0.139517  \n",
       "density              -0.496180 -0.150460  \n",
       "pH                    0.205633 -0.057283  \n",
       "sulphates             0.093595  0.199485  \n",
       "alcohol               1.000000  0.407315  \n",
       "quality               0.407315  1.000000  "
      ]
     },
     "execution_count": 21,
     "metadata": {},
     "output_type": "execute_result"
    }
   ],
   "source": [
    "dfcor=df.corr()\n",
    "dfcor"
   ]
  },
  {
   "cell_type": "markdown",
   "id": "f79dfef8",
   "metadata": {},
   "source": [
    "density & fixed acidity is positive correlation with value of 0.66\n",
    "\n",
    "citric acid & fixed acidity has positive correlation with value of 0.67\n",
    "\n",
    "ph shows negative correlation with fixed acidty with value of -0.68\n",
    "\n",
    "Total sulphur dioxide and free sulphur dioxide shows positive correlation with value of 0.66"
   ]
  },
  {
   "cell_type": "code",
   "execution_count": 22,
   "id": "dde8f8e0",
   "metadata": {},
   "outputs": [
    {
     "data": {
      "text/plain": [
       "<AxesSubplot:>"
      ]
     },
     "execution_count": 22,
     "metadata": {},
     "output_type": "execute_result"
    },
    {
     "data": {
      "image/png": "[encoded data removed]",
      "text/plain": [
       "<Figure size 864x576 with 2 Axes>"
      ]
     },
     "metadata": {
      "needs_background": "light"
     },
     "output_type": "display_data"
    }
   ],
   "source": [
    "plt.figure(figsize=(12,8))\n",
    "sns.heatmap(dfcor,cmap='YlOrRd_r', annot=True)"
   ]
  },
  {
   "cell_type": "markdown",
   "id": "4b95a787",
   "metadata": {},
   "source": [
    "Target varaible (quality) shows positive correlation witrh alcohol with value of 0.43\n",
    "\n",
    "Target shows Slight positive correlation with sulphates with value off 0.22\n",
    "\n",
    "Target shows high negative correlation with volatile acidity\n",
    "\n",
    "fixed acity has positive correlation with citric acid and density with value of 0.67\n",
    "\n",
    "Density shows high negative correlation with alcohol\n",
    "\n",
    "alcohol & quality has some positive correlation\n",
    "\n",
    "free sulphur chloride shows some good correlation with total sulphur chloride"
   ]
  },
  {
   "cell_type": "markdown",
   "id": "8bea0984",
   "metadata": {},
   "source": [
    "# Separating dependent and independent variable"
   ]
  },
  {
   "cell_type": "code",
   "execution_count": 23,
   "id": "2d47ed3b",
   "metadata": {},
   "outputs": [],
   "source": [
    "x=df.iloc[:,:-1]\n",
    "y=df.iloc[:,-1]"
   ]
  },
  {
   "cell_type": "markdown",
   "id": "ad640cf3",
   "metadata": {},
   "source": [
    "-Dividing whole dataset in x & y dataset where y is the target variable"
   ]
  },
  {
   "cell_type": "code",
   "execution_count": 24,
   "id": "d417cc4b",
   "metadata": {},
   "outputs": [
    {
     "data": {
      "text/plain": [
       "(1599, 11)"
      ]
     },
     "execution_count": 24,
     "metadata": {},
     "output_type": "execute_result"
    }
   ],
   "source": [
    "x.shape"
   ]
  },
  {
   "cell_type": "code",
   "execution_count": 25,
   "id": "4db18b8f",
   "metadata": {},
   "outputs": [
    {
     "data": {
      "text/plain": [
       "(1599,)"
      ]
     },
     "execution_count": 25,
     "metadata": {},
     "output_type": "execute_result"
    }
   ],
   "source": [
    "y.shape"
   ]
  },
  {
   "cell_type": "code",
   "execution_count": 26,
   "id": "ab60a9db",
   "metadata": {},
   "outputs": [
    {
     "data": {
      "text/html": [
       "<div>\n",
       "<style scoped>\n",
       "    .dataframe tbody tr th:only-of-type {\n",
       "        vertical-align: middle;\n",
       "    }\n",
       "\n",
       "    .dataframe tbody tr th {\n",
       "        vertical-align: top;\n",
       "    }\n",
       "\n",
       "    .dataframe thead th {\n",
       "        text-align: right;\n",
       "    }\n",
       "</style>\n",
       "<table border=\"1\" class=\"dataframe\">\n",
       "  <thead>\n",
       "    <tr style=\"text-align: right;\">\n",
       "      <th></th>\n",
       "      <th>fixed acidity</th>\n",
       "      <th>volatile acidity</th>\n",
       "      <th>citric acid</th>\n",
       "      <th>residual sugar</th>\n",
       "      <th>chlorides</th>\n",
       "      <th>free sulfur dioxide</th>\n",
       "      <th>total sulfur dioxide</th>\n",
       "      <th>density</th>\n",
       "      <th>pH</th>\n",
       "      <th>sulphates</th>\n",
       "      <th>alcohol</th>\n",
       "    </tr>\n",
       "  </thead>\n",
       "  <tbody>\n",
       "    <tr>\n",
       "      <th>0</th>\n",
       "      <td>7.4</td>\n",
       "      <td>0.70</td>\n",
       "      <td>0.00</td>\n",
       "      <td>1.9</td>\n",
       "      <td>0.076</td>\n",
       "      <td>11.0</td>\n",
       "      <td>34.0</td>\n",
       "      <td>0.9978</td>\n",
       "      <td>3.51</td>\n",
       "      <td>0.56</td>\n",
       "      <td>9.4</td>\n",
       "    </tr>\n",
       "    <tr>\n",
       "      <th>1</th>\n",
       "      <td>7.8</td>\n",
       "      <td>0.88</td>\n",
       "      <td>0.00</td>\n",
       "      <td>2.6</td>\n",
       "      <td>0.098</td>\n",
       "      <td>25.0</td>\n",
       "      <td>67.0</td>\n",
       "      <td>0.9968</td>\n",
       "      <td>3.20</td>\n",
       "      <td>0.68</td>\n",
       "      <td>9.8</td>\n",
       "    </tr>\n",
       "    <tr>\n",
       "      <th>2</th>\n",
       "      <td>7.8</td>\n",
       "      <td>0.76</td>\n",
       "      <td>0.04</td>\n",
       "      <td>2.3</td>\n",
       "      <td>0.092</td>\n",
       "      <td>15.0</td>\n",
       "      <td>54.0</td>\n",
       "      <td>0.9970</td>\n",
       "      <td>3.26</td>\n",
       "      <td>0.65</td>\n",
       "      <td>9.8</td>\n",
       "    </tr>\n",
       "    <tr>\n",
       "      <th>3</th>\n",
       "      <td>11.2</td>\n",
       "      <td>0.28</td>\n",
       "      <td>0.56</td>\n",
       "      <td>1.9</td>\n",
       "      <td>0.075</td>\n",
       "      <td>17.0</td>\n",
       "      <td>60.0</td>\n",
       "      <td>0.9980</td>\n",
       "      <td>3.16</td>\n",
       "      <td>0.58</td>\n",
       "      <td>9.8</td>\n",
       "    </tr>\n",
       "    <tr>\n",
       "      <th>4</th>\n",
       "      <td>7.4</td>\n",
       "      <td>0.70</td>\n",
       "      <td>0.00</td>\n",
       "      <td>1.9</td>\n",
       "      <td>0.076</td>\n",
       "      <td>11.0</td>\n",
       "      <td>34.0</td>\n",
       "      <td>0.9978</td>\n",
       "      <td>3.51</td>\n",
       "      <td>0.56</td>\n",
       "      <td>9.4</td>\n",
       "    </tr>\n",
       "  </tbody>\n",
       "</table>\n",
       "</div>"
      ],
      "text/plain": [
       "   fixed acidity  volatile acidity  citric acid  residual sugar  chlorides  \\\n",
       "0            7.4              0.70         0.00             1.9      0.076   \n",
       "1            7.8              0.88         0.00             2.6      0.098   \n",
       "2            7.8              0.76         0.04             2.3      0.092   \n",
       "3           11.2              0.28         0.56             1.9      0.075   \n",
       "4            7.4              0.70         0.00             1.9      0.076   \n",
       "\n",
       "   free sulfur dioxide  total sulfur dioxide  density    pH  sulphates  \\\n",
       "0                 11.0                  34.0   0.9978  3.51       0.56   \n",
       "1                 25.0                  67.0   0.9968  3.20       0.68   \n",
       "2                 15.0                  54.0   0.9970  3.26       0.65   \n",
       "3                 17.0                  60.0   0.9980  3.16       0.58   \n",
       "4                 11.0                  34.0   0.9978  3.51       0.56   \n",
       "\n",
       "   alcohol  \n",
       "0      9.4  \n",
       "1      9.8  \n",
       "2      9.8  \n",
       "3      9.8  \n",
       "4      9.4  "
      ]
     },
     "execution_count": 26,
     "metadata": {},
     "output_type": "execute_result"
    }
   ],
   "source": [
    "# x varibles without target variable\n",
    "x.head()"
   ]
  },
  {
   "cell_type": "markdown",
   "id": "b2df74a1",
   "metadata": {},
   "source": [
    "# Scaling the independent variables"
   ]
  },
  {
   "cell_type": "code",
   "execution_count": 27,
   "id": "9e4defd0",
   "metadata": {},
   "outputs": [
    {
     "data": {
      "text/plain": [
       "array([[-0.52835961,  0.96187667, -1.39147228, ...,  1.28864292,\n",
       "        -0.57920652, -0.96024611],\n",
       "       [-0.29854743,  1.96744245, -1.39147228, ..., -0.7199333 ,\n",
       "         0.1289504 , -0.58477711],\n",
       "       [-0.29854743,  1.29706527, -1.18607043, ..., -0.33117661,\n",
       "        -0.04808883, -0.58477711],\n",
       "       ...,\n",
       "       [-1.1603431 , -0.09955388, -0.72391627, ...,  0.70550789,\n",
       "         0.54204194,  0.54162988],\n",
       "       [-1.39015528,  0.65462046, -0.77526673, ...,  1.6773996 ,\n",
       "         0.30598963, -0.20930812],\n",
       "       [-1.33270223, -1.21684919,  1.02199944, ...,  0.51112954,\n",
       "         0.01092425,  0.54162988]])"
      ]
     },
     "execution_count": 27,
     "metadata": {},
     "output_type": "execute_result"
    }
   ],
   "source": [
    "scaling = StandardScaler()\n",
    "x=scaling.fit_transform(x)\n",
    "x"
   ]
  },
  {
   "cell_type": "markdown",
   "id": "33556ce8",
   "metadata": {},
   "source": [
    "# Decision tree classifier"
   ]
  },
  {
   "cell_type": "code",
   "execution_count": 28,
   "id": "3733f853",
   "metadata": {},
   "outputs": [
    {
     "name": "stdout",
     "output_type": "stream",
     "text": [
      "88.4469696969697 at random_state 0\n",
      "87.12121212121212 at random_state 1\n",
      "85.41666666666666 at random_state 2\n",
      "85.79545454545455 at random_state 3\n",
      "85.79545454545455 at random_state 4\n",
      "87.5 at random_state 5\n",
      "87.87878787878788 at random_state 6\n",
      "86.36363636363636 at random_state 7\n",
      "87.31060606060606 at random_state 8\n",
      "85.60606060606061 at random_state 9\n",
      "87.31060606060606 at random_state 10\n",
      "87.12121212121212 at random_state 11\n",
      "88.63636363636364 at random_state 12\n",
      "85.60606060606061 at random_state 13\n",
      "87.31060606060606 at random_state 14\n",
      "85.41666666666666 at random_state 15\n",
      "86.17424242424242 at random_state 16\n",
      "88.06818181818183 at random_state 17\n",
      "85.60606060606061 at random_state 18\n",
      "85.22727272727273 at random_state 19\n",
      "88.4469696969697 at random_state 20\n",
      "84.0909090909091 at random_state 21\n",
      "87.31060606060606 at random_state 22\n",
      "86.5530303030303 at random_state 23\n",
      "88.4469696969697 at random_state 24\n",
      "87.12121212121212 at random_state 25\n",
      "88.25757575757575 at random_state 26\n",
      "88.4469696969697 at random_state 27\n",
      "85.79545454545455 at random_state 28\n",
      "87.68939393939394 at random_state 29\n",
      "86.74242424242425 at random_state 30\n",
      "88.06818181818183 at random_state 31\n",
      "89.20454545454545 at random_state 32\n",
      "88.06818181818183 at random_state 33\n",
      "86.93181818181817 at random_state 34\n",
      "87.87878787878788 at random_state 35\n",
      "87.68939393939394 at random_state 36\n",
      "87.87878787878788 at random_state 37\n",
      "90.15151515151516 at random_state 38\n",
      "86.36363636363636 at random_state 39\n",
      "87.68939393939394 at random_state 40\n",
      "88.63636363636364 at random_state 41\n",
      "83.71212121212122 at random_state 42\n",
      "85.03787878787878 at random_state 43\n",
      "87.31060606060606 at random_state 44\n",
      "86.5530303030303 at random_state 45\n",
      "88.06818181818183 at random_state 46\n",
      "87.31060606060606 at random_state 47\n",
      "86.74242424242425 at random_state 48\n",
      "85.22727272727273 at random_state 49\n",
      "88.25757575757575 at random_state 50\n",
      "88.63636363636364 at random_state 51\n",
      "84.84848484848484 at random_state 52\n",
      "86.17424242424242 at random_state 53\n",
      "88.63636363636364 at random_state 54\n",
      "88.63636363636364 at random_state 55\n",
      "86.36363636363636 at random_state 56\n",
      "87.12121212121212 at random_state 57\n",
      "85.79545454545455 at random_state 58\n",
      "89.01515151515152 at random_state 59\n",
      "85.79545454545455 at random_state 60\n",
      "87.31060606060606 at random_state 61\n",
      "89.20454545454545 at random_state 62\n",
      "86.17424242424242 at random_state 63\n",
      "86.74242424242425 at random_state 64\n",
      "85.98484848484848 at random_state 65\n",
      "86.17424242424242 at random_state 66\n",
      "88.25757575757575 at random_state 67\n",
      "88.4469696969697 at random_state 68\n",
      "85.41666666666666 at random_state 69\n",
      "89.01515151515152 at random_state 70\n",
      "84.84848484848484 at random_state 71\n",
      "86.17424242424242 at random_state 72\n",
      "87.5 at random_state 73\n",
      "89.58333333333334 at random_state 74\n",
      "86.17424242424242 at random_state 75\n",
      "87.31060606060606 at random_state 76\n",
      "88.25757575757575 at random_state 77\n",
      "88.25757575757575 at random_state 78\n",
      "86.17424242424242 at random_state 79\n",
      "86.74242424242425 at random_state 80\n",
      "88.4469696969697 at random_state 81\n",
      "86.36363636363636 at random_state 82\n",
      "85.98484848484848 at random_state 83\n",
      "86.74242424242425 at random_state 84\n",
      "87.68939393939394 at random_state 85\n",
      "86.36363636363636 at random_state 86\n",
      "86.5530303030303 at random_state 87\n",
      "88.82575757575758 at random_state 88\n",
      "85.60606060606061 at random_state 89\n",
      "84.6590909090909 at random_state 90\n",
      "84.46969696969697 at random_state 91\n",
      "88.4469696969697 at random_state 92\n",
      "86.74242424242425 at random_state 93\n",
      "88.63636363636364 at random_state 94\n",
      "88.82575757575758 at random_state 95\n",
      "85.41666666666666 at random_state 96\n",
      "86.5530303030303 at random_state 97\n",
      "88.06818181818183 at random_state 98\n",
      "87.87878787878788 at random_state 99\n",
      "85.98484848484848 at random_state 100\n",
      "87.31060606060606 at random_state 101\n",
      "85.03787878787878 at random_state 102\n",
      "88.25757575757575 at random_state 103\n",
      "86.36363636363636 at random_state 104\n",
      "86.74242424242425 at random_state 105\n",
      "87.68939393939394 at random_state 106\n",
      "86.17424242424242 at random_state 107\n",
      "85.98484848484848 at random_state 108\n",
      "84.6590909090909 at random_state 109\n",
      "88.06818181818183 at random_state 110\n",
      "87.68939393939394 at random_state 111\n",
      "86.93181818181817 at random_state 112\n",
      "86.17424242424242 at random_state 113\n",
      "88.06818181818183 at random_state 114\n",
      "86.5530303030303 at random_state 115\n",
      "88.25757575757575 at random_state 116\n",
      "87.68939393939394 at random_state 117\n",
      "86.5530303030303 at random_state 118\n",
      "86.5530303030303 at random_state 119\n",
      "85.79545454545455 at random_state 120\n",
      "88.63636363636364 at random_state 121\n",
      "85.79545454545455 at random_state 122\n",
      "88.82575757575758 at random_state 123\n",
      "85.03787878787878 at random_state 124\n",
      "88.06818181818183 at random_state 125\n",
      "86.17424242424242 at random_state 126\n",
      "88.63636363636364 at random_state 127\n",
      "83.71212121212122 at random_state 128\n",
      "87.68939393939394 at random_state 129\n",
      "86.93181818181817 at random_state 130\n",
      "85.98484848484848 at random_state 131\n",
      "88.25757575757575 at random_state 132\n",
      "85.98484848484848 at random_state 133\n",
      "87.68939393939394 at random_state 134\n",
      "87.68939393939394 at random_state 135\n",
      "86.74242424242425 at random_state 136\n",
      "89.39393939393939 at random_state 137\n",
      "85.03787878787878 at random_state 138\n",
      "84.84848484848484 at random_state 139\n",
      "85.41666666666666 at random_state 140\n",
      "85.60606060606061 at random_state 141\n",
      "88.4469696969697 at random_state 142\n",
      "89.96212121212122 at random_state 143\n",
      "85.79545454545455 at random_state 144\n",
      "85.98484848484848 at random_state 145\n",
      "83.90151515151516 at random_state 146\n",
      "88.82575757575758 at random_state 147\n",
      "84.0909090909091 at random_state 148\n",
      "85.98484848484848 at random_state 149\n",
      "84.84848484848484 at random_state 150\n",
      "89.58333333333334 at random_state 151\n",
      "84.84848484848484 at random_state 152\n",
      "86.74242424242425 at random_state 153\n",
      "86.17424242424242 at random_state 154\n",
      "86.17424242424242 at random_state 155\n",
      "86.17424242424242 at random_state 156\n",
      "87.87878787878788 at random_state 157\n",
      "86.74242424242425 at random_state 158\n",
      "87.68939393939394 at random_state 159\n",
      "87.12121212121212 at random_state 160\n",
      "86.36363636363636 at random_state 161\n",
      "85.03787878787878 at random_state 162\n",
      "86.74242424242425 at random_state 163\n",
      "86.74242424242425 at random_state 164\n",
      "85.22727272727273 at random_state 165\n",
      "88.4469696969697 at random_state 166\n",
      "86.74242424242425 at random_state 167\n",
      "86.5530303030303 at random_state 168\n",
      "87.31060606060606 at random_state 169\n",
      "85.79545454545455 at random_state 170\n",
      "87.12121212121212 at random_state 171\n",
      "88.63636363636364 at random_state 172\n",
      "87.68939393939394 at random_state 173\n",
      "88.82575757575758 at random_state 174\n",
      "85.98484848484848 at random_state 175\n",
      "87.31060606060606 at random_state 176\n",
      "87.5 at random_state 177\n",
      "86.36363636363636 at random_state 178\n",
      "89.39393939393939 at random_state 179\n",
      "85.41666666666666 at random_state 180\n",
      "86.5530303030303 at random_state 181\n",
      "86.93181818181817 at random_state 182\n",
      "84.84848484848484 at random_state 183\n",
      "85.41666666666666 at random_state 184\n",
      "85.98484848484848 at random_state 185\n",
      "87.87878787878788 at random_state 186\n",
      "86.74242424242425 at random_state 187\n",
      "86.93181818181817 at random_state 188\n",
      "87.5 at random_state 189\n",
      "88.06818181818183 at random_state 190\n",
      "87.87878787878788 at random_state 191\n",
      "85.41666666666666 at random_state 192\n",
      "87.87878787878788 at random_state 193\n",
      "87.68939393939394 at random_state 194\n",
      "87.87878787878788 at random_state 195\n",
      "90.3409090909091 at random_state 196\n",
      "85.79545454545455 at random_state 197\n",
      "85.79545454545455 at random_state 198\n",
      "84.46969696969697 at random_state 199\n"
     ]
    }
   ],
   "source": [
    "for i in range(200):\n",
    "    x_train, x_test, y_train, y_test = train_test_split(x,y, test_size=0.33, random_state=i)\n",
    "    from sklearn.tree import DecisionTreeClassifier\n",
    "    lm = DecisionTreeClassifier()\n",
    "    lm.fit(x_train,y_train)\n",
    "    pred=lm.predict(x_test)\n",
    "    accu=accuracy_score(y_test,pred)\n",
    "    print(accu*100, \"at random_state\", i) "
   ]
  },
  {
   "cell_type": "markdown",
   "id": "3442b85c",
   "metadata": {},
   "source": [
    "# Decision tree is configured to select best random state with high accuracy"
   ]
  },
  {
   "cell_type": "code",
   "execution_count": 29,
   "id": "24946a13",
   "metadata": {},
   "outputs": [
    {
     "name": "stdout",
     "output_type": "stream",
     "text": [
      "Best accuracy is  0.9020833333333333  on Random_state  4\n"
     ]
    }
   ],
   "source": [
    "maxA=0\n",
    "maxRS=0\n",
    "for i in range(1,200):\n",
    "    x_train, x_test, y_train, y_test = train_test_split(x,y,test_size=0.30, random_state = i)\n",
    "    mod = DecisionTreeClassifier()\n",
    "    mod.fit(x_train, y_train)\n",
    "    pred = mod.predict(x_test)\n",
    "    acc=accuracy_score(y_test, pred)\n",
    "    if acc>maxA:\n",
    "        maxA=acc\n",
    "        maxRS=i\n",
    "print(\"Best accuracy is \", maxA,\" on Random_state \",maxRS)"
   ]
  },
  {
   "cell_type": "markdown",
   "id": "2f47f4f1",
   "metadata": {},
   "source": [
    "# Splitting dataset x train, x test, y train y test"
   ]
  },
  {
   "cell_type": "code",
   "execution_count": 30,
   "id": "25f36389",
   "metadata": {},
   "outputs": [],
   "source": [
    "x_train, x_test, y_train, y_test = train_test_split(x,y,test_size=0.2, random_state=42)"
   ]
  },
  {
   "cell_type": "code",
   "execution_count": 31,
   "id": "03014599",
   "metadata": {},
   "outputs": [
    {
     "name": "stdout",
     "output_type": "stream",
     "text": [
      "x-train shape:  (1279, 11)\n",
      "x-test shape:  (320, 11)\n",
      "y-train shape:  (1279,)\n",
      "y-test shape:  (320,)\n"
     ]
    }
   ],
   "source": [
    "print(\"x-train shape: \", x_train.shape)\n",
    "print(\"x-test shape: \", x_test.shape)\n",
    "print(\"y-train shape: \", y_train.shape)\n",
    "print(\"y-test shape: \", y_test.shape)"
   ]
  },
  {
   "cell_type": "markdown",
   "id": "96a80313",
   "metadata": {},
   "source": [
    "we have got 320 test values and 1279 train values."
   ]
  },
  {
   "cell_type": "markdown",
   "id": "c72b8e25",
   "metadata": {},
   "source": [
    "# Creating ML Algorithm"
   ]
  },
  {
   "cell_type": "markdown",
   "id": "af06fe9f",
   "metadata": {},
   "source": [
    "# 1.  Logistic Regression"
   ]
  },
  {
   "cell_type": "code",
   "execution_count": 32,
   "id": "6419ebaa",
   "metadata": {},
   "outputs": [
    {
     "name": "stdout",
     "output_type": "stream",
     "text": [
      "[0 0 0 0 0 0 0 0 0 0 0 0 0 0 0 1 0 0 1 0 0 0 0 0 0 0 0 0 0 0 0 0 0 0 0 0 0\n",
      " 0 0 0 0 0 0 0 0 0 1 0 0 0 0 0 0 0 0 0 0 0 0 0 0 0 0 0 1 0 1 0 0 0 0 0 0 0\n",
      " 0 0 1 0 0 0 0 1 0 0 0 0 0 0 0 0 0 0 0 0 0 0 0 0 0 0 0 0 0 0 0 0 0 0 0 0 1\n",
      " 0 0 0 0 0 0 0 0 0 0 0 0 0 0 0 0 0 0 0 0 0 0 0 0 0 0 0 0 0 0 0 0 0 0 0 0 0\n",
      " 0 0 0 0 0 0 0 0 0 0 0 0 0 0 0 0 0 0 0 0 0 0 0 0 0 0 0 0 0 0 0 0 0 0 0 1 0\n",
      " 0 0 0 1 0 0 0 0 1 0 0 0 0 0 0 0 0 0 0 1 0 0 0 0 0 0 0 0 1 1 0 0 0 0 0 0 0\n",
      " 0 0 0 0 0 1 0 0 0 0 0 0 0 0 0 0 0 0 0 0 0 0 0 0 0 0 1 0 0 0 0 0 0 0 0 0 0\n",
      " 1 0 0 0 1 0 0 0 0 0 0 0 0 0 0 0 0 0 0 0 0 1 0 0 0 0 0 0 0 0 0 0 1 0 0 0 0\n",
      " 0 0 0 1 0 0 0 0 0 0 0 0 0 1 0 0 0 0 0 0 0 0 0 0]\n",
      "              precision    recall  f1-score   support\n",
      "\n",
      "           0       0.89      0.97      0.92       273\n",
      "           1       0.59      0.28      0.38        47\n",
      "\n",
      "    accuracy                           0.87       320\n",
      "   macro avg       0.74      0.62      0.65       320\n",
      "weighted avg       0.84      0.87      0.84       320\n",
      "\n"
     ]
    }
   ],
   "source": [
    "lg=LogisticRegression()\n",
    "lg.fit(x_train,y_train)\n",
    "pred=lg.predict(x_test)\n",
    "print(pred)\n",
    "acc = classification_report(y_test, pred)\n",
    "print(acc)"
   ]
  },
  {
   "cell_type": "markdown",
   "id": "d1ee3fce",
   "metadata": {},
   "source": [
    "Logistic Regression is giving 87% Accuracy"
   ]
  },
  {
   "cell_type": "markdown",
   "id": "e924ada1",
   "metadata": {},
   "source": [
    "# 2. Random Forest Classifier"
   ]
  },
  {
   "cell_type": "code",
   "execution_count": 33,
   "id": "b2db7098",
   "metadata": {},
   "outputs": [
    {
     "name": "stdout",
     "output_type": "stream",
     "text": [
      "              precision    recall  f1-score   support\n",
      "\n",
      "           0       0.91      0.97      0.94       273\n",
      "           1       0.73      0.47      0.57        47\n",
      "\n",
      "    accuracy                           0.90       320\n",
      "   macro avg       0.82      0.72      0.76       320\n",
      "weighted avg       0.89      0.90      0.89       320\n",
      "\n"
     ]
    }
   ],
   "source": [
    "rf = RandomForestClassifier()\n",
    "rf.fit(x_train, y_train)\n",
    "pred = rf.predict(x_test)\n",
    "acc = classification_report(y_test, pred)\n",
    "print(acc)"
   ]
  },
  {
   "cell_type": "markdown",
   "id": "6e2da2a7",
   "metadata": {},
   "source": [
    "Random forest classifier is giving 90% acc"
   ]
  },
  {
   "cell_type": "markdown",
   "id": "1ddfb04a",
   "metadata": {},
   "source": [
    "# 3. Support Vector Regressor"
   ]
  },
  {
   "cell_type": "code",
   "execution_count": 34,
   "id": "1d1f9917",
   "metadata": {},
   "outputs": [
    {
     "name": "stdout",
     "output_type": "stream",
     "text": [
      "              precision    recall  f1-score   support\n",
      "\n",
      "           0       0.88      0.98      0.93       273\n",
      "           1       0.71      0.26      0.37        47\n",
      "\n",
      "    accuracy                           0.88       320\n",
      "   macro avg       0.80      0.62      0.65       320\n",
      "weighted avg       0.86      0.88      0.85       320\n",
      "\n"
     ]
    }
   ],
   "source": [
    "svc=SVC()\n",
    "svc.fit(x_train, y_train)\n",
    "pred = svc.predict(x_test)\n",
    "acc = classification_report(y_test, pred)\n",
    "print(acc)"
   ]
  },
  {
   "cell_type": "markdown",
   "id": "764ac3a2",
   "metadata": {},
   "source": [
    "Support vector classifier is giving 88% acc"
   ]
  },
  {
   "cell_type": "markdown",
   "id": "42c63adc",
   "metadata": {},
   "source": [
    "# 4. Knn Classifier"
   ]
  },
  {
   "cell_type": "code",
   "execution_count": 35,
   "id": "80b509ed",
   "metadata": {},
   "outputs": [
    {
     "name": "stdout",
     "output_type": "stream",
     "text": [
      "              precision    recall  f1-score   support\n",
      "\n",
      "           0       0.88      0.98      0.93       273\n",
      "           1       0.71      0.26      0.37        47\n",
      "\n",
      "    accuracy                           0.88       320\n",
      "   macro avg       0.80      0.62      0.65       320\n",
      "weighted avg       0.86      0.88      0.85       320\n",
      "\n"
     ]
    }
   ],
   "source": [
    "knn=KNeighborsClassifier(n_neighbors=5)\n",
    "knn.fit(x_train,y_train)\n",
    "predknn=knn.predict(x_test)\n",
    "acc = classification_report(y_test, pred)\n",
    "print(acc)"
   ]
  },
  {
   "cell_type": "markdown",
   "id": "26c91e03",
   "metadata": {},
   "source": [
    "KNN is giving 88% accuracy"
   ]
  },
  {
   "cell_type": "markdown",
   "id": "addca2b3",
   "metadata": {},
   "source": [
    "# Kfold Cross Validation"
   ]
  },
  {
   "cell_type": "code",
   "execution_count": 36,
   "id": "085a6dd0",
   "metadata": {},
   "outputs": [],
   "source": [
    "from sklearn.model_selection import KFold"
   ]
  },
  {
   "cell_type": "code",
   "execution_count": 37,
   "id": "b7be1cae",
   "metadata": {},
   "outputs": [],
   "source": [
    "# Creating CV Object with shuffle = true to avoid -ve CV Values as o/p\n",
    "cross_validation=KFold(5, shuffle =True) "
   ]
  },
  {
   "cell_type": "code",
   "execution_count": 38,
   "id": "294a96c5",
   "metadata": {},
   "outputs": [
    {
     "name": "stdout",
     "output_type": "stream",
     "text": [
      "0.8761520376175549\n"
     ]
    }
   ],
   "source": [
    " # Logistic regression\n",
    "print(cross_val_score(lg,x,y,cv=cross_validation).mean())"
   ]
  },
  {
   "cell_type": "code",
   "execution_count": 39,
   "id": "362ef4b2",
   "metadata": {},
   "outputs": [
    {
     "name": "stdout",
     "output_type": "stream",
     "text": [
      "0.9093240595611286\n"
     ]
    }
   ],
   "source": [
    " # RandomForestClassifier\n",
    "print(cross_val_score(rf,x,y,cv=cross_validation).mean())"
   ]
  },
  {
   "cell_type": "code",
   "execution_count": 40,
   "id": "312b0c4a",
   "metadata": {},
   "outputs": [
    {
     "name": "stdout",
     "output_type": "stream",
     "text": [
      "0.8861735893416928\n"
     ]
    }
   ],
   "source": [
    " # Support Vector Regressor\n",
    "print(cross_val_score(svc,x,y,cv=cross_validation).mean())"
   ]
  },
  {
   "cell_type": "code",
   "execution_count": 41,
   "id": "62e83b80",
   "metadata": {},
   "outputs": [
    {
     "name": "stdout",
     "output_type": "stream",
     "text": [
      "0.874292711598746\n"
     ]
    }
   ],
   "source": [
    " # KNeighborsClassifier\n",
    "print(cross_val_score(knn,x,y,cv=cross_validation).mean())"
   ]
  },
  {
   "cell_type": "markdown",
   "id": "a0f5e394",
   "metadata": {},
   "source": [
    "Random Forest believe to be the best model"
   ]
  },
  {
   "cell_type": "markdown",
   "id": "1252371f",
   "metadata": {},
   "source": [
    "# GridSearch CV"
   ]
  },
  {
   "cell_type": "code",
   "execution_count": 42,
   "id": "df071578",
   "metadata": {},
   "outputs": [],
   "source": [
    "import numpy as np\n",
    "parameter = {'max_depth' : np.arange(2,10),\n",
    "            'criterion':['gini','entropy'],\n",
    "            'n_estimators' : [100],\n",
    "            'max_features' : ['auto','sqrt','log2']}"
   ]
  },
  {
   "cell_type": "code",
   "execution_count": 43,
   "id": "3a48056a",
   "metadata": {},
   "outputs": [],
   "source": [
    "#Applying Gridsearch to best model random forest classifier\n",
    "GCV=GridSearchCV(RandomForestClassifier(),parameter,cv=cross_validation)"
   ]
  },
  {
   "cell_type": "code",
   "execution_count": 44,
   "id": "08fa83e3",
   "metadata": {},
   "outputs": [
    {
     "data": {
      "text/plain": [
       "GridSearchCV(cv=KFold(n_splits=5, random_state=None, shuffle=True),\n",
       "             estimator=RandomForestClassifier(),\n",
       "             param_grid={'criterion': ['gini', 'entropy'],\n",
       "                         'max_depth': array([2, 3, 4, 5, 6, 7, 8, 9]),\n",
       "                         'max_features': ['auto', 'sqrt', 'log2'],\n",
       "                         'n_estimators': [100]})"
      ]
     },
     "execution_count": 44,
     "metadata": {},
     "output_type": "execute_result"
    }
   ],
   "source": [
    "# Grid search CV applied to the Training Dataset\n",
    "GCV.fit(x_train,y_train)"
   ]
  },
  {
   "cell_type": "code",
   "execution_count": 45,
   "id": "4af36bd2",
   "metadata": {},
   "outputs": [
    {
     "data": {
      "text/plain": [
       "{'criterion': 'gini',\n",
       " 'max_depth': 8,\n",
       " 'max_features': 'log2',\n",
       " 'n_estimators': 100}"
      ]
     },
     "execution_count": 45,
     "metadata": {},
     "output_type": "execute_result"
    }
   ],
   "source": [
    "GCV.best_params_"
   ]
  },
  {
   "cell_type": "markdown",
   "id": "3c174ed4",
   "metadata": {},
   "source": [
    "Best Parameter is selected from grid search CV which is\n",
    "\n",
    "'criterion': 'gini','max_depth': 9,'max_features': 'sqrt','n_estimators': 'best'"
   ]
  },
  {
   "cell_type": "markdown",
   "id": "66153bd7",
   "metadata": {},
   "source": [
    "# Best Gridsearch parameter applied to best model"
   ]
  },
  {
   "cell_type": "code",
   "execution_count": 46,
   "id": "55f220d4",
   "metadata": {},
   "outputs": [
    {
     "name": "stdout",
     "output_type": "stream",
     "text": [
      "89.375\n"
     ]
    }
   ],
   "source": [
    "Final_mod = RandomForestClassifier(criterion = 'entropy', max_depth = 8,max_features='auto',n_estimators= 100)\n",
    "Final_mod.fit(x_train, y_train)\n",
    "pred = Final_mod.predict(x_test)\n",
    "acc=accuracy_score(y_test,pred)\n",
    "print(acc*100)"
   ]
  },
  {
   "cell_type": "markdown",
   "id": "3a0ad3ad",
   "metadata": {},
   "source": [
    "Final Accuracy of the best model = 89.6875"
   ]
  },
  {
   "cell_type": "markdown",
   "id": "39d8574c",
   "metadata": {},
   "source": [
    "# AUC ROC Curve"
   ]
  },
  {
   "cell_type": "code",
   "execution_count": 47,
   "id": "e9b066ec",
   "metadata": {},
   "outputs": [
    {
     "data": {
      "image/png": "[encoded data removed]",
      "text/plain": [
       "<Figure size 432x288 with 1 Axes>"
      ]
     },
     "metadata": {
      "needs_background": "light"
     },
     "output_type": "display_data"
    },
    {
     "data": {
      "text/plain": [
       "0.691138648585457"
      ]
     },
     "execution_count": 47,
     "metadata": {},
     "output_type": "execute_result"
    }
   ],
   "source": [
    "y_pred_prob= Final_mod.predict_proba(x_test)[:,1]\n",
    "fpr,tpr,thresholds=roc_curve(y_test,y_pred_prob)\n",
    "plt.plot([0,1],[0,1],'k--')\n",
    "plt.plot(fpr,tpr,label='Decision tree classifier')\n",
    "plt.xlabel('False positive rate')\n",
    "plt.ylabel('True positive rate')\n",
    "plt.title('Decision Tree Classifier')\n",
    "plt.show()\n",
    "auc_score=roc_auc_score(y_test,Final_mod.predict(x_test))\n",
    "auc_score"
   ]
  },
  {
   "cell_type": "markdown",
   "id": "cebda998",
   "metadata": {},
   "source": [
    "In above case the curve is closer to top left corner hence I believe the model will give better performance."
   ]
  },
  {
   "cell_type": "markdown",
   "id": "5d67bc6e",
   "metadata": {},
   "source": [
    "# Exporting Model file with joblib library"
   ]
  },
  {
   "cell_type": "code",
   "execution_count": 48,
   "id": "1a0f1b0f",
   "metadata": {},
   "outputs": [
    {
     "data": {
      "text/plain": [
       "['FinalModel.pkl']"
      ]
     },
     "execution_count": 48,
     "metadata": {},
     "output_type": "execute_result"
    }
   ],
   "source": [
    "#Exporting ML Model as .pkl file with joblib library\n",
    "import joblib\n",
    "joblib.dump(Final_mod,\"FinalModel.pkl\")"
   ]
  },
  {
   "cell_type": "code",
   "execution_count": null,
   "id": "ce928764",
   "metadata": {},
   "outputs": [],
   "source": []
  }
 ],
 "metadata": {
  "kernelspec": {
   "display_name": "Python 3",
   "language": "python",
   "name": "python3"
  },
  "language_info": {
   "codemirror_mode": {
    "name": "ipython",
    "version": 3
   },
   "file_extension": ".py",
   "mimetype": "text/x-python",
   "name": "python",
   "nbconvert_exporter": "python",
   "pygments_lexer": "ipython3",
   "version": "3.8.8"
  }
 },
 "nbformat": 4,
 "nbformat_minor": 5
}
